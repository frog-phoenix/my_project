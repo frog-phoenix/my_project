{
 "cells": [
  {
   "cell_type": "markdown",
   "metadata": {},
   "source": [
    "# Проект - анализ данных игрового мобильного приложения"
   ]
  },
  {
   "cell_type": "markdown",
   "metadata": {},
   "source": [
    "## Содержание\n",
    "\n",
    "- **[Постановка задачи](#Постановка-задачи)**\n",
    "- **[0. Импорт библиотек и собственные функции](#0.-Импорт-библиотек-и-собственные-функции)**\n",
    "- **[1. Рассчет Retention игроков](#1.-Рассчет-Retention-игроков)**\n",
    "    - [1.1 Найдем для каждого пользователя дни(и их количество), в которые он заходил в игру](#1.1-Найдем-для-каждого-пользователя-дни(и-их-количество),-в-которые-он-заходил-в-игру)\n",
    "    - [1.2 Найдем общий Retention](#1.2-Найдем-общий-Retention)\n",
    "    - [1.3 Найдем Retention в важные дни для какого-то промежутка времени](#1.3-Найдем-Retention-в-важные-дни-для-какого-то-промежутка-времени)\n",
    "- **[2. Оценка результатов A/B теста различных наборов акционных предложений](#2.-Оценка-результатов-A/B-теста-различных-наборов-акционных-предложений)**\n",
    "    - [2.1 Основные метрики для этого A/B теста](#2.1-Основные-метрики-для-этого-A/B-теста)\n",
    "    - [2.2 Гипотеза о равенстве средних revenue со всех пользователей(ARPU)](#2.2-Гипотеза-о-равенстве-средних-revenue-со-всех-пользователей(ARPU))\n",
    "    - [2.3 Гипотеза о равенстве средних revenue с платящих пользователей(ARPPU)](#2.3-Гипотеза-о-равенстве-средних-revenue-с-платящих-пользователей(ARPPU))\n",
    "    - [2.4 Гипотеза о равенстве квантилей ARPPU](#2.4-Гипотеза-о-равенстве-квантилей-ARPPU)\n",
    "    - [2.5 Гипотеза о равенстве CR в покупателя](#2.5-Гипотеза-о-равенстве-CR-в-покупателя)\n",
    "    - [2.6 Выводы и теории](#2.6-Выводы-и-теории)\n",
    "- **[3. Выбор метрик для оценки результатов тематических ежемесячных событий](#3.-Выбор-метрик-для-оценки-результатов-тематических-ежемесячных-событий)**"
   ]
  },
  {
   "cell_type": "markdown",
   "metadata": {},
   "source": [
    "## Постановка задачи\n",
    "\n",
    "Представьте, что вы работаете в компании, которая разрабатывает мобильные игры. К вам пришел менеджер с рядом задач по исследованию нескольких аспектов мобильного приложения:\n",
    "\n",
    "В первую очередь, его интересует показатель retention. Напишите функцию для его подсчета.\n",
    "Помимо этого, в компании провели A/B тестирование наборов акционных предложений. На основе имеющихся данных определите, какой набор можно считать лучшим и на основе каких метрик стоит принять правильное решение.\n",
    "Предложите метрики для оценки результатов последнего прошедшего тематического события в игре.     \n",
    "Или точнее:\n",
    "\n",
    "> _1. Retention – один из самых важных показателей в компании. Ваша задача – написать функцию, которая будет считать retention игроков (по дням от даты регистрации игрока)._\n",
    "\n",
    "> _2. Имеются результаты A/B теста, в котором двум группам пользователей предлагались различные наборы акционных предложений. Известно, что ARPU в тестовой группе выше на 5%, чем в контрольной. Какой набор предложений можно считать лучшим? Какие метрики стоит проанализировать для принятия правильного решения и как?_\n",
    "\n",
    "> _3. В игре Plants & Gardens каждый месяц проводятся тематические события, ограниченные по времени. В них игроки могут получить уникальные предметы для сада и персонажей, дополнительные монеты или бонусы. Для получения награды требуется пройти ряд уровней за определенное время. С помощью каких метрик можно оценить результаты последнего прошедшего события? Предположим, в другом событии мы усложнили механику событий так, что при каждой неудачной попытке выполнения уровня игрок будет откатываться на несколько уровней назад. Изменится ли набор метрик оценки результата? Если да, то как?_"
   ]
  },
  {
   "cell_type": "markdown",
   "metadata": {},
   "source": [
    "## Данные\n",
    "\n",
    "#### Задание 1 \n",
    "`reg_data.csv` – информация о регистрации пользователей:\n",
    "\n",
    "| |                                                                               |\n",
    "| :----------------| :-------------------------------------------------------------------------------------|\n",
    "| reg_ts           | время регистрации в формате total_seconds                                             |\n",
    "| uid              | идентификатор пользователя                                                            |\n",
    " \n",
    "`auth_data` – информация заходах пользователей в приложение:\n",
    "\n",
    "| |                                                                               |\n",
    "| :----------------| :-------------------------------------------------------------------------------------|\n",
    "| auth_ts          | время аутентификации в формате total_seconds                                          |\n",
    "| uid              | идентификатор пользователя                                                            |\n",
    "\n",
    "#### Задание 2\n",
    "\n",
    "`task_a_b.csv` - имем файл с результатами A/B теста:е:\n",
    "\n",
    "| |                                                                               |\n",
    "| :----------------| :-------------------------------------------------------------------------------------|\n",
    "| user_id          | идентификатор пользователя                                                            |\n",
    "| revenue          | доход с пользователя                                                                  |\n",
    "| testgroup        | лейбл группы - a или b                                                                |\n"
   ]
  },
  {
   "cell_type": "markdown",
   "metadata": {},
   "source": [
    "## 0. Импорт библиотек и собственные функции"
   ]
  },
  {
   "cell_type": "markdown",
   "metadata": {},
   "source": [
    "Импорт библиотек:"
   ]
  },
  {
   "cell_type": "code",
   "execution_count": 1,
   "metadata": {},
   "outputs": [],
   "source": [
    "import pandas as pd\n",
    "import numpy as np\n",
    "from scipy.stats import norm\n",
    "\n",
    "from datetime import datetime\n",
    "from tqdm.auto import tqdm\n",
    "\n",
    "import matplotlib.pyplot as plt\n",
    "import seaborn as sns\n",
    "%matplotlib inline"
   ]
  },
  {
   "cell_type": "markdown",
   "metadata": {},
   "source": [
    "Собственные используемые функции:"
   ]
  },
  {
   "cell_type": "code",
   "execution_count": 2,
   "metadata": {},
   "outputs": [],
   "source": [
    "def arr_day_ret(df):\n",
    "    '''Функция для нахождения для каждого пользователя дней(и их количества), в которые он заходил в игру'''\n",
    "    df_arr_days = df.groupby('uid').n_day.apply(list).to_frame().reset_index()\n",
    "    df_arr_days['count_days'] = df_arr_days.n_day.apply(lambda x: len(x))\n",
    "    return df_arr_days.sort_values('count_days',ascending=False)"
   ]
  },
  {
   "cell_type": "code",
   "execution_count": 3,
   "metadata": {},
   "outputs": [],
   "source": [
    "def total_ret(df, zero_day, last_day, roll=False):\n",
    "    '''Функция для нахождения количества пользователей, которые за все время\n",
    "       возвращалось на n день для n из промежутка [zero_day, last_day])\n",
    "       Или аналогичный rolling retention'''\n",
    "    ret = []\n",
    "    for i in range(zero_day, last_day+1):\n",
    "        if not roll:\n",
    "            n_day_users = df.query('n_day == @i').uid.nunique()\n",
    "        else:\n",
    "            n_day_users = df.query('n_day >= @i').uid.nunique()\n",
    "        ret.append(round(n_day_users / 1000000 * 100, 2))    \n",
    "    return ret"
   ]
  },
  {
   "cell_type": "code",
   "execution_count": 4,
   "metadata": {},
   "outputs": [],
   "source": [
    "def ret_dat(df, zero_data, last_data, req_dat=[1, 3, 7, 14, 30, 180],  roll=False):\n",
    "    '''Функция для нахождения retention в нужные дни - массив дней req_dat для людей,\n",
    "    зарегистрировавшихся в какой-то промежуток времени из zero_data - last_data'''\n",
    "    ret_req_dat = []\n",
    "    df_data = df.query(\"@zero_data <= reg_ymd <= @last_data\")\n",
    "    cnt_reg_data = df_data.uid.nunique()\n",
    "    for i in req_dat:\n",
    "        if not roll:\n",
    "            n_day_users = df_data.query('n_day == @i').uid.nunique()\n",
    "        else:\n",
    "            n_day_users = df_data.query('n_day >= @i').uid.nunique()\n",
    "        ret_req_dat.append(round(n_day_users / cnt_reg_data * 100, 2))\n",
    "    return ret_req_dat"
   ]
  },
  {
   "cell_type": "code",
   "execution_count": 5,
   "metadata": {},
   "outputs": [],
   "source": [
    "def ret_year(df, zero_year, last_year, roll=False, cnt=False):\n",
    "    '''Функция для нахождения retention по годам - для каждого года считаем retention на дни из req_dat\n",
    "        roll - rolling retention или обычный, cnt - нужно ли кроме процента выводить количество пользователей'''\n",
    "    years = list(map(lambda x: str(x)+'-01-01', [i for i in range(zero_year, last_year+2)]))\n",
    "    all_arr = []\n",
    "    cnt_reg_year = []\n",
    "    req_dat=[1, 3, 7, 14, 30, 180]\n",
    "    \n",
    "    for i in tqdm(req_dat):\n",
    "        i_arr = []\n",
    "        for j in range(len(years)-1):\n",
    "            a, b = years[j], years[j+1]\n",
    "            df_data = df.query(\"@a <= reg_ymd < @b\")\n",
    "            cnt_reg_data = df_data.uid.nunique()\n",
    "            \n",
    "            if not roll:\n",
    "                n_day_users = df_data.query('n_day == @i').uid.nunique()\n",
    "            else:\n",
    "                n_day_users = df_data.query('n_day >= @i').uid.nunique()\n",
    "\n",
    "            if not cnt:\n",
    "                i_arr.append(round(n_day_users / cnt_reg_data * 100, 2))\n",
    "            else:\n",
    "                i_arr.append([round(n_day_users / cnt_reg_data * 100, 2), n_day_users])\n",
    "           \n",
    "            if i == req_dat[0]: \n",
    "                    cnt_reg_year.append(cnt_reg_data)\n",
    "                \n",
    "        all_arr.append(i_arr)\n",
    "        \n",
    "    return pd.DataFrame({'years'  : [i for i in range(zero_year, last_year+1)],\n",
    "                         'cnt_reg': cnt_reg_year,\n",
    "                         '1_day'  : all_arr[0],\n",
    "                         '3_day'  : all_arr[1],\n",
    "                         '7_day'  : all_arr[2],\n",
    "                         '14_day' : all_arr[3],\n",
    "                         '30_day' : all_arr[4],\n",
    "                         '180_day': all_arr[5]})"
   ]
  },
  {
   "cell_type": "code",
   "execution_count": 6,
   "metadata": {},
   "outputs": [],
   "source": [
    "def get_bootstrap(data_column_1, data_column_2,\n",
    "                  statistic = np.mean, n_quant = 0.5,\n",
    "                  boot_it = 1000):\n",
    "    '''Функция для генерации бутрэп-распределений'''\n",
    "    boot_len = max([len(data_column_1), len(data_column_2)])\n",
    "    boot_data = []\n",
    "    for i in range(boot_it): \n",
    "        samples_1 = data_column_1.sample(boot_len, replace = True).values\n",
    "        samples_2 = data_column_2.sample(boot_len, replace = True).values\n",
    "        if statistic == np.quantile:\n",
    "            boot_data.append(statistic(samples_1 - samples_2, n_quant))\n",
    "        else:\n",
    "            boot_data.append(statistic(samples_1 - samples_2))\n",
    "    return boot_data"
   ]
  },
  {
   "cell_type": "code",
   "execution_count": 7,
   "metadata": {},
   "outputs": [],
   "source": [
    "def get_pvalue(boot_data):\n",
    "    '''Функция нахождения pvalue по бутстрапированной разности статистик'''\n",
    "    p_1 = norm.cdf(x = 0, loc =  np.mean(boot_data), scale = np.std(boot_data))\n",
    "    p_2 = norm.cdf(x = 0, loc = -np.mean(boot_data), scale = np.std(boot_data))\n",
    "    p_value = min(p_1, p_2) * 2\n",
    "    \n",
    "    return p_value"
   ]
  },
  {
   "cell_type": "code",
   "execution_count": 8,
   "metadata": {},
   "outputs": [],
   "source": [
    "def plot_ci(pd_boot_data, bootstrap_conf_level = 0.95):\n",
    "    '''Функция для наглядного изображения гистограммы распределения и границ ci - доверительных интервалов'''\n",
    "    left_quant = (1 - bootstrap_conf_level)/2\n",
    "    right_quant = 1 - (1 - bootstrap_conf_level) / 2\n",
    "    ci = pd.DataFrame(pd_boot_data).quantile([left_quant, right_quant])\n",
    "    \n",
    "    plt.hist(pd_boot_data, bins = 50)\n",
    "    plt.style.use('ggplot')\n",
    "    plt.vlines(ci, ymin=0, ymax=50, linestyle='--')"
   ]
  },
  {
   "cell_type": "code",
   "execution_count": 9,
   "metadata": {},
   "outputs": [],
   "source": [
    "def quan_arppu(data_column_1,data_column_2,\n",
    "               need_quant=[0.05, 0.2, 0.4, 0.5, 0.6, 0.8, 0.95], boot_it = 1000):\n",
    "    '''Функция для нахождения распределений разницы бутстрапированных квантилей ARPPU'''\n",
    "    quant = dict()\n",
    "    for i in need_quant:\n",
    "        quant['q_' + str(i)] = get_bootstrap(data_column_1, data_column_2,\n",
    "                                        statistic = np.quantile, n_quant = i, boot_it = boot_it)\n",
    "        \n",
    "    return pd.DataFrame.from_dict(quant)"
   ]
  },
  {
   "cell_type": "code",
   "execution_count": 10,
   "metadata": {},
   "outputs": [],
   "source": [
    "def boot_q():\n",
    "    '''Функция строит боксплоты по бутсрап. данным квантилей ARPPU'''\n",
    "    sns.set(rc={'figure.figsize':(15, 4)})\n",
    "    f, (ax1, ax2) = plt.subplots(1, 2)\n",
    "    sns.boxplot(data=q[['q_0.05', 'q_0.2', 'q_0.4', 'q_0.5', 'q_0.6', 'q_0.8']], ax=ax1)\n",
    "    sns.boxplot(data=q[['q_0.95']].loc[q['q_0.95'] > 25000], ax=ax2)\n",
    "    ax1.set_title('Доверительный интервал разницы')\n",
    "    ax2.set_title('Доверительный интервал разницы')\n",
    "    ax1.set_ylabel('Отклонение разницы от нуля')\n",
    "    ax2.set_ylabel('Отклонение разницы от нуля')\n",
    "    ax1.set_xlabel('diff_boot_quant_a_b')\n",
    "    ax2.set_xlabel('diff_boot_quant_a_b')"
   ]
  },
  {
   "cell_type": "markdown",
   "metadata": {},
   "source": [
    "## 1. Рассчет Retention игроков\n",
    "[Содержание](#Содержание)"
   ]
  },
  {
   "cell_type": "markdown",
   "metadata": {},
   "source": [
    "Считаем и взглянем на данные:"
   ]
  },
  {
   "cell_type": "code",
   "execution_count": 11,
   "metadata": {},
   "outputs": [],
   "source": [
    "reg_data = pd.read_csv('reg_data.csv', sep=';')\n",
    "auth_data = pd.read_csv('auth_data.csv', sep=';')"
   ]
  },
  {
   "cell_type": "code",
   "execution_count": 12,
   "metadata": {},
   "outputs": [
    {
     "data": {
      "text/html": [
       "<div>\n",
       "<style scoped>\n",
       "    .dataframe tbody tr th:only-of-type {\n",
       "        vertical-align: middle;\n",
       "    }\n",
       "\n",
       "    .dataframe tbody tr th {\n",
       "        vertical-align: top;\n",
       "    }\n",
       "\n",
       "    .dataframe thead th {\n",
       "        text-align: right;\n",
       "    }\n",
       "</style>\n",
       "<table border=\"1\" class=\"dataframe\">\n",
       "  <thead>\n",
       "    <tr style=\"text-align: right;\">\n",
       "      <th></th>\n",
       "      <th>reg_ts</th>\n",
       "      <th>uid</th>\n",
       "    </tr>\n",
       "  </thead>\n",
       "  <tbody>\n",
       "    <tr>\n",
       "      <th>0</th>\n",
       "      <td>911382223</td>\n",
       "      <td>1</td>\n",
       "    </tr>\n",
       "    <tr>\n",
       "      <th>1</th>\n",
       "      <td>932683089</td>\n",
       "      <td>2</td>\n",
       "    </tr>\n",
       "    <tr>\n",
       "      <th>2</th>\n",
       "      <td>947802447</td>\n",
       "      <td>3</td>\n",
       "    </tr>\n",
       "    <tr>\n",
       "      <th>3</th>\n",
       "      <td>959523541</td>\n",
       "      <td>4</td>\n",
       "    </tr>\n",
       "    <tr>\n",
       "      <th>4</th>\n",
       "      <td>969103313</td>\n",
       "      <td>5</td>\n",
       "    </tr>\n",
       "  </tbody>\n",
       "</table>\n",
       "</div>"
      ],
      "text/plain": [
       "      reg_ts  uid\n",
       "0  911382223    1\n",
       "1  932683089    2\n",
       "2  947802447    3\n",
       "3  959523541    4\n",
       "4  969103313    5"
      ]
     },
     "execution_count": 12,
     "metadata": {},
     "output_type": "execute_result"
    }
   ],
   "source": [
    "reg_data.head()"
   ]
  },
  {
   "cell_type": "code",
   "execution_count": 13,
   "metadata": {},
   "outputs": [
    {
     "data": {
      "text/html": [
       "<div>\n",
       "<style scoped>\n",
       "    .dataframe tbody tr th:only-of-type {\n",
       "        vertical-align: middle;\n",
       "    }\n",
       "\n",
       "    .dataframe tbody tr th {\n",
       "        vertical-align: top;\n",
       "    }\n",
       "\n",
       "    .dataframe thead th {\n",
       "        text-align: right;\n",
       "    }\n",
       "</style>\n",
       "<table border=\"1\" class=\"dataframe\">\n",
       "  <thead>\n",
       "    <tr style=\"text-align: right;\">\n",
       "      <th></th>\n",
       "      <th>auth_ts</th>\n",
       "      <th>uid</th>\n",
       "    </tr>\n",
       "  </thead>\n",
       "  <tbody>\n",
       "    <tr>\n",
       "      <th>0</th>\n",
       "      <td>911382223</td>\n",
       "      <td>1</td>\n",
       "    </tr>\n",
       "    <tr>\n",
       "      <th>1</th>\n",
       "      <td>932683089</td>\n",
       "      <td>2</td>\n",
       "    </tr>\n",
       "    <tr>\n",
       "      <th>2</th>\n",
       "      <td>932921206</td>\n",
       "      <td>2</td>\n",
       "    </tr>\n",
       "    <tr>\n",
       "      <th>3</th>\n",
       "      <td>933393015</td>\n",
       "      <td>2</td>\n",
       "    </tr>\n",
       "    <tr>\n",
       "      <th>4</th>\n",
       "      <td>933875379</td>\n",
       "      <td>2</td>\n",
       "    </tr>\n",
       "  </tbody>\n",
       "</table>\n",
       "</div>"
      ],
      "text/plain": [
       "     auth_ts  uid\n",
       "0  911382223    1\n",
       "1  932683089    2\n",
       "2  932921206    2\n",
       "3  933393015    2\n",
       "4  933875379    2"
      ]
     },
     "execution_count": 13,
     "metadata": {},
     "output_type": "execute_result"
    }
   ],
   "source": [
    "auth_data.head()"
   ]
  },
  {
   "cell_type": "code",
   "execution_count": 14,
   "metadata": {},
   "outputs": [
    {
     "name": "stdout",
     "output_type": "stream",
     "text": [
      "<class 'pandas.core.frame.DataFrame'>\n",
      "RangeIndex: 1000000 entries, 0 to 999999\n",
      "Data columns (total 2 columns):\n",
      " #   Column  Non-Null Count    Dtype\n",
      "---  ------  --------------    -----\n",
      " 0   reg_ts  1000000 non-null  int64\n",
      " 1   uid     1000000 non-null  int64\n",
      "dtypes: int64(2)\n",
      "memory usage: 15.3 MB\n"
     ]
    }
   ],
   "source": [
    "reg_data.info()"
   ]
  },
  {
   "cell_type": "code",
   "execution_count": 15,
   "metadata": {},
   "outputs": [
    {
     "name": "stdout",
     "output_type": "stream",
     "text": [
      "<class 'pandas.core.frame.DataFrame'>\n",
      "RangeIndex: 9601013 entries, 0 to 9601012\n",
      "Data columns (total 2 columns):\n",
      " #   Column   Dtype\n",
      "---  ------   -----\n",
      " 0   auth_ts  int64\n",
      " 1   uid      int64\n",
      "dtypes: int64(2)\n",
      "memory usage: 146.5 MB\n"
     ]
    }
   ],
   "source": [
    "auth_data.info()"
   ]
  },
  {
   "cell_type": "code",
   "execution_count": 16,
   "metadata": {},
   "outputs": [
    {
     "data": {
      "text/plain": [
       "auth_ts    0\n",
       "uid        0\n",
       "dtype: int64"
      ]
     },
     "execution_count": 16,
     "metadata": {},
     "output_type": "execute_result"
    }
   ],
   "source": [
    "auth_data.isna().sum()"
   ]
  },
  {
   "cell_type": "markdown",
   "metadata": {},
   "source": [
    "Пропущенных значений не наблюдается, приведем дату к удобному формату       \n",
    "Забавно, что в мобильной игре были регистрации, начиная с 1998 года(что-то подсказывает, что данные не мобильной игры :) )"
   ]
  },
  {
   "cell_type": "code",
   "execution_count": 17,
   "metadata": {},
   "outputs": [],
   "source": [
    "auth_data['auth_ymd'] = pd.to_datetime(auth_data.auth_ts.apply(lambda x : datetime.fromtimestamp(x).strftime('%Y-%m-%d')))\n",
    "reg_data['reg_ymd'] = pd.to_datetime(reg_data.reg_ts.apply(lambda x : datetime.fromtimestamp(x).strftime('%Y-%m-%d')))"
   ]
  },
  {
   "cell_type": "code",
   "execution_count": 18,
   "metadata": {
    "scrolled": true
   },
   "outputs": [
    {
     "data": {
      "text/html": [
       "<div>\n",
       "<style scoped>\n",
       "    .dataframe tbody tr th:only-of-type {\n",
       "        vertical-align: middle;\n",
       "    }\n",
       "\n",
       "    .dataframe tbody tr th {\n",
       "        vertical-align: top;\n",
       "    }\n",
       "\n",
       "    .dataframe thead th {\n",
       "        text-align: right;\n",
       "    }\n",
       "</style>\n",
       "<table border=\"1\" class=\"dataframe\">\n",
       "  <thead>\n",
       "    <tr style=\"text-align: right;\">\n",
       "      <th></th>\n",
       "      <th>uid</th>\n",
       "      <th>auth_ymd</th>\n",
       "    </tr>\n",
       "  </thead>\n",
       "  <tbody>\n",
       "    <tr>\n",
       "      <th>0</th>\n",
       "      <td>1</td>\n",
       "      <td>1998-11-18</td>\n",
       "    </tr>\n",
       "    <tr>\n",
       "      <th>1</th>\n",
       "      <td>2</td>\n",
       "      <td>1999-07-23</td>\n",
       "    </tr>\n",
       "    <tr>\n",
       "      <th>2</th>\n",
       "      <td>2</td>\n",
       "      <td>1999-07-25</td>\n",
       "    </tr>\n",
       "    <tr>\n",
       "      <th>3</th>\n",
       "      <td>2</td>\n",
       "      <td>1999-07-31</td>\n",
       "    </tr>\n",
       "    <tr>\n",
       "      <th>4</th>\n",
       "      <td>2</td>\n",
       "      <td>1999-08-05</td>\n",
       "    </tr>\n",
       "  </tbody>\n",
       "</table>\n",
       "</div>"
      ],
      "text/plain": [
       "   uid   auth_ymd\n",
       "0    1 1998-11-18\n",
       "1    2 1999-07-23\n",
       "2    2 1999-07-25\n",
       "3    2 1999-07-31\n",
       "4    2 1999-08-05"
      ]
     },
     "execution_count": 18,
     "metadata": {},
     "output_type": "execute_result"
    }
   ],
   "source": [
    "auth_data[['uid', 'auth_ymd']].head()"
   ]
  },
  {
   "cell_type": "markdown",
   "metadata": {},
   "source": [
    "Соединим два фрэйма, чтобы подсчитать количество дней с момента регистарции на момент каждой аутентификации"
   ]
  },
  {
   "cell_type": "code",
   "execution_count": 19,
   "metadata": {},
   "outputs": [],
   "source": [
    "df_1 = auth_data[['uid', 'auth_ymd']].merge(reg_data[['uid', 'reg_ymd']], how='left', on='uid')"
   ]
  },
  {
   "cell_type": "markdown",
   "metadata": {},
   "source": [
    "Проверка - уточнил, что у меня данные уже по заходам пользователя не больше раза в день(чтобы лишнее не считать)"
   ]
  },
  {
   "cell_type": "code",
   "execution_count": 20,
   "metadata": {},
   "outputs": [
    {
     "data": {
      "text/plain": [
       "True"
      ]
     },
     "execution_count": 20,
     "metadata": {},
     "output_type": "execute_result"
    }
   ],
   "source": [
    "df_1.shape[0] == df_1.groupby(['uid', 'auth_ymd']).agg({'reg_ymd':'count'}).shape[0]"
   ]
  },
  {
   "cell_type": "code",
   "execution_count": 21,
   "metadata": {},
   "outputs": [],
   "source": [
    "df_1['n_day'] = (df_1.auth_ymd - df_1.reg_ymd)"
   ]
  },
  {
   "cell_type": "code",
   "execution_count": 22,
   "metadata": {},
   "outputs": [],
   "source": [
    "df_1.n_day = df_1.n_day.apply(lambda x: x.days)"
   ]
  },
  {
   "cell_type": "code",
   "execution_count": 23,
   "metadata": {
    "scrolled": true
   },
   "outputs": [
    {
     "data": {
      "text/html": [
       "<div>\n",
       "<style scoped>\n",
       "    .dataframe tbody tr th:only-of-type {\n",
       "        vertical-align: middle;\n",
       "    }\n",
       "\n",
       "    .dataframe tbody tr th {\n",
       "        vertical-align: top;\n",
       "    }\n",
       "\n",
       "    .dataframe thead th {\n",
       "        text-align: right;\n",
       "    }\n",
       "</style>\n",
       "<table border=\"1\" class=\"dataframe\">\n",
       "  <thead>\n",
       "    <tr style=\"text-align: right;\">\n",
       "      <th></th>\n",
       "      <th>uid</th>\n",
       "      <th>auth_ymd</th>\n",
       "      <th>reg_ymd</th>\n",
       "      <th>n_day</th>\n",
       "    </tr>\n",
       "  </thead>\n",
       "  <tbody>\n",
       "    <tr>\n",
       "      <th>0</th>\n",
       "      <td>1</td>\n",
       "      <td>1998-11-18</td>\n",
       "      <td>1998-11-18</td>\n",
       "      <td>0</td>\n",
       "    </tr>\n",
       "    <tr>\n",
       "      <th>1</th>\n",
       "      <td>2</td>\n",
       "      <td>1999-07-23</td>\n",
       "      <td>1999-07-23</td>\n",
       "      <td>0</td>\n",
       "    </tr>\n",
       "    <tr>\n",
       "      <th>2</th>\n",
       "      <td>2</td>\n",
       "      <td>1999-07-25</td>\n",
       "      <td>1999-07-23</td>\n",
       "      <td>2</td>\n",
       "    </tr>\n",
       "    <tr>\n",
       "      <th>3</th>\n",
       "      <td>2</td>\n",
       "      <td>1999-07-31</td>\n",
       "      <td>1999-07-23</td>\n",
       "      <td>8</td>\n",
       "    </tr>\n",
       "    <tr>\n",
       "      <th>4</th>\n",
       "      <td>2</td>\n",
       "      <td>1999-08-05</td>\n",
       "      <td>1999-07-23</td>\n",
       "      <td>13</td>\n",
       "    </tr>\n",
       "  </tbody>\n",
       "</table>\n",
       "</div>"
      ],
      "text/plain": [
       "   uid   auth_ymd    reg_ymd  n_day\n",
       "0    1 1998-11-18 1998-11-18      0\n",
       "1    2 1999-07-23 1999-07-23      0\n",
       "2    2 1999-07-25 1999-07-23      2\n",
       "3    2 1999-07-31 1999-07-23      8\n",
       "4    2 1999-08-05 1999-07-23     13"
      ]
     },
     "execution_count": 23,
     "metadata": {},
     "output_type": "execute_result"
    }
   ],
   "source": [
    "df_1.head()"
   ]
  },
  {
   "cell_type": "markdown",
   "metadata": {},
   "source": [
    "Найдем, все ли пользователи заходили в игру сразу(в тот же день) после регистрации - да,  число совпадает с количеством регистраций"
   ]
  },
  {
   "cell_type": "code",
   "execution_count": 24,
   "metadata": {},
   "outputs": [
    {
     "data": {
      "text/plain": [
       "1000000"
      ]
     },
     "execution_count": 24,
     "metadata": {},
     "output_type": "execute_result"
    }
   ],
   "source": [
    "reg_data.uid.nunique()"
   ]
  },
  {
   "cell_type": "code",
   "execution_count": 25,
   "metadata": {},
   "outputs": [
    {
     "data": {
      "text/plain": [
       "1000000"
      ]
     },
     "execution_count": 25,
     "metadata": {},
     "output_type": "execute_result"
    }
   ],
   "source": [
    "df_1.query('n_day == 0').uid.nunique()"
   ]
  },
  {
   "cell_type": "markdown",
   "metadata": {},
   "source": [
    "### 1.1 Найдем для каждого пользователя дни(и их количество), в которые он заходил в игру   "
   ]
  },
  {
   "cell_type": "markdown",
   "metadata": {},
   "source": [
    "(Детальный взгляд на каждого, можно точно проследить retention самых больших фанатов или отдельных игроков(групп игроков))"
   ]
  },
  {
   "cell_type": "code",
   "execution_count": 26,
   "metadata": {},
   "outputs": [
    {
     "data": {
      "text/html": [
       "<div>\n",
       "<style scoped>\n",
       "    .dataframe tbody tr th:only-of-type {\n",
       "        vertical-align: middle;\n",
       "    }\n",
       "\n",
       "    .dataframe tbody tr th {\n",
       "        vertical-align: top;\n",
       "    }\n",
       "\n",
       "    .dataframe thead th {\n",
       "        text-align: right;\n",
       "    }\n",
       "</style>\n",
       "<table border=\"1\" class=\"dataframe\">\n",
       "  <thead>\n",
       "    <tr style=\"text-align: right;\">\n",
       "      <th></th>\n",
       "      <th>uid</th>\n",
       "      <th>n_day</th>\n",
       "      <th>count_days</th>\n",
       "    </tr>\n",
       "  </thead>\n",
       "  <tbody>\n",
       "    <tr>\n",
       "      <th>1</th>\n",
       "      <td>2</td>\n",
       "      <td>[0, 2, 8, 13, 19, 22, 26, 28, 34, 38, 41, 42, ...</td>\n",
       "      <td>1929</td>\n",
       "    </tr>\n",
       "    <tr>\n",
       "      <th>99</th>\n",
       "      <td>108</td>\n",
       "      <td>[0, 2, 9, 11, 17, 23, 24, 30, 31, 34, 40, 46, ...</td>\n",
       "      <td>1397</td>\n",
       "    </tr>\n",
       "    <tr>\n",
       "      <th>148</th>\n",
       "      <td>158</td>\n",
       "      <td>[0, 3, 5, 9, 15, 16, 18, 19, 22, 25, 28, 34, 3...</td>\n",
       "      <td>1367</td>\n",
       "    </tr>\n",
       "    <tr>\n",
       "      <th>163</th>\n",
       "      <td>176</td>\n",
       "      <td>[0, 6, 12, 14, 17, 24, 25, 26, 33, 35, 40, 47,...</td>\n",
       "      <td>1331</td>\n",
       "    </tr>\n",
       "    <tr>\n",
       "      <th>175</th>\n",
       "      <td>191</td>\n",
       "      <td>[0, 3, 8, 9, 15, 18, 25, 28, 30, 31, 37, 40, 4...</td>\n",
       "      <td>1296</td>\n",
       "    </tr>\n",
       "  </tbody>\n",
       "</table>\n",
       "</div>"
      ],
      "text/plain": [
       "     uid                                              n_day  count_days\n",
       "1      2  [0, 2, 8, 13, 19, 22, 26, 28, 34, 38, 41, 42, ...        1929\n",
       "99   108  [0, 2, 9, 11, 17, 23, 24, 30, 31, 34, 40, 46, ...        1397\n",
       "148  158  [0, 3, 5, 9, 15, 16, 18, 19, 22, 25, 28, 34, 3...        1367\n",
       "163  176  [0, 6, 12, 14, 17, 24, 25, 26, 33, 35, 40, 47,...        1331\n",
       "175  191  [0, 3, 8, 9, 15, 18, 25, 28, 30, 31, 37, 40, 4...        1296"
      ]
     },
     "execution_count": 26,
     "metadata": {},
     "output_type": "execute_result"
    }
   ],
   "source": [
    "arr_day_ret(df_1).head()"
   ]
  },
  {
   "cell_type": "markdown",
   "metadata": {},
   "source": [
    "### 1.2 Найдем общий Retention  "
   ]
  },
  {
   "cell_type": "markdown",
   "metadata": {},
   "source": [
    "Процент пользователей, возвращающихся в конкретные дни с 0 по 10"
   ]
  },
  {
   "cell_type": "code",
   "execution_count": 27,
   "metadata": {},
   "outputs": [
    {
     "data": {
      "text/plain": [
       "[100.0, 2.01, 4.11, 4.61, 5.24, 5.97, 6.84, 5.81, 4.75, 4.99, 5.08]"
      ]
     },
     "execution_count": 27,
     "metadata": {},
     "output_type": "execute_result"
    }
   ],
   "source": [
    "total_ret(df_1, 0, 10, roll=False)"
   ]
  },
  {
   "cell_type": "markdown",
   "metadata": {},
   "source": [
    "Аналогичный rolling retention для дней с 0 по 10"
   ]
  },
  {
   "cell_type": "code",
   "execution_count": 28,
   "metadata": {},
   "outputs": [
    {
     "data": {
      "text/plain": [
       "[100.0, 23.84, 23.67, 23.32, 22.93, 22.46, 21.94, 21.33, 20.8, 20.36, 19.88]"
      ]
     },
     "execution_count": 28,
     "metadata": {},
     "output_type": "execute_result"
    }
   ],
   "source": [
    "total_ret(df_1, 0, 10, roll=True)"
   ]
  },
  {
   "cell_type": "markdown",
   "metadata": {},
   "source": [
    "Визуализируем общий обычный retention первых 60 дней"
   ]
  },
  {
   "cell_type": "code",
   "execution_count": 29,
   "metadata": {},
   "outputs": [
    {
     "data": {
      "text/plain": [
       "Text(0, 0.5, '% пользователей, вернувшихся в n-ый день')"
      ]
     },
     "execution_count": 29,
     "metadata": {},
     "output_type": "execute_result"
    },
    {
     "data": {
      "image/png": "[encoded data removed]",
      "text/plain": [
       "<Figure size 1440x504 with 1 Axes>"
      ]
     },
     "metadata": {},
     "output_type": "display_data"
    }
   ],
   "source": [
    "sns.set(rc={'figure.figsize':(20,7)})\n",
    "\n",
    "ax = sns.barplot(x=[i for i in range(1, 61)], y=total_ret(df_1, 1, 60, roll=False))\n",
    "ax.set_title('Общий retenrion первых 60 дней')\n",
    "ax.set_xlabel('Дни с момента регистрации')\n",
    "ax.set_ylabel('% пользователей, вернувшихся в n-ый день')"
   ]
  },
  {
   "cell_type": "markdown",
   "metadata": {},
   "source": [
    "### 1.3 Найдем Retention в важные дни для какого-то промежутка времени"
   ]
  },
  {
   "cell_type": "markdown",
   "metadata": {},
   "source": [
    "Можно для любой даты регистрации найти Retention для самых нужных n - возьмем для примера 1, 3, 7, 14, 30, 60, 180 дни.\n",
    "Но так как в среднем в день у нас бывает не так много регистраций:"
   ]
  },
  {
   "cell_type": "code",
   "execution_count": 30,
   "metadata": {},
   "outputs": [
    {
     "data": {
      "text/html": [
       "<div>\n",
       "<style scoped>\n",
       "    .dataframe tbody tr th:only-of-type {\n",
       "        vertical-align: middle;\n",
       "    }\n",
       "\n",
       "    .dataframe tbody tr th {\n",
       "        vertical-align: top;\n",
       "    }\n",
       "\n",
       "    .dataframe thead th {\n",
       "        text-align: right;\n",
       "    }\n",
       "</style>\n",
       "<table border=\"1\" class=\"dataframe\">\n",
       "  <thead>\n",
       "    <tr style=\"text-align: right;\">\n",
       "      <th></th>\n",
       "      <th>n_uniq_reg</th>\n",
       "    </tr>\n",
       "  </thead>\n",
       "  <tbody>\n",
       "    <tr>\n",
       "      <th>count</th>\n",
       "      <td>5110.000000</td>\n",
       "    </tr>\n",
       "    <tr>\n",
       "      <th>mean</th>\n",
       "      <td>1878.867515</td>\n",
       "    </tr>\n",
       "    <tr>\n",
       "      <th>std</th>\n",
       "      <td>2165.565142</td>\n",
       "    </tr>\n",
       "    <tr>\n",
       "      <th>min</th>\n",
       "      <td>1.000000</td>\n",
       "    </tr>\n",
       "    <tr>\n",
       "      <th>25%</th>\n",
       "      <td>8.000000</td>\n",
       "    </tr>\n",
       "    <tr>\n",
       "      <th>50%</th>\n",
       "      <td>874.500000</td>\n",
       "    </tr>\n",
       "    <tr>\n",
       "      <th>75%</th>\n",
       "      <td>3579.750000</td>\n",
       "    </tr>\n",
       "    <tr>\n",
       "      <th>max</th>\n",
       "      <td>7933.000000</td>\n",
       "    </tr>\n",
       "  </tbody>\n",
       "</table>\n",
       "</div>"
      ],
      "text/plain": [
       "        n_uniq_reg\n",
       "count  5110.000000\n",
       "mean   1878.867515\n",
       "std    2165.565142\n",
       "min       1.000000\n",
       "25%       8.000000\n",
       "50%     874.500000\n",
       "75%    3579.750000\n",
       "max    7933.000000"
      ]
     },
     "execution_count": 30,
     "metadata": {},
     "output_type": "execute_result"
    }
   ],
   "source": [
    "df_1.groupby('reg_ymd').agg({'uid':'count'}).rename(columns={'uid': 'n_uniq_reg'}).describe()"
   ]
  },
  {
   "cell_type": "markdown",
   "metadata": {},
   "source": [
    "Итого, напишем функцию для подсчета Retention в [1, 3, 7, 14, 30, 60, 180] дни для какого-то промежутка времени        \n",
    "(Можно поменять один знак и тогда уже это будет rolling retention - удержание на n день или любой другой после него, тоже вещь полезная, особенно для инвесторов :) ) + Можно сравнивать промежутки между собой(например после проведения А/B теста, чтобы потом генерировать/начинать более подробно проверять гипотезы)"
   ]
  },
  {
   "cell_type": "markdown",
   "metadata": {},
   "source": [
    "Получили показатели Retention для [1, 3, 7, 14, 30, 60, 180] дней для пользователей, зарегистировавшихся в сентябре 2010 года"
   ]
  },
  {
   "cell_type": "code",
   "execution_count": 31,
   "metadata": {},
   "outputs": [
    {
     "data": {
      "text/plain": [
       "[0.83, 4.17, 2.5, 5.0, 2.5, 1.67]"
      ]
     },
     "execution_count": 31,
     "metadata": {},
     "output_type": "execute_result"
    }
   ],
   "source": [
    "ret_dat(df_1, '2010-09-01', '2010-09-30', req_dat=[1, 3, 7, 14, 30, 180],  roll=False)"
   ]
  },
  {
   "cell_type": "markdown",
   "metadata": {},
   "source": [
    "Соответствующий Rolling Retention"
   ]
  },
  {
   "cell_type": "code",
   "execution_count": 32,
   "metadata": {},
   "outputs": [
    {
     "data": {
      "text/plain": [
       "[27.5, 26.67, 22.5, 18.33, 12.5, 3.33]"
      ]
     },
     "execution_count": 32,
     "metadata": {},
     "output_type": "execute_result"
    }
   ],
   "source": [
    "ret_dat(df_1, '2010-09-01', '2010-09-30', req_dat=[1, 3, 7, 14, 30, 180],  roll=True)"
   ]
  },
  {
   "cell_type": "markdown",
   "metadata": {},
   "source": [
    "Интересно будет сравнить, менялся ли retention от года к году -> напишем функцию для подсчета       \n",
    "(полные данные есть в наешм случае за 1999 - 2019 года)"
   ]
  },
  {
   "cell_type": "code",
   "execution_count": 33,
   "metadata": {},
   "outputs": [
    {
     "data": {
      "application/vnd.jupyter.widget-view+json": {
       "model_id": "6778239a09ef47eb8979a3c3882105c0",
       "version_major": 2,
       "version_minor": 0
      },
      "text/plain": [
       "  0%|          | 0/6 [00:00<?, ?it/s]"
      ]
     },
     "metadata": {},
     "output_type": "display_data"
    },
    {
     "data": {
      "text/html": [
       "<div>\n",
       "<style scoped>\n",
       "    .dataframe tbody tr th:only-of-type {\n",
       "        vertical-align: middle;\n",
       "    }\n",
       "\n",
       "    .dataframe tbody tr th {\n",
       "        vertical-align: top;\n",
       "    }\n",
       "\n",
       "    .dataframe thead th {\n",
       "        text-align: right;\n",
       "    }\n",
       "</style>\n",
       "<table border=\"1\" class=\"dataframe\">\n",
       "  <thead>\n",
       "    <tr style=\"text-align: right;\">\n",
       "      <th></th>\n",
       "      <th>years</th>\n",
       "      <th>cnt_reg</th>\n",
       "      <th>1_day</th>\n",
       "      <th>3_day</th>\n",
       "      <th>7_day</th>\n",
       "      <th>14_day</th>\n",
       "      <th>30_day</th>\n",
       "      <th>180_day</th>\n",
       "    </tr>\n",
       "  </thead>\n",
       "  <tbody>\n",
       "    <tr>\n",
       "      <th>0</th>\n",
       "      <td>1999</td>\n",
       "      <td>1</td>\n",
       "      <td>0.00</td>\n",
       "      <td>0.00</td>\n",
       "      <td>0.00</td>\n",
       "      <td>0.00</td>\n",
       "      <td>0.00</td>\n",
       "      <td>0.00</td>\n",
       "    </tr>\n",
       "    <tr>\n",
       "      <th>1</th>\n",
       "      <td>2000</td>\n",
       "      <td>4</td>\n",
       "      <td>0.00</td>\n",
       "      <td>0.00</td>\n",
       "      <td>0.00</td>\n",
       "      <td>0.00</td>\n",
       "      <td>0.00</td>\n",
       "      <td>0.00</td>\n",
       "    </tr>\n",
       "    <tr>\n",
       "      <th>2</th>\n",
       "      <td>2001</td>\n",
       "      <td>6</td>\n",
       "      <td>0.00</td>\n",
       "      <td>0.00</td>\n",
       "      <td>0.00</td>\n",
       "      <td>0.00</td>\n",
       "      <td>0.00</td>\n",
       "      <td>0.00</td>\n",
       "    </tr>\n",
       "    <tr>\n",
       "      <th>3</th>\n",
       "      <td>2002</td>\n",
       "      <td>10</td>\n",
       "      <td>0.00</td>\n",
       "      <td>0.00</td>\n",
       "      <td>20.00</td>\n",
       "      <td>10.00</td>\n",
       "      <td>0.00</td>\n",
       "      <td>0.00</td>\n",
       "    </tr>\n",
       "    <tr>\n",
       "      <th>4</th>\n",
       "      <td>2003</td>\n",
       "      <td>20</td>\n",
       "      <td>5.00</td>\n",
       "      <td>10.00</td>\n",
       "      <td>15.00</td>\n",
       "      <td>0.00</td>\n",
       "      <td>0.00</td>\n",
       "      <td>0.00</td>\n",
       "    </tr>\n",
       "    <tr>\n",
       "      <th>5</th>\n",
       "      <td>2004</td>\n",
       "      <td>35</td>\n",
       "      <td>0.00</td>\n",
       "      <td>0.00</td>\n",
       "      <td>5.71</td>\n",
       "      <td>11.43</td>\n",
       "      <td>5.71</td>\n",
       "      <td>0.00</td>\n",
       "    </tr>\n",
       "    <tr>\n",
       "      <th>6</th>\n",
       "      <td>2005</td>\n",
       "      <td>65</td>\n",
       "      <td>0.00</td>\n",
       "      <td>6.15</td>\n",
       "      <td>7.69</td>\n",
       "      <td>1.54</td>\n",
       "      <td>4.62</td>\n",
       "      <td>0.00</td>\n",
       "    </tr>\n",
       "    <tr>\n",
       "      <th>7</th>\n",
       "      <td>2006</td>\n",
       "      <td>119</td>\n",
       "      <td>1.68</td>\n",
       "      <td>4.20</td>\n",
       "      <td>5.04</td>\n",
       "      <td>4.20</td>\n",
       "      <td>2.52</td>\n",
       "      <td>0.84</td>\n",
       "    </tr>\n",
       "    <tr>\n",
       "      <th>8</th>\n",
       "      <td>2007</td>\n",
       "      <td>216</td>\n",
       "      <td>2.31</td>\n",
       "      <td>7.41</td>\n",
       "      <td>4.17</td>\n",
       "      <td>2.31</td>\n",
       "      <td>1.85</td>\n",
       "      <td>0.93</td>\n",
       "    </tr>\n",
       "    <tr>\n",
       "      <th>9</th>\n",
       "      <td>2008</td>\n",
       "      <td>394</td>\n",
       "      <td>1.78</td>\n",
       "      <td>4.82</td>\n",
       "      <td>7.87</td>\n",
       "      <td>3.55</td>\n",
       "      <td>3.81</td>\n",
       "      <td>1.02</td>\n",
       "    </tr>\n",
       "    <tr>\n",
       "      <th>10</th>\n",
       "      <td>2009</td>\n",
       "      <td>718</td>\n",
       "      <td>2.37</td>\n",
       "      <td>4.18</td>\n",
       "      <td>5.57</td>\n",
       "      <td>4.04</td>\n",
       "      <td>2.37</td>\n",
       "      <td>0.56</td>\n",
       "    </tr>\n",
       "    <tr>\n",
       "      <th>11</th>\n",
       "      <td>2010</td>\n",
       "      <td>1308</td>\n",
       "      <td>1.91</td>\n",
       "      <td>4.89</td>\n",
       "      <td>5.89</td>\n",
       "      <td>5.05</td>\n",
       "      <td>3.06</td>\n",
       "      <td>0.92</td>\n",
       "    </tr>\n",
       "    <tr>\n",
       "      <th>12</th>\n",
       "      <td>2011</td>\n",
       "      <td>2384</td>\n",
       "      <td>1.93</td>\n",
       "      <td>5.37</td>\n",
       "      <td>5.70</td>\n",
       "      <td>4.49</td>\n",
       "      <td>2.47</td>\n",
       "      <td>1.43</td>\n",
       "    </tr>\n",
       "    <tr>\n",
       "      <th>13</th>\n",
       "      <td>2012</td>\n",
       "      <td>4360</td>\n",
       "      <td>1.95</td>\n",
       "      <td>4.68</td>\n",
       "      <td>5.94</td>\n",
       "      <td>4.68</td>\n",
       "      <td>2.36</td>\n",
       "      <td>1.12</td>\n",
       "    </tr>\n",
       "    <tr>\n",
       "      <th>14</th>\n",
       "      <td>2013</td>\n",
       "      <td>7931</td>\n",
       "      <td>2.16</td>\n",
       "      <td>4.41</td>\n",
       "      <td>5.62</td>\n",
       "      <td>4.60</td>\n",
       "      <td>2.93</td>\n",
       "      <td>1.07</td>\n",
       "    </tr>\n",
       "    <tr>\n",
       "      <th>15</th>\n",
       "      <td>2014</td>\n",
       "      <td>14451</td>\n",
       "      <td>2.16</td>\n",
       "      <td>4.84</td>\n",
       "      <td>6.12</td>\n",
       "      <td>4.61</td>\n",
       "      <td>2.93</td>\n",
       "      <td>1.27</td>\n",
       "    </tr>\n",
       "    <tr>\n",
       "      <th>16</th>\n",
       "      <td>2015</td>\n",
       "      <td>26339</td>\n",
       "      <td>2.16</td>\n",
       "      <td>4.69</td>\n",
       "      <td>6.03</td>\n",
       "      <td>4.61</td>\n",
       "      <td>2.79</td>\n",
       "      <td>1.14</td>\n",
       "    </tr>\n",
       "    <tr>\n",
       "      <th>17</th>\n",
       "      <td>2016</td>\n",
       "      <td>48178</td>\n",
       "      <td>1.96</td>\n",
       "      <td>4.62</td>\n",
       "      <td>5.80</td>\n",
       "      <td>4.62</td>\n",
       "      <td>2.73</td>\n",
       "      <td>1.26</td>\n",
       "    </tr>\n",
       "    <tr>\n",
       "      <th>18</th>\n",
       "      <td>2017</td>\n",
       "      <td>87626</td>\n",
       "      <td>2.00</td>\n",
       "      <td>4.52</td>\n",
       "      <td>5.84</td>\n",
       "      <td>4.65</td>\n",
       "      <td>2.92</td>\n",
       "      <td>1.31</td>\n",
       "    </tr>\n",
       "    <tr>\n",
       "      <th>19</th>\n",
       "      <td>2018</td>\n",
       "      <td>159697</td>\n",
       "      <td>2.02</td>\n",
       "      <td>4.72</td>\n",
       "      <td>5.83</td>\n",
       "      <td>4.61</td>\n",
       "      <td>2.80</td>\n",
       "      <td>1.23</td>\n",
       "    </tr>\n",
       "    <tr>\n",
       "      <th>20</th>\n",
       "      <td>2019</td>\n",
       "      <td>291041</td>\n",
       "      <td>2.02</td>\n",
       "      <td>4.65</td>\n",
       "      <td>5.95</td>\n",
       "      <td>4.53</td>\n",
       "      <td>2.78</td>\n",
       "      <td>1.25</td>\n",
       "    </tr>\n",
       "  </tbody>\n",
       "</table>\n",
       "</div>"
      ],
      "text/plain": [
       "    years  cnt_reg  1_day  3_day  7_day  14_day  30_day  180_day\n",
       "0    1999        1   0.00   0.00   0.00    0.00    0.00     0.00\n",
       "1    2000        4   0.00   0.00   0.00    0.00    0.00     0.00\n",
       "2    2001        6   0.00   0.00   0.00    0.00    0.00     0.00\n",
       "3    2002       10   0.00   0.00  20.00   10.00    0.00     0.00\n",
       "4    2003       20   5.00  10.00  15.00    0.00    0.00     0.00\n",
       "5    2004       35   0.00   0.00   5.71   11.43    5.71     0.00\n",
       "6    2005       65   0.00   6.15   7.69    1.54    4.62     0.00\n",
       "7    2006      119   1.68   4.20   5.04    4.20    2.52     0.84\n",
       "8    2007      216   2.31   7.41   4.17    2.31    1.85     0.93\n",
       "9    2008      394   1.78   4.82   7.87    3.55    3.81     1.02\n",
       "10   2009      718   2.37   4.18   5.57    4.04    2.37     0.56\n",
       "11   2010     1308   1.91   4.89   5.89    5.05    3.06     0.92\n",
       "12   2011     2384   1.93   5.37   5.70    4.49    2.47     1.43\n",
       "13   2012     4360   1.95   4.68   5.94    4.68    2.36     1.12\n",
       "14   2013     7931   2.16   4.41   5.62    4.60    2.93     1.07\n",
       "15   2014    14451   2.16   4.84   6.12    4.61    2.93     1.27\n",
       "16   2015    26339   2.16   4.69   6.03    4.61    2.79     1.14\n",
       "17   2016    48178   1.96   4.62   5.80    4.62    2.73     1.26\n",
       "18   2017    87626   2.00   4.52   5.84    4.65    2.92     1.31\n",
       "19   2018   159697   2.02   4.72   5.83    4.61    2.80     1.23\n",
       "20   2019   291041   2.02   4.65   5.95    4.53    2.78     1.25"
      ]
     },
     "execution_count": 33,
     "metadata": {},
     "output_type": "execute_result"
    }
   ],
   "source": [
    "ret_year(df_1, 1999, 2019, roll=False, cnt=False)"
   ]
  },
  {
   "cell_type": "markdown",
   "metadata": {},
   "source": [
    "Теперь можно проводить так называемый когортный анализ - в зависимости от задачи можно сравнивать, например, показатели по годам, использовать rolling retention, смотреть не только на процент, но и на количество пользователей. Можно дополнить ф-ю для такого же подсчета по месяцам нужных годов. И многое другое всего за 0.95 pval по ссылке в описании...)"
   ]
  },
  {
   "cell_type": "markdown",
   "metadata": {},
   "source": [
    "## 2. Оценка результатов A/B теста различных наборов акционных предложений\n",
    "[Содержание](#Содержание)"
   ]
  },
  {
   "cell_type": "markdown",
   "metadata": {},
   "source": [
    "Считаем данные:"
   ]
  },
  {
   "cell_type": "code",
   "execution_count": 34,
   "metadata": {},
   "outputs": [
    {
     "data": {
      "text/html": [
       "<div>\n",
       "<style scoped>\n",
       "    .dataframe tbody tr th:only-of-type {\n",
       "        vertical-align: middle;\n",
       "    }\n",
       "\n",
       "    .dataframe tbody tr th {\n",
       "        vertical-align: top;\n",
       "    }\n",
       "\n",
       "    .dataframe thead th {\n",
       "        text-align: right;\n",
       "    }\n",
       "</style>\n",
       "<table border=\"1\" class=\"dataframe\">\n",
       "  <thead>\n",
       "    <tr style=\"text-align: right;\">\n",
       "      <th></th>\n",
       "      <th>user_id</th>\n",
       "      <th>revenue</th>\n",
       "      <th>testgroup</th>\n",
       "    </tr>\n",
       "  </thead>\n",
       "  <tbody>\n",
       "    <tr>\n",
       "      <th>0</th>\n",
       "      <td>1</td>\n",
       "      <td>0</td>\n",
       "      <td>b</td>\n",
       "    </tr>\n",
       "    <tr>\n",
       "      <th>1</th>\n",
       "      <td>2</td>\n",
       "      <td>0</td>\n",
       "      <td>a</td>\n",
       "    </tr>\n",
       "    <tr>\n",
       "      <th>2</th>\n",
       "      <td>3</td>\n",
       "      <td>0</td>\n",
       "      <td>a</td>\n",
       "    </tr>\n",
       "    <tr>\n",
       "      <th>3</th>\n",
       "      <td>4</td>\n",
       "      <td>0</td>\n",
       "      <td>b</td>\n",
       "    </tr>\n",
       "    <tr>\n",
       "      <th>4</th>\n",
       "      <td>5</td>\n",
       "      <td>0</td>\n",
       "      <td>b</td>\n",
       "    </tr>\n",
       "  </tbody>\n",
       "</table>\n",
       "</div>"
      ],
      "text/plain": [
       "   user_id  revenue testgroup\n",
       "0        1        0         b\n",
       "1        2        0         a\n",
       "2        3        0         a\n",
       "3        4        0         b\n",
       "4        5        0         b"
      ]
     },
     "execution_count": 34,
     "metadata": {},
     "output_type": "execute_result"
    }
   ],
   "source": [
    "df_2 = pd.read_csv('task_a_b.csv', sep=';')\n",
    "df_2.head()"
   ]
  },
  {
   "cell_type": "markdown",
   "metadata": {},
   "source": [
    "Посмотрим на структуру и возможные пропуски:"
   ]
  },
  {
   "cell_type": "code",
   "execution_count": 35,
   "metadata": {},
   "outputs": [
    {
     "name": "stdout",
     "output_type": "stream",
     "text": [
      "<class 'pandas.core.frame.DataFrame'>\n",
      "RangeIndex: 404770 entries, 0 to 404769\n",
      "Data columns (total 3 columns):\n",
      " #   Column     Non-Null Count   Dtype \n",
      "---  ------     --------------   ----- \n",
      " 0   user_id    404770 non-null  int64 \n",
      " 1   revenue    404770 non-null  int64 \n",
      " 2   testgroup  404770 non-null  object\n",
      "dtypes: int64(2), object(1)\n",
      "memory usage: 9.3+ MB\n"
     ]
    }
   ],
   "source": [
    "df_2.info()"
   ]
  },
  {
   "cell_type": "markdown",
   "metadata": {},
   "source": [
    "Взглянем на распределение покупателей в группах:      \n",
    "(Проверим, что для кажого покупателя указано одно число - доход с этого покупателя, а не разные покупки)"
   ]
  },
  {
   "cell_type": "code",
   "execution_count": 36,
   "metadata": {},
   "outputs": [
    {
     "data": {
      "text/plain": [
       "True"
      ]
     },
     "execution_count": 36,
     "metadata": {},
     "output_type": "execute_result"
    }
   ],
   "source": [
    "df_2.query('revenue > 0').user_id.nunique() == df_2.query('revenue > 0').shape[0]"
   ]
  },
  {
   "cell_type": "markdown",
   "metadata": {},
   "source": [
    "### 2.1 Основные метрики для этого A/B теста"
   ]
  },
  {
   "cell_type": "markdown",
   "metadata": {},
   "source": [
    "Рассчитаем основные метрики для этого A/B теста:\n",
    "Количество людей в группах, количество покупателей, суммарный доход, ARPU, ARPPU"
   ]
  },
  {
   "cell_type": "code",
   "execution_count": 37,
   "metadata": {
    "scrolled": true
   },
   "outputs": [
    {
     "data": {
      "text/html": [
       "<div>\n",
       "<style scoped>\n",
       "    .dataframe tbody tr th:only-of-type {\n",
       "        vertical-align: middle;\n",
       "    }\n",
       "\n",
       "    .dataframe tbody tr th {\n",
       "        vertical-align: top;\n",
       "    }\n",
       "\n",
       "    .dataframe thead th {\n",
       "        text-align: right;\n",
       "    }\n",
       "</style>\n",
       "<table border=\"1\" class=\"dataframe\">\n",
       "  <thead>\n",
       "    <tr style=\"text-align: right;\">\n",
       "      <th></th>\n",
       "      <th>testgroup</th>\n",
       "      <th>cnt_users</th>\n",
       "      <th>cnt_paying_users</th>\n",
       "      <th>sum_rev</th>\n",
       "      <th>CR_p</th>\n",
       "      <th>ARPU</th>\n",
       "      <th>ARPPU</th>\n",
       "    </tr>\n",
       "  </thead>\n",
       "  <tbody>\n",
       "    <tr>\n",
       "      <th>0</th>\n",
       "      <td>a</td>\n",
       "      <td>202103</td>\n",
       "      <td>1928</td>\n",
       "      <td>5136189</td>\n",
       "      <td>0.953969</td>\n",
       "      <td>25.413720</td>\n",
       "      <td>2663.998444</td>\n",
       "    </tr>\n",
       "    <tr>\n",
       "      <th>1</th>\n",
       "      <td>b</td>\n",
       "      <td>202667</td>\n",
       "      <td>1805</td>\n",
       "      <td>5421603</td>\n",
       "      <td>0.890624</td>\n",
       "      <td>26.751287</td>\n",
       "      <td>3003.658172</td>\n",
       "    </tr>\n",
       "  </tbody>\n",
       "</table>\n",
       "</div>"
      ],
      "text/plain": [
       "  testgroup  cnt_users  cnt_paying_users  sum_rev      CR_p       ARPU  \\\n",
       "0         a     202103              1928  5136189  0.953969  25.413720   \n",
       "1         b     202667              1805  5421603  0.890624  26.751287   \n",
       "\n",
       "         ARPPU  \n",
       "0  2663.998444  \n",
       "1  3003.658172  "
      ]
     },
     "execution_count": 37,
     "metadata": {},
     "output_type": "execute_result"
    }
   ],
   "source": [
    "df_2['CR_p'] = df_2.revenue.apply(lambda x: 1 if x>0 else 0)\n",
    "data_ab = pd.DataFrame({'testgroup': ['a', 'b'],\n",
    "              'cnt_users': df_2.groupby('testgroup', as_index=False).agg({'revenue':'count'}).revenue.to_list(),\n",
    "              'cnt_paying_users': df_2.query('revenue > 0').groupby('testgroup').agg({'revenue':'count'}).revenue.to_list(),\n",
    "              'sum_rev': df_2.groupby('testgroup').agg({'revenue':'sum'}).revenue.to_list(),\n",
    "              'CR_p': df_2.groupby('testgroup').agg({'CR_p':'sum'}).CR_p.to_list()})\n",
    "\n",
    "data_ab['ARPU'] = data_ab.sum_rev / data_ab.cnt_users\n",
    "data_ab['ARPPU'] = data_ab.sum_rev / data_ab.cnt_paying_users\n",
    "data_ab['CR_p'] = data_ab.CR_p / data_ab.cnt_users * 100\n",
    "data_ab"
   ]
  },
  {
   "cell_type": "markdown",
   "metadata": {},
   "source": [
    "Распределение revenue в группе A"
   ]
  },
  {
   "cell_type": "code",
   "execution_count": 38,
   "metadata": {},
   "outputs": [
    {
     "data": {
      "text/plain": [
       "Text(0.5, 1.0, 'Распределение revenue в группе A')"
      ]
     },
     "execution_count": 38,
     "metadata": {},
     "output_type": "execute_result"
    },
    {
     "data": {
      "image/png": "[encoded data removed]",
      "text/plain": [
       "<Figure size 720x288 with 1 Axes>"
      ]
     },
     "metadata": {},
     "output_type": "display_data"
    }
   ],
   "source": [
    "sns.set(rc={'figure.figsize':(10, 4)})\n",
    "ax = sns.histplot(df_2.query('revenue > 0 & testgroup == \"a\"').revenue)\n",
    "ax.set_title('Распределение revenue в группе A')"
   ]
  },
  {
   "cell_type": "markdown",
   "metadata": {},
   "source": [
    "Видим заметные выбросы, взглянем подробнее"
   ]
  },
  {
   "cell_type": "code",
   "execution_count": 39,
   "metadata": {
    "scrolled": true
   },
   "outputs": [
    {
     "data": {
      "text/plain": [
       "<AxesSubplot:xlabel='revenue', ylabel='Count'>"
      ]
     },
     "execution_count": 39,
     "metadata": {},
     "output_type": "execute_result"
    },
    {
     "data": {
      "image/png": "[encoded data removed]",
      "text/plain": [
       "<Figure size 720x288 with 2 Axes>"
      ]
     },
     "metadata": {},
     "output_type": "display_data"
    }
   ],
   "source": [
    "sns.set(rc={'figure.figsize':(10, 4)})\n",
    "f, (ax1, ax2) = plt.subplots(1, 2, sharey=True)\n",
    "sns.histplot(df_2.query('0 < revenue < 35000 & testgroup == \"a\"').revenue, ax=ax1)\n",
    "sns.histplot(df_2.query('revenue > 35000 & testgroup == \"a\"').revenue, ax=ax2)"
   ]
  },
  {
   "cell_type": "markdown",
   "metadata": {},
   "source": [
    "Интересно, посмотрим на распредение revenue в группе B:       \n",
    "Видим, что в этом распределении заметных выбросов не наблюдается"
   ]
  },
  {
   "cell_type": "code",
   "execution_count": 40,
   "metadata": {
    "scrolled": false
   },
   "outputs": [
    {
     "data": {
      "text/plain": [
       "Text(0.5, 1.0, 'Распределение revenue в группе A')"
      ]
     },
     "execution_count": 40,
     "metadata": {},
     "output_type": "execute_result"
    },
    {
     "data": {
      "image/png": "[encoded data removed]",
      "text/plain": [
       "<Figure size 360x288 with 1 Axes>"
      ]
     },
     "metadata": {},
     "output_type": "display_data"
    }
   ],
   "source": [
    "sns.set(rc={'figure.figsize':(5, 4)})\n",
    "ax = sns.histplot(df_2.query('revenue > 0 & testgroup == \"b\"').revenue)\n",
    "ax.set_title('Распределение revenue в группе A')"
   ]
  },
  {
   "cell_type": "markdown",
   "metadata": {},
   "source": [
    "Для удобства можно сравнить по-перцентильно:"
   ]
  },
  {
   "cell_type": "code",
   "execution_count": 41,
   "metadata": {},
   "outputs": [
    {
     "data": {
      "text/html": [
       "<div>\n",
       "<style scoped>\n",
       "    .dataframe tbody tr th:only-of-type {\n",
       "        vertical-align: middle;\n",
       "    }\n",
       "\n",
       "    .dataframe tbody tr th {\n",
       "        vertical-align: top;\n",
       "    }\n",
       "\n",
       "    .dataframe thead th {\n",
       "        text-align: right;\n",
       "    }\n",
       "</style>\n",
       "<table border=\"1\" class=\"dataframe\">\n",
       "  <thead>\n",
       "    <tr style=\"text-align: right;\">\n",
       "      <th></th>\n",
       "      <th>quantile</th>\n",
       "      <th>a</th>\n",
       "      <th>b</th>\n",
       "    </tr>\n",
       "  </thead>\n",
       "  <tbody>\n",
       "    <tr>\n",
       "      <th>0</th>\n",
       "      <td>0.05</td>\n",
       "      <td>211.00</td>\n",
       "      <td>2094.0</td>\n",
       "    </tr>\n",
       "    <tr>\n",
       "      <th>1</th>\n",
       "      <td>0.2</td>\n",
       "      <td>246.00</td>\n",
       "      <td>2408.0</td>\n",
       "    </tr>\n",
       "    <tr>\n",
       "      <th>2</th>\n",
       "      <td>0.4</td>\n",
       "      <td>290.00</td>\n",
       "      <td>2810.2</td>\n",
       "    </tr>\n",
       "    <tr>\n",
       "      <th>3</th>\n",
       "      <td>median</td>\n",
       "      <td>311.00</td>\n",
       "      <td>3022.0</td>\n",
       "    </tr>\n",
       "    <tr>\n",
       "      <th>4</th>\n",
       "      <td>0.6</td>\n",
       "      <td>333.20</td>\n",
       "      <td>3211.0</td>\n",
       "    </tr>\n",
       "    <tr>\n",
       "      <th>5</th>\n",
       "      <td>0.8</td>\n",
       "      <td>372.60</td>\n",
       "      <td>3561.6</td>\n",
       "    </tr>\n",
       "    <tr>\n",
       "      <th>6</th>\n",
       "      <td>0.95</td>\n",
       "      <td>37299.65</td>\n",
       "      <td>3891.8</td>\n",
       "    </tr>\n",
       "  </tbody>\n",
       "</table>\n",
       "</div>"
      ],
      "text/plain": [
       "  quantile         a       b\n",
       "0     0.05    211.00  2094.0\n",
       "1      0.2    246.00  2408.0\n",
       "2      0.4    290.00  2810.2\n",
       "3   median    311.00  3022.0\n",
       "4      0.6    333.20  3211.0\n",
       "5      0.8    372.60  3561.6\n",
       "6     0.95  37299.65  3891.8"
      ]
     },
     "execution_count": 41,
     "metadata": {},
     "output_type": "execute_result"
    }
   ],
   "source": [
    "df_q = pd.DataFrame({\n",
    "       'quantile': [0.05, 0.2, 0.4, \"median\", 0.6, 0.8, 0.95],\n",
    "       'a': df_2.query('revenue > 0 & testgroup == \"a\"').revenue.quantile(q=[0.05, 0.2, 0.4, 0.5, 0.6, 0.8, 0.95]).values,\n",
    "       'b': df_2.query('revenue > 0 & testgroup == \"b\"').revenue.quantile(q=[0.05, 0.2, 0.4, 0.5, 0.6, 0.8, 0.95]).values\n",
    "                    })\n",
    "df_q"
   ]
  },
  {
   "cell_type": "markdown",
   "metadata": {},
   "source": [
    "Видим, что до 95 перцентиля значения в группе B примерно в 10 раз больше, а потом - наоборот, в 10 меньше, интересно, похоже на значимые различия, но все гипотезы надо проверять!"
   ]
  },
  {
   "cell_type": "markdown",
   "metadata": {},
   "source": [
    "Пару слов о том, как я намерен проверять гипотезы при помощи бутстрэпа      \n",
    "\n",
    "> __Обладая только данными по имеющейся выборке, у нас есть возможность оценить любой её параметр, построив эмпирическое распределение параметра:__   \n",
    "\n",
    "> __Cтроим бутстрап-распределения параметра в А и B - генерируем подвыборки одинакового размера беря(с возвращением) значения из каждой группый, cчитаем для получившихся двух подвыборок интересующие нас значения(например средние), повторяем нужное количество раз - получаем  бутстрап-распределения.__\n",
    "\n",
    "> __Вычисляем их разницу (производим вычитание матриц) и для получившегося распределения разницы считаем доверительный интервал__    \n",
    "\n",
    "> __Cогласно ЦПТ приняв правильность H0 полученное распределение должно иметь форму нормального со средним в нуле cответственно, если 0 попадает в доверительный интервал(или аналогично pvalue > 0.05), то нулевая гипотеза на заданном уровне значимости не отвергается (возможно принимается) и наоборот.__"
   ]
  },
  {
   "cell_type": "markdown",
   "metadata": {},
   "source": [
    "### 2.2 Гипотеза о равенстве средних revenue со всех пользователей(ARPU)"
   ]
  },
  {
   "cell_type": "markdown",
   "metadata": {},
   "source": [
    "Воспользуемся бутстрэпом, чтобы проверить \n",
    "\n",
    "\\begin{equation*}\n",
    "\\begin{aligned} \n",
    "& H_0: \\text{В двух группах одинаковый ARPU}   \\\\\n",
    "& H_a: \\text{В одной из 2х групп ARPU отличается}  \\\\\n",
    "&      \\text{и заодно выведем доверительные интервалы разницы этих различий, если они есть} \n",
    "\\end{aligned}\n",
    "\\end{equation*}"
   ]
  },
  {
   "cell_type": "code",
   "execution_count": 42,
   "metadata": {
    "scrolled": true
   },
   "outputs": [
    {
     "data": {
      "text/plain": [
       "0.5550001209961766"
      ]
     },
     "execution_count": 42,
     "metadata": {},
     "output_type": "execute_result"
    }
   ],
   "source": [
    "gr_a = df_2.query('testgroup == \"a\"').revenue \n",
    "gr_b = df_2.query('testgroup == \"b\"').revenue\n",
    "\n",
    "\n",
    "booted_data_1 = get_bootstrap(gr_a, gr_b, statistic = np.mean, boot_it = 1000)\n",
    "get_pvalue(booted_data_1)"
   ]
  },
  {
   "cell_type": "code",
   "execution_count": 43,
   "metadata": {},
   "outputs": [
    {
     "data": {
      "image/png": "[encoded data removed]",
      "text/plain": [
       "<Figure size 576x288 with 1 Axes>"
      ]
     },
     "metadata": {},
     "output_type": "display_data"
    }
   ],
   "source": [
    "sns.set(rc={'figure.figsize':(8,4)})\n",
    "plot_ci(booted_data_1)\n",
    "\n",
    "plt.xlabel('diff_boot_ARPU_a_b')\n",
    "plt.ylabel('frequency')\n",
    "plt.show()"
   ]
  },
  {
   "cell_type": "markdown",
   "metadata": {},
   "source": [
    "> __Гипотеза о равенстве ARPU на 5% уровне значимости принимается - статистически значимых различий между ARPU двух групп не обнаружено__"
   ]
  },
  {
   "cell_type": "markdown",
   "metadata": {},
   "source": [
    "### 2.3 Гипотеза о равенстве средних revenue с платящих пользователей(ARPPU)"
   ]
  },
  {
   "cell_type": "markdown",
   "metadata": {},
   "source": [
    "Воспользуемся бутстрэпом, чтобы проверить \n",
    "\n",
    "\\begin{equation*}\n",
    "\\begin{aligned} \n",
    "& H_0: \\text{В двух группах одинаковый ARPPU}   \\\\\n",
    "& H_a: \\text{В одной из 2х групп ARPPU отличается}  \\\\\n",
    "&      \\text{и заодно выведем доверительные интервалы разницы этих различий, если они есть} \n",
    "\\end{aligned}\n",
    "\\end{equation*}"
   ]
  },
  {
   "cell_type": "code",
   "execution_count": 44,
   "metadata": {
    "scrolled": false
   },
   "outputs": [
    {
     "data": {
      "text/plain": [
       "0.10287034696858548"
      ]
     },
     "execution_count": 44,
     "metadata": {},
     "output_type": "execute_result"
    }
   ],
   "source": [
    "gr_a = df_2.query('revenue > 0 & testgroup == \"a\"').revenue\n",
    "gr_b = df_2.query('revenue > 0 & testgroup == \"b\"').revenue\n",
    "booted_data_2 = get_bootstrap(gr_a, gr_b, statistic = np.mean, boot_it = 1000)\n",
    "get_pvalue(booted_data_2)"
   ]
  },
  {
   "cell_type": "code",
   "execution_count": 45,
   "metadata": {},
   "outputs": [
    {
     "data": {
      "image/png": "[encoded data removed]",
      "text/plain": [
       "<Figure size 576x288 with 1 Axes>"
      ]
     },
     "metadata": {},
     "output_type": "display_data"
    }
   ],
   "source": [
    "sns.set(rc={'figure.figsize':(8,4)})\n",
    "plot_ci(booted_data_2)\n",
    "\n",
    "plt.xlabel('diff_boot_ARPPU_a_b')\n",
    "plt.ylabel('frequency')\n",
    "plt.show()"
   ]
  },
  {
   "cell_type": "markdown",
   "metadata": {},
   "source": [
    "> __Гипотеза о равенстве ARPPU на 5% уровне значимости принимается - статистически значимых различий между ARPU двух групп не обнаружено__\n",
    "\n",
    "\n",
    "> __Вывод - если сравнивать при помощи бутстрэпа только средний revenue всех пользователей/платящих пользователей, то не будет выявлена значимая разница, попробуем сравнить другие величины__"
   ]
  },
  {
   "cell_type": "markdown",
   "metadata": {},
   "source": [
    "### 2.4 Гипотеза о равенстве квантилей ARPPU"
   ]
  },
  {
   "cell_type": "markdown",
   "metadata": {},
   "source": [
    "Зато если сравнивать медианту и другие квантили для платящих пользователей, то, вероятно, получится выявить значимые различия. Сравним [0.05, 0.2, 0.4, 0.5, 0.6, 0.8, 0.95] квантили при помощи бутстрэпа:\n",
    "\n",
    "\\begin{equation*}\n",
    "\\begin{aligned} \n",
    "& H_0: \\text{В двух группах одинаковые квантили распределения ARPPU равны}   \\\\\n",
    "& H_a: \\text{В одной из 2х групп одинаковые квантили распределения ARPPU отличается}  \\\\\n",
    "&      \\text{и заодно выведем доверительные интервалы разницы этих различий, если они есть} \n",
    "\\end{aligned}\n",
    "\\end{equation*}"
   ]
  },
  {
   "cell_type": "code",
   "execution_count": 46,
   "metadata": {},
   "outputs": [],
   "source": [
    "gr_a = df_2.query('revenue > 0 & testgroup == \"a\"').revenue\n",
    "gr_b = df_2.query('revenue > 0 & testgroup == \"b\"').revenue\n",
    "\n",
    "q = quan_arppu(gr_a, gr_b)"
   ]
  },
  {
   "cell_type": "code",
   "execution_count": 47,
   "metadata": {},
   "outputs": [
    {
     "data": {
      "image/png": "[encoded data removed]",
      "text/plain": [
       "<Figure size 1080x288 with 2 Axes>"
      ]
     },
     "metadata": {},
     "output_type": "display_data"
    }
   ],
   "source": [
    "boot_q()"
   ]
  },
  {
   "cell_type": "markdown",
   "metadata": {},
   "source": [
    "> __Видим, что всем этим распределениям далеко до 0(+ можно проверить через get_pvalue) -> в ГС есть различия между этими распределениями -> Гипотеза о равенстве квантилей ARPPU отклоняется, в группе B сумма покупки по большинству перцентилей больше, чем в группе A, зато в ней самые крупные покупки на значительно большую сумму.__"
   ]
  },
  {
   "cell_type": "markdown",
   "metadata": {},
   "source": [
    "### 2.5 Гипотеза о равенстве CR в покупателя"
   ]
  },
  {
   "cell_type": "markdown",
   "metadata": {},
   "source": [
    "\\begin{equation*}\n",
    "\\begin{aligned} \n",
    "& H_0: \\text{В двух группах одинаковое СR в покупателя}   \\\\\n",
    "& H_a: \\text{В одной из 2х групп СR в покупателя значимо отличается}  \\\\\n",
    "&      \\text{и заодно выведем доверительные интервалы разницы этих различий, если они есть} \n",
    "\\end{aligned}\n",
    "\\end{equation*}"
   ]
  },
  {
   "cell_type": "code",
   "execution_count": 48,
   "metadata": {},
   "outputs": [
    {
     "data": {
      "text/plain": [
       "0.035365356169697756"
      ]
     },
     "execution_count": 48,
     "metadata": {},
     "output_type": "execute_result"
    }
   ],
   "source": [
    "gr_a = df_2.query('testgroup == \"a\"').revenue.apply(lambda x: 1 if x > 0 else 0)\n",
    "gr_b = df_2.query('testgroup == \"b\"').revenue.apply(lambda x: 1 if x > 0 else 0)\n",
    "\n",
    "booted_data_2 = get_bootstrap(gr_a, gr_b, statistic = np.mean, boot_it = 1000)\n",
    "get_pvalue(booted_data_2)"
   ]
  },
  {
   "cell_type": "code",
   "execution_count": 49,
   "metadata": {},
   "outputs": [
    {
     "data": {
      "image/png": "[encoded data removed]",
      "text/plain": [
       "<Figure size 576x288 with 1 Axes>"
      ]
     },
     "metadata": {},
     "output_type": "display_data"
    }
   ],
   "source": [
    "sns.set(rc={'figure.figsize':(8,4)})\n",
    "plot_ci(booted_data_2)\n",
    "\n",
    "plt.xlabel('diff_boot_cnt_pay_a_b')\n",
    "plt.ylabel('frequency')\n",
    "plt.show()"
   ]
  },
  {
   "cell_type": "markdown",
   "metadata": {},
   "source": [
    "> __Гипотеза о равенстве СR в покупателя на 5% уровне значимости отвергается - обанаружены статистически значимые различия - в группе A СR в покупателя выше, чем в группе B__\n",
    "\n",
    ">__А самое интересное заключается в том, что в A количество покупателей больше ровно на 123(1928 - 1805) человека, но ведь и самых крупных покупателей в этой группе как раз тоже 123 человека(как будто если бы генерировали доп данные для создания приблизительно равного ARPU)__"
   ]
  },
  {
   "cell_type": "code",
   "execution_count": 50,
   "metadata": {},
   "outputs": [
    {
     "data": {
      "text/plain": [
       "123"
      ]
     },
     "execution_count": 50,
     "metadata": {},
     "output_type": "execute_result"
    }
   ],
   "source": [
    "df_2.query('revenue > 35000 & testgroup == \"a\"').user_id.nunique()"
   ]
  },
  {
   "cell_type": "code",
   "execution_count": 51,
   "metadata": {},
   "outputs": [
    {
     "data": {
      "text/plain": [
       "123"
      ]
     },
     "execution_count": 51,
     "metadata": {},
     "output_type": "execute_result"
    }
   ],
   "source": [
    "df_2.query('revenue > 0 & testgroup == \"a\"').shape[0] - df_2.query('revenue > 0 & testgroup == \"b\"').shape[0]"
   ]
  },
  {
   "cell_type": "markdown",
   "metadata": {},
   "source": [
    "### 2.6 Выводы и теории\n",
    ">_Для начала я считаю важным исключить возможность ошибки - появления крупных покупателей в группе A - из-за какого-то бага при сборе и хранении данных revenue может умножаться в 100 раз, а на самом деле они все небольшие(к тому же в группе A больше на 123 человека и ровно 123 человека имеют огромные чеки -  похоже на сбой)._\n",
    "\n",
    ">_Также нужно проверить валидность парсинга данных(для этого удобнее применять A/A/B тестирование), чтобы исключить возможность попадания людей из какго-то диапазона revenue только в одну из групп._\n",
    "\n",
    ">_Если крупные покупки в группе А - это не сбой, хорошо было бы определить природу появления крупных покупателей - посмотреть время их покупок, активность их аккаунта, - это может могли быть единичные случаи или закономерность. Аналогично нужно выяснить, почему таких крупных покупателей не было в группе B(если в теории в проведенной акции это возможно)_\n",
    "\n",
    ">__Итого, при наличии времени желательно удостовариться(возможно и при помощи продления эксперимента и сбора бОльших данных):     \n",
    "1)Что в группе А и правда есть крупные покупатели       \n",
    "2)Что в группе B не появятся(если могут) крупные покупатели        \n",
    "3)Что в группе A и правда бОльшее число покупателей(сейчас больше ровно на количество крупных)__\n",
    "\n",
    ">__Если принять, что эксперимент был проведен правильно и были как-то подтверждены предположения о корретности наших данных(и не случайности крупных покупателей в A), то различия между доходом(на пользователя и общим) в двух группах можно считать статистически незначимыми, зато нашлись опять же значимые различия в СR покупателей, в группе A он больше.__\n",
    "\n",
    ">__А далее, если все корректно и если считать ARPU и ARPPU равными, уже можно отталкиваться от того, сколько и какие платящие пользователи нам нужны, анализировать, сможем ли мы привлечь больше крупных покупателей(это большие фанаты игры или небедные новички и т.д.) или выгоднее будет привлекать большее количество средних покупателей...__"
   ]
  },
  {
   "cell_type": "markdown",
   "metadata": {},
   "source": [
    "## 3. Выбор метрик для оценки результатов тематических ежемесячных событий\n",
    "[Содержание](#Содержание)"
   ]
  },
  {
   "cell_type": "markdown",
   "metadata": {},
   "source": [
    "### Выполнение:"
   ]
  },
  {
   "cell_type": "markdown",
   "metadata": {},
   "source": [
    "Для оценки тематического события в голову сразу приходит большое количетсво метрик, но для начала нужно понять, какой результат мы хотим оценить, или, другими словами - какая была цель проведения нашего тематического события. Предположу, что основными задачами было - повысить лояльность целевой аудитории, увеличить дневной онлайн, возможно - повысить узнаваемость игры за счет того, что в игре появился новый контент и об этом можно говорить(как людям между собой, так и в рекламе). Возможно еще заодно можно увеличить прибыль, продав косметические товары тематического события(вместо того, чтобы проходить уровни, будет возможность купить тематический товар). Также, раз мы измеряем лояльность игроков, можно посмотреть на их достижения во время этого события(кто сколько прошел, сколько нафармил, остался ли доволен, может донатил больше, может меньше и т.д.)."
   ]
  },
  {
   "cell_type": "markdown",
   "metadata": {},
   "source": [
    "Выделю главные метрики и ниже опишу подробнее"
   ]
  },
  {
   "cell_type": "markdown",
   "metadata": {},
   "source": [
    ">__DAU, ASL(средняя продолжительность сессии),        \n",
    "CR в участие и в полное прохождение события, Retention в событии и после него,     \n",
    "ARPU и ARPPU u количесство платящих пользователей__"
   ]
  },
  {
   "cell_type": "markdown",
   "metadata": {},
   "source": [
    "И подробнее - в приведенных выше задачах могут помочь следующие показатели:\n",
    "\n",
    "#### 1. Временные метрики аудитории  \n",
    "\n",
    ">Полезно будет знать, вырос ли общий онлайн в игре(DAU, WAU, за весь период); увеличился ли retention - на сколько и для каких сегметнов аудитории(старички-фаны, новички, обычные) и, в том числе, участвовали ли в событии каждый день(например в событии дейлик на прохождение этих уровней за время); стало ли больше новых регистраций. Можно посмотреть на количество сессий игроков за день и общее количество времени, проведенное в день в игре. Интересно узнать сколько времени игроки тратят на разные уровни, чтобы посмотрев еще на конверсию понять, где игрок проходит уровни легко, а где у него возникают затруднения. Можно проверить, меняется ли retention игроков, участвующих в событии после его завершения.\n",
    ">\n",
    "> По этим критериям можно увидеть в том числе и изменение вовлеченности, а она косвенно будет влиять и на лояльнось - чем больше нравится, тем больше играешь(в разумных пределах). \n",
    "\n",
    "\n",
    "#### 2. Метрики конверсии аудитории    \n",
    "\n",
    ">Неплохо узнать, какому проценту пользователей было интересно наше тематическое событие(какая была конверсия в участие); до какого уровня в среднем доходят игроки и какой процент проходит все событие полностью. У игроков, которые не могут пройти событие до конца, хорошо бы узнать, кто эти игроки и почему у них не получилось(например, если это не так просто и для этого заранее уже требовалось играть, иметь какой-то \"прокачанный\" сад и персонажей или на это требуется очень много игрового и реального времени).   \n",
    ">\n",
    ">По этим показателям тоже можно косвенно видеть удовлетворенность событием, а значит и лояльность аудитории.\n",
    "\n",
    "\n",
    "#### 3. Валютные метрики\n",
    "\n",
    ">Сколько в среднем игроки получили бонусов и не сломало ли это игру, не получил ли кто-то аномально много бонусов \"заабузив\" механику тематического события(если да - разобраться и откатить). Какие бонусы игроки выбирали чаще всего и куда тратили - можно узнать, например, самые востребованные предметы события. \n",
    ">\n",
    ">Аналогично можно вернуться в рельный мир и узнать, вырос ли ARPU и ARPPU(и какой процент от донатов в событие в этом росте), увеличилась ли конверсия в покупку(и в какую - тематических предметов события или вообще). Интерсно будет узнать, как поведут себя пользователи с нетематическими покупками: для прохождения события и получения заветных предметов, например, надо иметь прокачанный сад, а он есть не у всех, поэтому люди будут донатить, потому что это стало выгоднее(и заданатил в сад, и бонус события получил). Или наоборот донатов будет меньше, потому что и так дают награды за прохождения уровней, и зачем еще донатить...\n",
    ">\n",
    "> С помощью этих метрик тоже можно отследить вовлеченность + косвенно, по количеству покупок, понять и отношение пользователей, узнать доход компании от тематического события.\n",
    "\n",
    "\n",
    "#### 4. Метрики работоспособности\n",
    "\n",
    ">В дополнение к анализу конверсий и времени в игре можно комплексно посмотреть, вдруг где-то в игре что-то не рабоает, а этого еще не заметили - очень долгая загрузка и пользователь уходит не дожидаясь; никто уровень пройти не может, ведь там что-то сломано; пользователя выбрасывает из игры и он совершает очень много перезаходов, и отчаявшись, он не заходит в игру или в тематическое событие вообще и т.п.\n",
    ">\n",
    ">Работоспособность на восприятие игры влияет и очень сильно, а значит и на лояльность и на конверсию в покупку\n",
    "\n",
    "\n",
    "#### 5. Дополнение про метрики лояльности\n",
    "\n",
    ">Можно читать отзывы, смотреть их на отдельных новостных ресурсах от комментариев и лайков в магазине с игрой до комментариев и лайков под видеообзорами с гемплеем события на твиче или ютубе. Интересно также узнать, стали ли пользователи чаще делиться достижениями в игре в социальных сетях или реферальными сссылками среди друзей."
   ]
  },
  {
   "cell_type": "markdown",
   "metadata": {},
   "source": [
    "Если мы усложним механику метрики кардинально не изменятся, но надо будет точнее следить за сложностью уровней(на каких уровнях разные игроки чаще всего откатываются)(через конверсию в каждый следующий уровень, DAU и общий retention игроков), чтобы балансировать одновременно и настроение аудитории(которая хочет получить бонусов и побольше и не хочет много проигрывать и откатываться назад) и количество игроков, которые получат много бонусов(чтобы не сломать экономику игры и не сделать донат бесполезным). \n",
    "\n",
    "Соответственно можно добавить метрику, например, после какого количества неудачных попыток пользователь уходит из события и предлагать ему перед этим какие-то бонусы или снижать сложность. Или еще метрику - как долго пользователь не может пройти определенный уровень и после некоторго значения тоже предлагать какие-то бонусы и т.п."
   ]
  },
  {
   "cell_type": "markdown",
   "metadata": {},
   "source": [
    "[Содержание](#Содержание)"
   ]
  }
 ],
 "metadata": {
  "kernelspec": {
   "display_name": "Python 3 (ipykernel)",
   "language": "python",
   "name": "python3"
  },
  "language_info": {
   "codemirror_mode": {
    "name": "ipython",
    "version": 3
   },
   "file_extension": ".py",
   "mimetype": "text/x-python",
   "name": "python",
   "nbconvert_exporter": "python",
   "pygments_lexer": "ipython3",
   "version": "3.9.7"
  }
 },
 "nbformat": 4,
 "nbformat_minor": 4
}
