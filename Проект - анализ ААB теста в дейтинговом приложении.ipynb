{
 "cells": [
  {
   "cell_type": "markdown",
   "metadata": {},
   "source": [
    "# Проект - анализ проведенного А/А/B теста в дейтинговом приложении"
   ]
  },
  {
   "cell_type": "markdown",
   "metadata": {},
   "source": [
    "## Содержание\n",
    "\n",
    "- **[Постановка задачи](#Постановка-задачи)**\n",
    "- **[0. Импорт библиотек и собственные функции](#0.-Импорт-библиотек-и-собственные-функции)**\n",
    "- **[1. Загрузка и предобработка данных](#1.-Загрузка-и-предобработка-данных)**\n",
    "    - [1.1 Первый взгляд на пользователей](#1.1-Первый-взгляд-на-пользователей)\n",
    "    - [1.2 Первый взгляд на транзакции](#1.2-Первый-взгляд-на-транзакции)\n",
    "- **[2. Сравнение групп пользователей и исправление недочетов](#2.-Сравнение-групп-пользователей-и-исправление-недочетов)**\n",
    "- **[3. Обновленные признаки и дополнительные графики для таблиц пользователей](#3.-Обновленные-признаки-и-дополнительные-графики-для-таблиц-пользователей)**\n",
    "- **[4. Проверка качества сплитования](#4.-Проверка-качества-сплитования)**\n",
    "- **[5. Гипотезы и тесты](#5.-Гипотезы-и-тесты)**\n",
    "    - [5.1 Гипотеза о равенстве medianRPPU](#5.1-Гипотеза-о-равенстве-medianRPPU)\n",
    "    - [5.2 Гипотеза о равенстве дохода с оформления  подписок(не пробных)](#5.2-Гипотеза-о-равенстве-дохода-с-оформления-подписок(не-пробных))\n",
    "    - [5.3 Гипотеза о равенстве CR в подписку](#5.3-Гипотеза-о-равенстве-CR-в-подписку)\n",
    "    - [5.4 Гипотеза о равенстве относительной CR из подписки в продление подписки](#5.4-Гипотеза-о-равенстве-относительной-CR-из-подписки-в-продление-подписки)\n",
    "    - [5.5 Гипотеза о равенстве medianRPPU у пользователей из одних и тех же стран](#5.5-Гипотеза-о-равенстве-medianRPPU-у-пользователей-из-одних-и-тех-же-стран)\n",
    "    - [5.6 Гипотеза о равенстве medianRPPU у пользователей одних и тех же возрастов и полов](#5.6-Гипотеза-о-равенстве-medianRPPU-у-пользователей-одних-и-тех-же-возрастов-и-полов)\n",
    "    - [5.7 Гипотеза о равенстве medianRPPU у users с одинаковым количеством дней заходов в приложение](#5.7-Гипотеза-о-равенстве-medianRPPU-у-users-с-одинаковым-количеством-дней-заходов-в-приложение)\n",
    "- **[6. Итоги и выводы](#6.-Итоги-и-выводы)**\n",
    " "
   ]
  },
  {
   "cell_type": "markdown",
   "metadata": {},
   "source": [
    "## Постановка задачи\n",
    "\n",
    "Представьте, что вы работаете в крупном дейтинговом приложении. Помимо базовых функций, в приложении также имеется премиум-подписка, которая дает доступ к ряду важных дополнительных возможностей. Был проведен AА/Б тест, в рамках которого для новых пользователей из нескольких стран была изменена стоимость премиум-подписки при покупке через две новые платежные системы. При этом стоимость пробного периода оставалась прежней.\n",
    "\n",
    "Проверьте:\n",
    "- Был ли эксперимент успешен в целом.\n",
    "- Проанализируйте, имеет ли нововведение смысл среди каких-либо конкретных групп пользователей.\n",
    "\n",
    "*Деньги за подписку списываются ежемесячно до тех пор, пока пользователь её не отменит.*"
   ]
  },
  {
   "cell_type": "markdown",
   "metadata": {},
   "source": [
    "## Данные\n",
    "\n",
    "Всего есть три группы: тестовая (test), контрольная 1 (control_1) и контрольная 2 (control_2). Для каждой из них:<br>\n",
    "#### `users_*.csv` – информация о пользователях:\n",
    "\n",
    "| |                                                                               |\n",
    "| :----------------| :-------------------------------------------------------------------------------------|\n",
    "| uid              | идентификатор пользователя                                                            |\n",
    "| age              | возраст                                                                               |\n",
    "| attraction_coeff | коэффициент привлекательности (от 0 до 1000, $\\frac{лайки}{просмотры}*1000$ )        |\n",
    "| coins            | число монеток (внутренняя валюта)                                                     |\n",
    "| country          | страна                                                                                |\n",
    "| visit_days       | в какие дни после регистрации пользователь посещал приложение  |\n",
    "| gender           | пол                                                                                   |\n",
    "| age_filter_start | фильтр поиска, мин. значение                                                          |\n",
    "| age_filter_end   | фильтр поиска, макс. значение                                                         |\n",
    "| views_count      | число полученных оценок                                                               |\n",
    "| was_premium      | был ли когда-либо премиум (либо пробный премиум, либо купленный за деньги)  |\n",
    "| is_premium       | является ли премиум                                                                   |\n",
    "| total_revenue    | нормированная выручка     \n",
    "\n",
    "\n",
    "#### `transactions_*.csv` – информация о транзакциях:\n",
    "\n",
    "|                  |                                                                                       |\n",
    "| :----------------| :-------------------------------------------------------------------------------------|\n",
    "| uid              | идентификатор пользователя                                                            |\n",
    "| country          | страна                                                                                |\n",
    "| joined_at        | дата и время регистрации                                                              |\n",
    "| paid_at          | дата и время покупки                                                                  |\n",
    "| revenue          | нормированная выручка                                                                 |\n",
    "| payment_id       | идентификатор платежа                                                                 |\n",
    "| from_page        | откуда пользователь перешел на страницу оплаты                                        |\n",
    "| product_type     | тип продукта*                                                                         |\n",
    "\n",
    "*trial_premium – пробная премиум-подписка, premium_no_trial – премиум-подписка без пробной, coins – подписка за внутреннюю валюту, other_type – другое "
   ]
  },
  {
   "cell_type": "markdown",
   "metadata": {},
   "source": [
    "## 0. Импорт библиотек и собственные функции"
   ]
  },
  {
   "cell_type": "code",
   "execution_count": 148,
   "metadata": {},
   "outputs": [],
   "source": [
    "import pandas as pd\n",
    "import numpy as np\n",
    "import pingouin as pg\n",
    "from statsmodels.sandbox.stats.multicomp import multipletests\n",
    "from scipy.stats import norm\n",
    "\n",
    "import matplotlib.pyplot as plt\n",
    "import seaborn as sns\n",
    "%matplotlib inline\n",
    "\n",
    "import warnings\n",
    "warnings.filterwarnings('ignore')\n",
    "from tqdm.auto import tqdm"
   ]
  },
  {
   "cell_type": "markdown",
   "metadata": {},
   "source": [
    "Используемые функции:"
   ]
  },
  {
   "cell_type": "code",
   "execution_count": 149,
   "metadata": {},
   "outputs": [],
   "source": [
    "def f_na(df):\n",
    "    '''Функция заменяет пропущенные значения на более удобные'''\n",
    "    \n",
    "    df['coins']       = df.coins.fillna(0)\n",
    "    df['visit_days']  = df.visit_days.fillna('0')\n",
    "    df['was_premium'] = df.was_premium.fillna(0)\n",
    "    df['is_premium']  = df.is_premium.fillna(0)\n",
    "    return df"
   ]
  },
  {
   "cell_type": "code",
   "execution_count": 150,
   "metadata": {},
   "outputs": [],
   "source": [
    "def coin_rev_more_0(df):\n",
    "    '''Функция для подсчета средних и медианных значений coins и total_revenue для соответ. ненулевых знач. пользователей'''\n",
    "    \n",
    "    coin_more_0 = df.query('coins > 0').coins\n",
    "    rev_more_0  = df.query('total_revenue > 0').total_revenue\n",
    "    print('Cредние и медианные значения coins и total_revenue для соответ. ненулевых знач. пользователей')\n",
    "    print(f'Для сoins > 0  ---------> среднее = {round(coin_more_0.mean(), 2)}')\n",
    "    print(f'                          медиана = {round(coin_more_0.median(), 2)}')\n",
    "    print(f'Для total_revenue > 0 --> среднее(оно же ARPPU) = {round(rev_more_0.mean(), 2)}')\n",
    "    print(f'                          медиана(median  RPPU) = {round(rev_more_0.median(), 2)}')"
   ]
  },
  {
   "cell_type": "code",
   "execution_count": 151,
   "metadata": {},
   "outputs": [],
   "source": [
    "def extended_premium(df):\n",
    "    ''' Функция для подсчета количества групп людей, взаимодействующих с премиум-подпиской'''\n",
    "   \n",
    "    cnt_user = df.shape[0]\n",
    "    ex_2 = df.query('extended_premium == 2').shape[0]\n",
    "    ex_1 = df.query('extended_premium == 1').shape[0]\n",
    "    ex_0 = df.query('extended_premium == 0').shape[0]\n",
    "    \n",
    "    print(f'Продлевали премиум     - {ex_2}  пользователя или {round(ex_2 / cnt_user * 100, 2)} %')\n",
    "    print(f'Не продлевали премиум  - {ex_1}  пользователя или {round(ex_1 / cnt_user * 100, 2)} %')\n",
    "    print(f'Премиума не было и нет - {ex_0} пользователя или {round(ex_0 / cnt_user * 100, 2)} %')\n",
    "    print()\n",
    "    print('Тогда соответсвующие конверсии:')\n",
    "    print(f'Абсолютная CR в подписку {round((ex_1 + ex_2) / cnt_user * 100, 2)} %')\n",
    "    print(f'Абсолютная CR в продление подписки {round(ex_2 / cnt_user * 100, 2)} %')"
   ]
  },
  {
   "cell_type": "code",
   "execution_count": 152,
   "metadata": {},
   "outputs": [],
   "source": [
    "def country_user_plot(df):\n",
    "    '''Функция строит барчарт c количеством пользователей из разных стран(где больше 10 пользователей)'''\n",
    "    fig, ax = plt.subplots(1, 1, figsize=(8,6))\n",
    "    sns.barplot(data=df.groupby('country', as_index=False) \\\n",
    "                       .agg({'uid':'count'}).sort_values('uid', ascending=False) \\\n",
    "                       .query('uid > 99'), x='uid', y='country', ax=ax)\n",
    "    ax.set_xlabel('number of users')\n",
    "    ax.set_ylabel('country(more than 10 users)')"
   ]
  },
  {
   "cell_type": "code",
   "execution_count": 153,
   "metadata": {},
   "outputs": [],
   "source": [
    "def country_table(df):\n",
    "    '''Функция для построения таблицы по странам и подсчета некоторых характеристик для каждой страны'''\n",
    "    \n",
    "    df['extended_2'] = df.extended_premium.apply(lambda x: 1 if x == 2 else 0)\n",
    "\n",
    "    df_c = df.groupby('country', as_index=False) \\\n",
    "           .agg({'uid':'count', 'was_premium':'sum', 'extended_2': 'sum',\n",
    "                 'age':'mean', 'total_revenue':'mean'}) \\\n",
    "           .rename(columns={'uid':'cnt_users', 'age':'avg_age',\n",
    "                            'was_premium':'was_premium_per', 'extended_2': 'extended_2_per',\n",
    "                            'total_revenue':'ARPU'}) \\\n",
    "           .sort_values('cnt_users', ascending=False).query('cnt_users > 99')\n",
    "    \n",
    "    df_c.was_premium_per = df_c.was_premium_per / df_c.cnt_users * 100\n",
    "    df_c.extended_2_per = df_c.extended_2_per / df_c.cnt_users * 100\n",
    "\n",
    "    avg_total_revenue = df.query('total_revenue > 0') \\\n",
    "                             .groupby('country', as_index=False) \\\n",
    "                             .agg({'total_revenue':'mean'}) \\\n",
    "                             .rename(columns={'total_revenue':'ARPPU'})\n",
    "    median_total_revenue = df.query('total_revenue > 0') \\\n",
    "                             .groupby('country', as_index=False) \\\n",
    "                             .agg({'total_revenue':'median'}) \\\n",
    "                             .rename(columns={'total_revenue':'median RPPU'})\n",
    "\n",
    "    df_c = df_c.merge(avg_total_revenue, how='left', on=['country']) \\\n",
    "               .merge(median_total_revenue, how='left', on=['country']) \n",
    "    \n",
    "    \n",
    "    return df_c.round(2)"
   ]
  },
  {
   "cell_type": "code",
   "execution_count": 154,
   "metadata": {},
   "outputs": [],
   "source": [
    "def time_frame(df):\n",
    "    '''Функция для нахождения врменных рамок регистраций и транзакций'''\n",
    "\n",
    "    print(f\"Рамки регистраций пользователей: c {df.joined_at.min().date().strftime('%Y-%m-%d')}\") \n",
    "    print(f\"                                до {df.joined_at.max().date().strftime('%Y-%m-%d')}\")\n",
    "    print()\n",
    "    print(f\"Рамки проведения транзакций:     c {df.paid_at.min().date().strftime('%Y-%m-%d')}\")\n",
    "    print(f\"                                до {df.paid_at.max().date().strftime('%Y-%m-%d')}\")\n",
    "    print()"
   ]
  },
  {
   "cell_type": "code",
   "execution_count": 155,
   "metadata": {},
   "outputs": [],
   "source": [
    "def type_plot(df):\n",
    "    '''Функция строит 2 барчарта c количеством покупок/заработком с разных транзакций'''\n",
    "    \n",
    "    type_plot = df.groupby('product_type', as_index=False).agg({'paid_at':'count', 'revenue':'sum'}) \\\n",
    "                  .rename(columns={'paid_at':'count_type', 'revenue':'sum_type'})\n",
    "    type_plot['avg_tr'] = type_plot.sum_type / type_plot.count_type\n",
    "    \n",
    "    fig, ax = plt.subplots(1, 3, figsize=(26,8), sharey=True)\n",
    "    \n",
    "    sns.barplot(data=type_plot.sort_values('product_type', ascending=False), x='count_type', y='product_type', ax=ax[1])\n",
    "    ax[1].set_title('Количество транзакций')\n",
    "    ax[1].set_xlabel('count of type')\n",
    "    ax[1].set_ylabel('')\n",
    "    \n",
    "    sns.barplot(data=type_plot.sort_values('product_type', ascending=False), x='sum_type', y='product_type', ax=ax[2])\n",
    "    ax[2].set_title('Суммарный заработок')\n",
    "    ax[2].set_xlabel('sum of type')\n",
    "    ax[2].set_ylabel('')\n",
    "    \n",
    "    sns.barplot(data=type_plot.sort_values('product_type', ascending=False), x='avg_tr', y='product_type', ax=ax[0])\n",
    "    ax[0].set_title('Средний размер транз.')\n",
    "    ax[0].set_xlabel('avg of type')\n",
    "    ax[0].set_ylabel('')"
   ]
  },
  {
   "cell_type": "code",
   "execution_count": 156,
   "metadata": {},
   "outputs": [],
   "source": [
    "def update_total_revenue(transactions, users):\n",
    "    '''Функция обновляет данные total_revenue пользователей\n",
    "        в таблицах users по данным из таблиц transactions'''\n",
    "    \n",
    "    up_total_revenue = transactions.groupby(['uid'], as_index=False) \\\n",
    "                                .agg({'revenue': 'sum'}).rename(columns={'revenue': 'total_revenue'})\n",
    "    \n",
    "    users = users.drop(columns=['total_revenue']) \\\n",
    "                                 .merge(up_total_revenue, on='uid', how='left')\n",
    "    \n",
    "    users.total_revenue = users.total_revenue.fillna(0)"
   ]
  },
  {
   "cell_type": "code",
   "execution_count": 157,
   "metadata": {},
   "outputs": [],
   "source": [
    "def update_premium(transactions, users, col):\n",
    "    '''Функция обновляет данные was_premium или is_premium пользователей\n",
    "        в таблицах users по данным из таблиц transactions'''\n",
    "    \n",
    "    if col == 'was_premium':\n",
    "        up_premium = transactions.groupby('uid').product_type.apply(list).to_frame().reset_index()\n",
    "    elif col == 'is_premium':\n",
    "        max_time = transactions.paid_at.max().date().strftime('%Y-%m-%d')\n",
    "        up_premium = transactions.query('paid_at >= \"2017-11-12 00:00:00\"') \\\n",
    "                                 .groupby('uid').product_type.apply(list).to_frame().reset_index()\n",
    "        \n",
    "    up_premium.product_type = up_premium.product_type \\\n",
    "                                 .apply(lambda x: 1 if ('premium_no_trial' in x or 'trial_premium' in x) else 0)\n",
    "    \n",
    "    users = users.merge(up_premium, on='uid', how='left')\n",
    "    \n",
    "    users.product_type = users.product_type.fillna(0)\n",
    "    users[col] = users[col] + users.product_type\n",
    "    users = users.drop(columns=['product_type'])\n",
    "    \n",
    "    users[col] = users[col].apply(lambda x: 1 if (x > 0) else 0)"
   ]
  },
  {
   "cell_type": "code",
   "execution_count": 158,
   "metadata": {},
   "outputs": [],
   "source": [
    "def update_date(transactions, users):\n",
    "    '''Функция обновляет данные(total_revenue, was_premium, is_premium) пользователей\n",
    "        в таблицах users по данным из таблиц transactions'''\n",
    "    \n",
    "    update_total_revenue(transactions, users)\n",
    "    update_premium(transactions, users, 'was_premium')\n",
    "    update_premium(transactions, users, 'is_premium')\n",
    "    \n",
    "    users['extended_premium'] = users.was_premium + users.is_premium"
   ]
  },
  {
   "cell_type": "code",
   "execution_count": 159,
   "metadata": {},
   "outputs": [],
   "source": [
    "def signs_of_groups(data_users):\n",
    "    '''Функция для проверки равенства дисперсий и проведения ANOVA\n",
    "       Сначала находим средние велечины в data_users, после чего для их распределений проводим тесты, \n",
    "       затем объединяем все в один датафрэйм'''\n",
    "    \n",
    "    data_users['from_usa'] = data_users.country.apply(lambda x: 1 if (x == 'United States of America') else 0)\n",
    "    \n",
    "    df_sings = data_users.groupby('group', as_index=False).agg({'uid':'count', 'age':'mean', 'attraction_coeff':'mean',\n",
    "                                                                 'gender':'mean', 'age_filter_start':'mean',\n",
    "                                                                 'age_filter_end':'mean', 'from_usa':'mean' })\n",
    "    idx_1 = df_sings.columns.values.tolist()\n",
    "    \n",
    "    df_sings = df_sings.round(2) \\\n",
    "                       .rename(columns={'uid_x':'count_users', 'age':'avg_age', 'attraction_coeff':'avg_atr_coeff', \n",
    "                                        'gender':'avg_gender', 'age_filter_start':'avg_age_f_start',\n",
    "                                        'age_filter_end':'avg_age_f_end', 'from_usa':'cnt_from_usa'})\n",
    "    \n",
    "    idx_2 = df_sings.columns.values.tolist()\n",
    "    leven, pair = ['equal_var(leven)', '-->'], ['p-tukey[1-2, 1-t, 2-t]', '-->']\n",
    "    for i in idx_1[2:]:\n",
    "        leven.append(round(pg.homoscedasticity(data=data_users, dv=i, group='group', method='levene').pval.values[0], 2))\n",
    "        pair.append(pg.pairwise_tukey(data=data_users, dv=i, between=\"group\")['p-tukey'].round(2).values.tolist())\n",
    "        \n",
    "    test = pd.DataFrame({'3': pd.Series(leven, index=idx_2),\n",
    "                         '4': pd.Series(pair, index=idx_2)}).T\n",
    "    \n",
    "    return pd.concat([df_sings, test])"
   ]
  },
  {
   "cell_type": "code",
   "execution_count": 160,
   "metadata": {},
   "outputs": [],
   "source": [
    "def get_bootstrap(data_column_1, data_column_2, \n",
    "                  statistic = np.median, boot_it = 100000):\n",
    "    '''Функция для генерации бутрэп-распределений'''\n",
    "    boot_len = max([len(data_column_1), len(data_column_2)])\n",
    "    boot_data = []\n",
    "\n",
    "#     for i in tqdm(range(boot_it)):  \n",
    "    for i in range(boot_it):  \n",
    "        samples_1 = data_column_1.sample(boot_len, replace = True).values\n",
    "        samples_2 = data_column_2.sample(boot_len, replace = True).values\n",
    "        boot_data.append(statistic(samples_1-samples_2))\n",
    "        \n",
    "    return boot_data"
   ]
  },
  {
   "cell_type": "code",
   "execution_count": 161,
   "metadata": {},
   "outputs": [],
   "source": [
    "def get_pvalue(boot_data, bootstrap_conf_level=0.95):\n",
    "    '''Функция нахождения pvalue и границ доверительного интервала по бутсрэп-распределению'''\n",
    "    \n",
    "    p_1 = norm.cdf(x = 0, loc =  np.mean(boot_data), scale = np.std(boot_data))\n",
    "    p_2 = norm.cdf(x = 0, loc = -np.mean(boot_data), scale = np.std(boot_data))\n",
    "    p_value = min(p_1, p_2)\n",
    "    \n",
    "    left_quant = (1 - bootstrap_conf_level)/2\n",
    "    right_quant = 1 - (1 - bootstrap_conf_level) / 2\n",
    "    ci = pd.DataFrame(boot_data).quantile([left_quant, right_quant])\n",
    "    \n",
    "    return p_value, ci"
   ]
  },
  {
   "cell_type": "code",
   "execution_count": 162,
   "metadata": {},
   "outputs": [],
   "source": [
    "def do_boot_median(data_country, col='country', boot_it=100000, bootstrap_conf_level=0.95):\n",
    "    '''Функция для проверки равенства medianRPPU в тестовой и контрольной группах\n",
    "       Сначала находим medianRPPU и количество пользователей в data_country,\n",
    "       после чего для их распределений при помощи бутсрапа проверям гипотезу о равенстве + находим дов. инт., \n",
    "       затем объединяем все в один датафрэйм'''\n",
    "    \n",
    "    df_country = data_country.groupby([col, 'group'], as_index=False) \\\n",
    "            .agg({'uid':'count', 'total_revenue':'median'}) \\\n",
    "            .groupby(col) \\\n",
    "            .uid.apply(list).to_frame().reset_index() \\\n",
    "            .merge(data_country.groupby([col, 'group'], as_index=False) \\\n",
    "                               .agg({'uid':'count', 'total_revenue':'median'}) \\\n",
    "                               .groupby(col) \\\n",
    "                               .total_revenue.apply(list).to_frame().reset_index(),\n",
    "            how='left',\n",
    "            on=[col]) \\\n",
    "            .rename(columns={'uid':'cnt_users[c1, c2, t]', 'total_revenue':'medianRPPU[c1, c2, t]'})\n",
    "    \n",
    "    col_names = df_country[col].tolist()\n",
    "    \n",
    "    boot_data = {col:col_names, 'control_1':[], 'control_1_ci':[], 'control_2':[], 'control_2_ci':[]}\n",
    "    for i in col_names:\n",
    "        b_c1 = data_country.loc[data_country[col] == i].query('group == \"control_1\"').total_revenue\n",
    "        b_c2 = data_country.loc[data_country[col] == i].query('group == \"control_2\"').total_revenue\n",
    "        b_t = data_country.loc[data_country[col] == i].query('group == \"test\"').total_revenue\n",
    "        \n",
    "        p_ci_1 = get_pvalue(get_bootstrap(b_t, b_c1, statistic = np.median, boot_it=boot_it),\n",
    "                              bootstrap_conf_level=bootstrap_conf_level)\n",
    "        p_ci_2 = get_pvalue(get_bootstrap(b_t, b_c2, statistic = np.median, boot_it=boot_it),\n",
    "                              bootstrap_conf_level=bootstrap_conf_level)\n",
    "        \n",
    "        p_cor_1, p_cor_2 = multipletests([p_ci_1[0], p_ci_2[0]], alpha=0.05, method='holm')[1]\n",
    "\n",
    "        \n",
    "        boot_data['control_1'].append(round(p_cor_1, 4))\n",
    "        boot_data['control_1_ci'].append(p_ci_1[1].round(4).values.tolist())\n",
    "        \n",
    "        boot_data['control_2'].append(round(p_cor_2, 4))\n",
    "        boot_data['control_2_ci'].append(p_ci_2[1].round(4).values.tolist())\n",
    "            \n",
    "    return df_country.merge(pd.DataFrame.from_dict(boot_data),\n",
    "                                   how='left', on=[col]) \\\n",
    "                            .rename(columns={'control_1':'p-val [t, c1]', 'control_1_ci':'ci [t, c1]',\n",
    "                                             'control_2':'p-val [t, c2]', 'control_2_ci':'ci [t, c2]'})"
   ]
  },
  {
   "cell_type": "code",
   "execution_count": 163,
   "metadata": {},
   "outputs": [],
   "source": [
    "def data_sub():\n",
    "    '''Функция для выделения групп пользователей для проверки гипотезы о равенстве \n",
    "              в тесте и контролях медианного дохода с подписок на пользователя'''\n",
    "    \n",
    "    data_sub = data_transactions.query('product_type == \"premium_no_trial\"') \\\n",
    "                                .groupby('uid', as_index=False).agg({'revenue':'sum'})\n",
    "\n",
    "    data_users['age_group'] = pd.cut(data_users.age, [0, 19, 25, 30, 35, 40, 50, 100],\n",
    "                                labels=['16-19', '20-25', '26-30', '31-35', '36-40', '41-50', '51-99'])\n",
    "\n",
    "    data_users['group_days'] = pd.cut(data_users.cnt_visit_days, [-1, 0.5, 3, 7.5, 14.5, 21.5, 31],\n",
    "                                      labels=['0', '1-3', '4-7', '8-14', '15-21', '22-31'])\n",
    "\n",
    "    df = data_sub[['uid','revenue']].merge(data_users[['uid', 'group_days', 'group', 'age_group']],\n",
    "                                                  how='left', on=['uid']) \\\n",
    "                                           .rename(columns={'revenue':'prem_rev'})\n",
    "\n",
    "    df = df.astype({'group_days': 'str', 'age_group':'str'})\n",
    "    df['description'] = '[' + df.group_days + 'd]' + '[' + df.age_group + 'y]'\n",
    "    \n",
    "    return df[['uid', 'description', 'group', 'prem_rev']]"
   ]
  },
  {
   "cell_type": "markdown",
   "metadata": {},
   "source": [
    "## 1. Загрузка и предобработка данных"
   ]
  },
  {
   "cell_type": "markdown",
   "metadata": {},
   "source": [
    "#### Загрузим все имеющиеся данные"
   ]
  },
  {
   "cell_type": "code",
   "execution_count": 164,
   "metadata": {},
   "outputs": [],
   "source": [
    "users_control_1 = pd.read_csv('3_users_control_1.csv', sep=';')\n",
    "users_control_2 = pd.read_csv('3_users_control_2.csv', sep=';')\n",
    "users_test      = pd.read_csv('3_users_test.csv', sep=';')\n",
    "\n",
    "transactions_control_1 = pd.read_csv('3_transactions_control_1.csv', sep=';', parse_dates=['joined_at', 'paid_at'])\n",
    "transactions_control_2 = pd.read_csv('3_transactions_control_2.csv', sep=';', parse_dates=['joined_at', 'paid_at'])\n",
    "transactions_test      = pd.read_csv('3_transactions_test.csv',      sep=';', parse_dates=['joined_at', 'paid_at'])"
   ]
  },
  {
   "cell_type": "markdown",
   "metadata": {},
   "source": [
    "### 1.1 Первый взгляд на пользователей\n",
    "[Содержание](#Содержание)"
   ]
  },
  {
   "cell_type": "markdown",
   "metadata": {},
   "source": [
    "#### Первая контрольная группа:"
   ]
  },
  {
   "cell_type": "code",
   "execution_count": 165,
   "metadata": {},
   "outputs": [
    {
     "data": {
      "text/html": [
       "<div>\n",
       "<style scoped>\n",
       "    .dataframe tbody tr th:only-of-type {\n",
       "        vertical-align: middle;\n",
       "    }\n",
       "\n",
       "    .dataframe tbody tr th {\n",
       "        vertical-align: top;\n",
       "    }\n",
       "\n",
       "    .dataframe thead th {\n",
       "        text-align: right;\n",
       "    }\n",
       "</style>\n",
       "<table border=\"1\" class=\"dataframe\">\n",
       "  <thead>\n",
       "    <tr style=\"text-align: right;\">\n",
       "      <th></th>\n",
       "      <th>uid</th>\n",
       "      <th>age</th>\n",
       "      <th>attraction_coeff</th>\n",
       "      <th>coins</th>\n",
       "      <th>country</th>\n",
       "      <th>visit_days</th>\n",
       "      <th>gender</th>\n",
       "      <th>age_filter_start</th>\n",
       "      <th>age_filter_end</th>\n",
       "      <th>views_count</th>\n",
       "      <th>was_premium</th>\n",
       "      <th>is_premium</th>\n",
       "      <th>total_revenue</th>\n",
       "    </tr>\n",
       "  </thead>\n",
       "  <tbody>\n",
       "    <tr>\n",
       "      <th>0</th>\n",
       "      <td>892319115</td>\n",
       "      <td>25</td>\n",
       "      <td>435</td>\n",
       "      <td>NaN</td>\n",
       "      <td>United States of America</td>\n",
       "      <td>1,2,3,4,5,6</td>\n",
       "      <td>0</td>\n",
       "      <td>22</td>\n",
       "      <td>32</td>\n",
       "      <td>982</td>\n",
       "      <td>NaN</td>\n",
       "      <td>NaN</td>\n",
       "      <td>0</td>\n",
       "    </tr>\n",
       "    <tr>\n",
       "      <th>1</th>\n",
       "      <td>891248523</td>\n",
       "      <td>29</td>\n",
       "      <td>500</td>\n",
       "      <td>NaN</td>\n",
       "      <td>United States of America</td>\n",
       "      <td>1,2</td>\n",
       "      <td>1</td>\n",
       "      <td>26</td>\n",
       "      <td>32</td>\n",
       "      <td>12</td>\n",
       "      <td>NaN</td>\n",
       "      <td>NaN</td>\n",
       "      <td>0</td>\n",
       "    </tr>\n",
       "    <tr>\n",
       "      <th>2</th>\n",
       "      <td>891670932</td>\n",
       "      <td>33</td>\n",
       "      <td>800</td>\n",
       "      <td>NaN</td>\n",
       "      <td>France</td>\n",
       "      <td>1,2,3,5,6,8,9,11,13,16</td>\n",
       "      <td>1</td>\n",
       "      <td>30</td>\n",
       "      <td>36</td>\n",
       "      <td>5</td>\n",
       "      <td>NaN</td>\n",
       "      <td>NaN</td>\n",
       "      <td>0</td>\n",
       "    </tr>\n",
       "    <tr>\n",
       "      <th>3</th>\n",
       "      <td>891060786</td>\n",
       "      <td>26</td>\n",
       "      <td>0</td>\n",
       "      <td>NaN</td>\n",
       "      <td>Argentina</td>\n",
       "      <td>1,2,3,4,5</td>\n",
       "      <td>1</td>\n",
       "      <td>23</td>\n",
       "      <td>29</td>\n",
       "      <td>0</td>\n",
       "      <td>NaN</td>\n",
       "      <td>NaN</td>\n",
       "      <td>0</td>\n",
       "    </tr>\n",
       "    <tr>\n",
       "      <th>4</th>\n",
       "      <td>892006554</td>\n",
       "      <td>35</td>\n",
       "      <td>294</td>\n",
       "      <td>NaN</td>\n",
       "      <td>United States of America</td>\n",
       "      <td>1,2,3,5,6,7,8,9,10,12,15,16,17,19</td>\n",
       "      <td>1</td>\n",
       "      <td>30</td>\n",
       "      <td>40</td>\n",
       "      <td>17</td>\n",
       "      <td>NaN</td>\n",
       "      <td>NaN</td>\n",
       "      <td>0</td>\n",
       "    </tr>\n",
       "  </tbody>\n",
       "</table>\n",
       "</div>"
      ],
      "text/plain": [
       "         uid  age  attraction_coeff  coins                   country  \\\n",
       "0  892319115   25               435    NaN  United States of America   \n",
       "1  891248523   29               500    NaN  United States of America   \n",
       "2  891670932   33               800    NaN                    France   \n",
       "3  891060786   26                 0    NaN                 Argentina   \n",
       "4  892006554   35               294    NaN  United States of America   \n",
       "\n",
       "                          visit_days  gender  age_filter_start  \\\n",
       "0                        1,2,3,4,5,6       0                22   \n",
       "1                                1,2       1                26   \n",
       "2             1,2,3,5,6,8,9,11,13,16       1                30   \n",
       "3                          1,2,3,4,5       1                23   \n",
       "4  1,2,3,5,6,7,8,9,10,12,15,16,17,19       1                30   \n",
       "\n",
       "   age_filter_end  views_count  was_premium  is_premium  total_revenue  \n",
       "0              32          982          NaN         NaN              0  \n",
       "1              32           12          NaN         NaN              0  \n",
       "2              36            5          NaN         NaN              0  \n",
       "3              29            0          NaN         NaN              0  \n",
       "4              40           17          NaN         NaN              0  "
      ]
     },
     "execution_count": 165,
     "metadata": {},
     "output_type": "execute_result"
    }
   ],
   "source": [
    "users_control_1.head()"
   ]
  },
  {
   "cell_type": "code",
   "execution_count": 166,
   "metadata": {},
   "outputs": [
    {
     "data": {
      "text/plain": [
       "(4340, 13)"
      ]
     },
     "execution_count": 166,
     "metadata": {},
     "output_type": "execute_result"
    }
   ],
   "source": [
    "users_control_1.shape"
   ]
  },
  {
   "cell_type": "code",
   "execution_count": 167,
   "metadata": {},
   "outputs": [
    {
     "data": {
      "text/plain": [
       "uid                   int64\n",
       "age                   int64\n",
       "attraction_coeff      int64\n",
       "coins               float64\n",
       "country              object\n",
       "visit_days           object\n",
       "gender                int64\n",
       "age_filter_start      int64\n",
       "age_filter_end        int64\n",
       "views_count           int64\n",
       "was_premium         float64\n",
       "is_premium          float64\n",
       "total_revenue         int64\n",
       "dtype: object"
      ]
     },
     "execution_count": 167,
     "metadata": {},
     "output_type": "execute_result"
    }
   ],
   "source": [
    "users_control_1.dtypes"
   ]
  },
  {
   "cell_type": "code",
   "execution_count": 168,
   "metadata": {},
   "outputs": [
    {
     "data": {
      "text/plain": [
       "uid                    0\n",
       "age                    0\n",
       "attraction_coeff       0\n",
       "coins               4280\n",
       "country                0\n",
       "visit_days          1324\n",
       "gender                 0\n",
       "age_filter_start       0\n",
       "age_filter_end         0\n",
       "views_count            0\n",
       "was_premium         3904\n",
       "is_premium          4148\n",
       "total_revenue          0\n",
       "dtype: int64"
      ]
     },
     "execution_count": 168,
     "metadata": {},
     "output_type": "execute_result"
    }
   ],
   "source": [
    "users_control_1.isna().sum()"
   ]
  },
  {
   "cell_type": "code",
   "execution_count": 169,
   "metadata": {},
   "outputs": [
    {
     "data": {
      "text/plain": [
       "(array([nan,  1.]), array([nan,  1.]))"
      ]
     },
     "execution_count": 169,
     "metadata": {},
     "output_type": "execute_result"
    }
   ],
   "source": [
    "users_control_1.was_premium.unique(), users_control_1.is_premium.unique(),       "
   ]
  },
  {
   "cell_type": "markdown",
   "metadata": {},
   "source": [
    "Для начала сразу можно заменить пропущенные значения в столбцах coins, visit_days, was_premium, is_premium - логики никакой мы не нарушим(до этого в этих столбцах нулей не было плюс понятно что такое 0 монет, '0' дней посещения и 0 как показатель отсутвия премиума) и работать будет значительно удобнее, заодно приведем колонки к более удобным типам"
   ]
  },
  {
   "cell_type": "code",
   "execution_count": 170,
   "metadata": {},
   "outputs": [],
   "source": [
    "users_control_1 = f_na(users_control_1)"
   ]
  },
  {
   "cell_type": "code",
   "execution_count": 171,
   "metadata": {},
   "outputs": [],
   "source": [
    "users_control_1 = users_control_1.astype({'coins': 'int64', 'was_premium':'int64', 'is_premium':'int64'})"
   ]
  },
  {
   "cell_type": "markdown",
   "metadata": {},
   "source": [
    "Проверим наличие полных дубликатов и дублирование uid"
   ]
  },
  {
   "cell_type": "code",
   "execution_count": 172,
   "metadata": {},
   "outputs": [
    {
     "data": {
      "text/plain": [
       "(0, 0)"
      ]
     },
     "execution_count": 172,
     "metadata": {},
     "output_type": "execute_result"
    }
   ],
   "source": [
    "users_control_1.duplicated().sum(), users_control_1.uid.duplicated().sum()"
   ]
  },
  {
   "cell_type": "markdown",
   "metadata": {},
   "source": [
    "Выведем некоторые описательные статискики(для некоторых качественных/бинарных переменных тоже имеет смысл -> видно какой переменной больше и на какой порядок)"
   ]
  },
  {
   "cell_type": "code",
   "execution_count": 173,
   "metadata": {},
   "outputs": [
    {
     "data": {
      "text/html": [
       "<div>\n",
       "<style scoped>\n",
       "    .dataframe tbody tr th:only-of-type {\n",
       "        vertical-align: middle;\n",
       "    }\n",
       "\n",
       "    .dataframe tbody tr th {\n",
       "        vertical-align: top;\n",
       "    }\n",
       "\n",
       "    .dataframe thead th {\n",
       "        text-align: right;\n",
       "    }\n",
       "</style>\n",
       "<table border=\"1\" class=\"dataframe\">\n",
       "  <thead>\n",
       "    <tr style=\"text-align: right;\">\n",
       "      <th></th>\n",
       "      <th>count</th>\n",
       "      <th>mean</th>\n",
       "      <th>std</th>\n",
       "      <th>min</th>\n",
       "      <th>25%</th>\n",
       "      <th>50%</th>\n",
       "      <th>75%</th>\n",
       "      <th>max</th>\n",
       "    </tr>\n",
       "  </thead>\n",
       "  <tbody>\n",
       "    <tr>\n",
       "      <th>age</th>\n",
       "      <td>4340.0</td>\n",
       "      <td>32.10</td>\n",
       "      <td>10.26</td>\n",
       "      <td>16.0</td>\n",
       "      <td>24.0</td>\n",
       "      <td>30.0</td>\n",
       "      <td>38.0</td>\n",
       "      <td>99.0</td>\n",
       "    </tr>\n",
       "    <tr>\n",
       "      <th>coins</th>\n",
       "      <td>4340.0</td>\n",
       "      <td>24.14</td>\n",
       "      <td>1518.28</td>\n",
       "      <td>0.0</td>\n",
       "      <td>0.0</td>\n",
       "      <td>0.0</td>\n",
       "      <td>0.0</td>\n",
       "      <td>99958.0</td>\n",
       "    </tr>\n",
       "    <tr>\n",
       "      <th>gender</th>\n",
       "      <td>4340.0</td>\n",
       "      <td>0.96</td>\n",
       "      <td>0.20</td>\n",
       "      <td>0.0</td>\n",
       "      <td>1.0</td>\n",
       "      <td>1.0</td>\n",
       "      <td>1.0</td>\n",
       "      <td>1.0</td>\n",
       "    </tr>\n",
       "    <tr>\n",
       "      <th>age_filter_start</th>\n",
       "      <td>4340.0</td>\n",
       "      <td>26.79</td>\n",
       "      <td>9.41</td>\n",
       "      <td>13.0</td>\n",
       "      <td>19.0</td>\n",
       "      <td>25.0</td>\n",
       "      <td>32.0</td>\n",
       "      <td>96.0</td>\n",
       "    </tr>\n",
       "    <tr>\n",
       "      <th>age_filter_end</th>\n",
       "      <td>4340.0</td>\n",
       "      <td>38.55</td>\n",
       "      <td>15.23</td>\n",
       "      <td>19.0</td>\n",
       "      <td>28.0</td>\n",
       "      <td>35.0</td>\n",
       "      <td>45.0</td>\n",
       "      <td>102.0</td>\n",
       "    </tr>\n",
       "    <tr>\n",
       "      <th>views_count</th>\n",
       "      <td>4340.0</td>\n",
       "      <td>44.47</td>\n",
       "      <td>204.80</td>\n",
       "      <td>0.0</td>\n",
       "      <td>1.0</td>\n",
       "      <td>6.0</td>\n",
       "      <td>21.0</td>\n",
       "      <td>4953.0</td>\n",
       "    </tr>\n",
       "    <tr>\n",
       "      <th>attraction_coeff</th>\n",
       "      <td>4340.0</td>\n",
       "      <td>312.05</td>\n",
       "      <td>320.97</td>\n",
       "      <td>0.0</td>\n",
       "      <td>0.0</td>\n",
       "      <td>238.5</td>\n",
       "      <td>518.0</td>\n",
       "      <td>1000.0</td>\n",
       "    </tr>\n",
       "    <tr>\n",
       "      <th>was_premium</th>\n",
       "      <td>4340.0</td>\n",
       "      <td>0.10</td>\n",
       "      <td>0.30</td>\n",
       "      <td>0.0</td>\n",
       "      <td>0.0</td>\n",
       "      <td>0.0</td>\n",
       "      <td>0.0</td>\n",
       "      <td>1.0</td>\n",
       "    </tr>\n",
       "    <tr>\n",
       "      <th>is_premium</th>\n",
       "      <td>4340.0</td>\n",
       "      <td>0.04</td>\n",
       "      <td>0.21</td>\n",
       "      <td>0.0</td>\n",
       "      <td>0.0</td>\n",
       "      <td>0.0</td>\n",
       "      <td>0.0</td>\n",
       "      <td>1.0</td>\n",
       "    </tr>\n",
       "    <tr>\n",
       "      <th>total_revenue</th>\n",
       "      <td>4340.0</td>\n",
       "      <td>594.76</td>\n",
       "      <td>7987.92</td>\n",
       "      <td>0.0</td>\n",
       "      <td>0.0</td>\n",
       "      <td>0.0</td>\n",
       "      <td>0.0</td>\n",
       "      <td>486330.0</td>\n",
       "    </tr>\n",
       "  </tbody>\n",
       "</table>\n",
       "</div>"
      ],
      "text/plain": [
       "                   count    mean      std   min   25%    50%    75%       max\n",
       "age               4340.0   32.10    10.26  16.0  24.0   30.0   38.0      99.0\n",
       "coins             4340.0   24.14  1518.28   0.0   0.0    0.0    0.0   99958.0\n",
       "gender            4340.0    0.96     0.20   0.0   1.0    1.0    1.0       1.0\n",
       "age_filter_start  4340.0   26.79     9.41  13.0  19.0   25.0   32.0      96.0\n",
       "age_filter_end    4340.0   38.55    15.23  19.0  28.0   35.0   45.0     102.0\n",
       "views_count       4340.0   44.47   204.80   0.0   1.0    6.0   21.0    4953.0\n",
       "attraction_coeff  4340.0  312.05   320.97   0.0   0.0  238.5  518.0    1000.0\n",
       "was_premium       4340.0    0.10     0.30   0.0   0.0    0.0    0.0       1.0\n",
       "is_premium        4340.0    0.04     0.21   0.0   0.0    0.0    0.0       1.0\n",
       "total_revenue     4340.0  594.76  7987.92   0.0   0.0    0.0    0.0  486330.0"
      ]
     },
     "execution_count": 173,
     "metadata": {},
     "output_type": "execute_result"
    }
   ],
   "source": [
    "users_control_1.loc[:, ['age', 'coins', 'gender', 'age_filter_start', 'age_filter_end', 'views_count',\n",
    "                        'attraction_coeff','was_premium', 'is_premium', 'total_revenue']].describe().T.round(2)"
   ]
  },
  {
   "cell_type": "code",
   "execution_count": 174,
   "metadata": {},
   "outputs": [
    {
     "name": "stdout",
     "output_type": "stream",
     "text": [
      "Cредние и медианные значения coins и total_revenue для соответ. ненулевых знач. пользователей\n",
      "Для сoins > 0  ---------> среднее = 1745.9\n",
      "                          медиана = 11.5\n",
      "Для total_revenue > 0 --> среднее(оно же ARPPU) = 13444.1\n",
      "                          медиана(median  RPPU) = 9314.5\n"
     ]
    }
   ],
   "source": [
    "coin_rev_more_0(users_control_1)"
   ]
  },
  {
   "cell_type": "code",
   "execution_count": 175,
   "metadata": {},
   "outputs": [
    {
     "name": "stdout",
     "output_type": "stream",
     "text": [
      "Суммарный заработок в 1-й контрольной группе - 2581267 \n"
     ]
    }
   ],
   "source": [
    "rev_u_c1 = users_control_1.total_revenue.sum()\n",
    "print(f'Суммарный заработок в 1-й контрольной группе - {rev_u_c1} ')"
   ]
  },
  {
   "cell_type": "markdown",
   "metadata": {},
   "source": [
    "Найдем количество людей не продливавших подписку"
   ]
  },
  {
   "cell_type": "markdown",
   "metadata": {},
   "source": [
    "Для этого добавим колонку с отметкой о продлении подписки - ['extended_premium']  \n",
    "Для 2х колонок was_premium и is_premium возможны 4 сотояния:\n",
    "1. (0,0) - премиума нет и не было                          -> отметим лейблом 0 \n",
    "2. (0,1) - таких нет см. ниже(все у кого только появилась подписка сразу отмечаются как уже имевшие подписку)\n",
    "3. (1,0) - премиум был но сейчас нет - не продялял/отменил -> отметим лейблом 1\n",
    "4. (1,1) - премиум был и сейчас есть - продлял             -> отметим лейблом 2"
   ]
  },
  {
   "cell_type": "code",
   "execution_count": 176,
   "metadata": {},
   "outputs": [
    {
     "data": {
      "text/plain": [
       "0"
      ]
     },
     "execution_count": 176,
     "metadata": {},
     "output_type": "execute_result"
    }
   ],
   "source": [
    "len(set(users_control_1.query('is_premium == 1').uid.tolist()) \n",
    "    & \n",
    "    set(users_control_1.query('was_premium == 0').uid.tolist()))"
   ]
  },
  {
   "cell_type": "code",
   "execution_count": 177,
   "metadata": {},
   "outputs": [],
   "source": [
    "users_control_1['extended_premium'] = users_control_1.was_premium + users_control_1.is_premium"
   ]
  },
  {
   "cell_type": "markdown",
   "metadata": {},
   "source": [
    "Выведем сведения о продлении по всей первой контрольной группе:"
   ]
  },
  {
   "cell_type": "code",
   "execution_count": 178,
   "metadata": {},
   "outputs": [
    {
     "name": "stdout",
     "output_type": "stream",
     "text": [
      "Продлевали премиум     - 192  пользователя или 4.42 %\n",
      "Не продлевали премиум  - 244  пользователя или 5.62 %\n",
      "Премиума не было и нет - 3904 пользователя или 89.95 %\n",
      "\n",
      "Тогда соответсвующие конверсии:\n",
      "Абсолютная CR в подписку 10.05 %\n",
      "Абсолютная CR в продление подписки 4.42 %\n"
     ]
    }
   ],
   "source": [
    "extended_premium(users_control_1)"
   ]
  },
  {
   "cell_type": "markdown",
   "metadata": {},
   "source": [
    "#### Вторая контрольная группа:(проделаем аналогичные действия)"
   ]
  },
  {
   "cell_type": "code",
   "execution_count": 179,
   "metadata": {},
   "outputs": [
    {
     "data": {
      "text/html": [
       "<div>\n",
       "<style scoped>\n",
       "    .dataframe tbody tr th:only-of-type {\n",
       "        vertical-align: middle;\n",
       "    }\n",
       "\n",
       "    .dataframe tbody tr th {\n",
       "        vertical-align: top;\n",
       "    }\n",
       "\n",
       "    .dataframe thead th {\n",
       "        text-align: right;\n",
       "    }\n",
       "</style>\n",
       "<table border=\"1\" class=\"dataframe\">\n",
       "  <thead>\n",
       "    <tr style=\"text-align: right;\">\n",
       "      <th></th>\n",
       "      <th>uid</th>\n",
       "      <th>age</th>\n",
       "      <th>attraction_coeff</th>\n",
       "      <th>coins</th>\n",
       "      <th>country</th>\n",
       "      <th>visit_days</th>\n",
       "      <th>gender</th>\n",
       "      <th>age_filter_start</th>\n",
       "      <th>age_filter_end</th>\n",
       "      <th>views_count</th>\n",
       "      <th>was_premium</th>\n",
       "      <th>is_premium</th>\n",
       "      <th>total_revenue</th>\n",
       "    </tr>\n",
       "  </thead>\n",
       "  <tbody>\n",
       "    <tr>\n",
       "      <th>0</th>\n",
       "      <td>892035504</td>\n",
       "      <td>37</td>\n",
       "      <td>137</td>\n",
       "      <td>NaN</td>\n",
       "      <td>Israel</td>\n",
       "      <td>1,2,3,4,5,6,7,8,9,11,13</td>\n",
       "      <td>1</td>\n",
       "      <td>30</td>\n",
       "      <td>40</td>\n",
       "      <td>51</td>\n",
       "      <td>NaN</td>\n",
       "      <td>NaN</td>\n",
       "      <td>0</td>\n",
       "    </tr>\n",
       "    <tr>\n",
       "      <th>1</th>\n",
       "      <td>891782112</td>\n",
       "      <td>57</td>\n",
       "      <td>0</td>\n",
       "      <td>NaN</td>\n",
       "      <td>Italy</td>\n",
       "      <td>1</td>\n",
       "      <td>1</td>\n",
       "      <td>54</td>\n",
       "      <td>60</td>\n",
       "      <td>0</td>\n",
       "      <td>NaN</td>\n",
       "      <td>NaN</td>\n",
       "      <td>0</td>\n",
       "    </tr>\n",
       "    <tr>\n",
       "      <th>2</th>\n",
       "      <td>891110337</td>\n",
       "      <td>30</td>\n",
       "      <td>769</td>\n",
       "      <td>NaN</td>\n",
       "      <td>France</td>\n",
       "      <td>1,2,3,4,5</td>\n",
       "      <td>1</td>\n",
       "      <td>27</td>\n",
       "      <td>33</td>\n",
       "      <td>13</td>\n",
       "      <td>NaN</td>\n",
       "      <td>NaN</td>\n",
       "      <td>0</td>\n",
       "    </tr>\n",
       "    <tr>\n",
       "      <th>3</th>\n",
       "      <td>891796320</td>\n",
       "      <td>48</td>\n",
       "      <td>750</td>\n",
       "      <td>NaN</td>\n",
       "      <td>France</td>\n",
       "      <td>1,4,6,8,10,11,12,14,15,16,18</td>\n",
       "      <td>1</td>\n",
       "      <td>45</td>\n",
       "      <td>51</td>\n",
       "      <td>12</td>\n",
       "      <td>NaN</td>\n",
       "      <td>NaN</td>\n",
       "      <td>0</td>\n",
       "    </tr>\n",
       "    <tr>\n",
       "      <th>4</th>\n",
       "      <td>891880212</td>\n",
       "      <td>54</td>\n",
       "      <td>638</td>\n",
       "      <td>NaN</td>\n",
       "      <td>United States of America</td>\n",
       "      <td>1</td>\n",
       "      <td>1</td>\n",
       "      <td>35</td>\n",
       "      <td>53</td>\n",
       "      <td>94</td>\n",
       "      <td>NaN</td>\n",
       "      <td>NaN</td>\n",
       "      <td>0</td>\n",
       "    </tr>\n",
       "  </tbody>\n",
       "</table>\n",
       "</div>"
      ],
      "text/plain": [
       "         uid  age  attraction_coeff  coins                   country  \\\n",
       "0  892035504   37               137    NaN                    Israel   \n",
       "1  891782112   57                 0    NaN                     Italy   \n",
       "2  891110337   30               769    NaN                    France   \n",
       "3  891796320   48               750    NaN                    France   \n",
       "4  891880212   54               638    NaN  United States of America   \n",
       "\n",
       "                     visit_days  gender  age_filter_start  age_filter_end  \\\n",
       "0       1,2,3,4,5,6,7,8,9,11,13       1                30              40   \n",
       "1                             1       1                54              60   \n",
       "2                     1,2,3,4,5       1                27              33   \n",
       "3  1,4,6,8,10,11,12,14,15,16,18       1                45              51   \n",
       "4                             1       1                35              53   \n",
       "\n",
       "   views_count  was_premium  is_premium  total_revenue  \n",
       "0           51          NaN         NaN              0  \n",
       "1            0          NaN         NaN              0  \n",
       "2           13          NaN         NaN              0  \n",
       "3           12          NaN         NaN              0  \n",
       "4           94          NaN         NaN              0  "
      ]
     },
     "execution_count": 179,
     "metadata": {},
     "output_type": "execute_result"
    }
   ],
   "source": [
    "users_control_2.head()"
   ]
  },
  {
   "cell_type": "code",
   "execution_count": 180,
   "metadata": {},
   "outputs": [
    {
     "data": {
      "text/plain": [
       "(4264, 13)"
      ]
     },
     "execution_count": 180,
     "metadata": {},
     "output_type": "execute_result"
    }
   ],
   "source": [
    "users_control_2.shape"
   ]
  },
  {
   "cell_type": "code",
   "execution_count": 181,
   "metadata": {},
   "outputs": [
    {
     "data": {
      "text/plain": [
       "uid                   int64\n",
       "age                   int64\n",
       "attraction_coeff      int64\n",
       "coins               float64\n",
       "country              object\n",
       "visit_days           object\n",
       "gender                int64\n",
       "age_filter_start      int64\n",
       "age_filter_end        int64\n",
       "views_count           int64\n",
       "was_premium         float64\n",
       "is_premium          float64\n",
       "total_revenue         int64\n",
       "dtype: object"
      ]
     },
     "execution_count": 181,
     "metadata": {},
     "output_type": "execute_result"
    }
   ],
   "source": [
    "users_control_2.dtypes"
   ]
  },
  {
   "cell_type": "code",
   "execution_count": 182,
   "metadata": {},
   "outputs": [
    {
     "data": {
      "text/plain": [
       "uid                    0\n",
       "age                    0\n",
       "attraction_coeff       0\n",
       "coins               4203\n",
       "country                0\n",
       "visit_days          1364\n",
       "gender                 0\n",
       "age_filter_start       0\n",
       "age_filter_end         0\n",
       "views_count            0\n",
       "was_premium         3853\n",
       "is_premium          4073\n",
       "total_revenue          0\n",
       "dtype: int64"
      ]
     },
     "execution_count": 182,
     "metadata": {},
     "output_type": "execute_result"
    }
   ],
   "source": [
    "users_control_2.isna().sum()"
   ]
  },
  {
   "cell_type": "code",
   "execution_count": 183,
   "metadata": {},
   "outputs": [
    {
     "data": {
      "text/plain": [
       "(array([nan,  1.]), array([nan,  1.]))"
      ]
     },
     "execution_count": 183,
     "metadata": {},
     "output_type": "execute_result"
    }
   ],
   "source": [
    "users_control_2.was_premium.unique(), users_control_2.is_premium.unique(),       "
   ]
  },
  {
   "cell_type": "markdown",
   "metadata": {},
   "source": [
    "Для начала сразу можно заменить пропущенные значения в столбцах coins, visit_days, was_premium, is_premium - логики никакой мы не нарушим(до этого в этих столбцах нулей не было плюс понятно что такое 0 монет, '0' дней посещения и 0 как показатель отсутвия премиума) и работать будет значительно удобнее, заодно приведем колонки к более удобным типам"
   ]
  },
  {
   "cell_type": "code",
   "execution_count": 184,
   "metadata": {},
   "outputs": [],
   "source": [
    "users_control_2 = f_na(users_control_2)"
   ]
  },
  {
   "cell_type": "code",
   "execution_count": 185,
   "metadata": {},
   "outputs": [],
   "source": [
    "users_control_2 = users_control_2.astype({'coins': 'int64', 'was_premium':'int64', 'is_premium':'int64'})"
   ]
  },
  {
   "cell_type": "markdown",
   "metadata": {},
   "source": [
    "Проверим наличие полных дубликатов и дублирование uid"
   ]
  },
  {
   "cell_type": "code",
   "execution_count": 186,
   "metadata": {},
   "outputs": [
    {
     "data": {
      "text/plain": [
       "(0, 0)"
      ]
     },
     "execution_count": 186,
     "metadata": {},
     "output_type": "execute_result"
    }
   ],
   "source": [
    "users_control_2.duplicated().sum(), users_control_2.uid.duplicated().sum()"
   ]
  },
  {
   "cell_type": "markdown",
   "metadata": {},
   "source": [
    "Выведем некоторые описательные статискики(для некоторых качественных/бинарных переменных тоже имеет смысл -> видно какой переменной больше и на какой порядок)"
   ]
  },
  {
   "cell_type": "code",
   "execution_count": 187,
   "metadata": {},
   "outputs": [
    {
     "data": {
      "text/html": [
       "<div>\n",
       "<style scoped>\n",
       "    .dataframe tbody tr th:only-of-type {\n",
       "        vertical-align: middle;\n",
       "    }\n",
       "\n",
       "    .dataframe tbody tr th {\n",
       "        vertical-align: top;\n",
       "    }\n",
       "\n",
       "    .dataframe thead th {\n",
       "        text-align: right;\n",
       "    }\n",
       "</style>\n",
       "<table border=\"1\" class=\"dataframe\">\n",
       "  <thead>\n",
       "    <tr style=\"text-align: right;\">\n",
       "      <th></th>\n",
       "      <th>count</th>\n",
       "      <th>mean</th>\n",
       "      <th>std</th>\n",
       "      <th>min</th>\n",
       "      <th>25%</th>\n",
       "      <th>50%</th>\n",
       "      <th>75%</th>\n",
       "      <th>max</th>\n",
       "    </tr>\n",
       "  </thead>\n",
       "  <tbody>\n",
       "    <tr>\n",
       "      <th>age</th>\n",
       "      <td>4264.0</td>\n",
       "      <td>32.05</td>\n",
       "      <td>10.17</td>\n",
       "      <td>16.0</td>\n",
       "      <td>25.0</td>\n",
       "      <td>30.0</td>\n",
       "      <td>38.0</td>\n",
       "      <td>99.0</td>\n",
       "    </tr>\n",
       "    <tr>\n",
       "      <th>coins</th>\n",
       "      <td>4264.0</td>\n",
       "      <td>0.26</td>\n",
       "      <td>4.72</td>\n",
       "      <td>0.0</td>\n",
       "      <td>0.0</td>\n",
       "      <td>0.0</td>\n",
       "      <td>0.0</td>\n",
       "      <td>271.0</td>\n",
       "    </tr>\n",
       "    <tr>\n",
       "      <th>gender</th>\n",
       "      <td>4264.0</td>\n",
       "      <td>0.95</td>\n",
       "      <td>0.21</td>\n",
       "      <td>0.0</td>\n",
       "      <td>1.0</td>\n",
       "      <td>1.0</td>\n",
       "      <td>1.0</td>\n",
       "      <td>1.0</td>\n",
       "    </tr>\n",
       "    <tr>\n",
       "      <th>age_filter_start</th>\n",
       "      <td>4264.0</td>\n",
       "      <td>26.95</td>\n",
       "      <td>9.55</td>\n",
       "      <td>13.0</td>\n",
       "      <td>19.0</td>\n",
       "      <td>25.0</td>\n",
       "      <td>32.0</td>\n",
       "      <td>94.0</td>\n",
       "    </tr>\n",
       "    <tr>\n",
       "      <th>age_filter_end</th>\n",
       "      <td>4264.0</td>\n",
       "      <td>38.91</td>\n",
       "      <td>15.96</td>\n",
       "      <td>19.0</td>\n",
       "      <td>28.0</td>\n",
       "      <td>35.0</td>\n",
       "      <td>45.0</td>\n",
       "      <td>99.0</td>\n",
       "    </tr>\n",
       "    <tr>\n",
       "      <th>views_count</th>\n",
       "      <td>4264.0</td>\n",
       "      <td>45.06</td>\n",
       "      <td>318.19</td>\n",
       "      <td>0.0</td>\n",
       "      <td>1.0</td>\n",
       "      <td>6.0</td>\n",
       "      <td>20.0</td>\n",
       "      <td>16157.0</td>\n",
       "    </tr>\n",
       "    <tr>\n",
       "      <th>attraction_coeff</th>\n",
       "      <td>4264.0</td>\n",
       "      <td>317.96</td>\n",
       "      <td>326.19</td>\n",
       "      <td>0.0</td>\n",
       "      <td>0.0</td>\n",
       "      <td>250.0</td>\n",
       "      <td>548.5</td>\n",
       "      <td>1000.0</td>\n",
       "    </tr>\n",
       "    <tr>\n",
       "      <th>was_premium</th>\n",
       "      <td>4264.0</td>\n",
       "      <td>0.10</td>\n",
       "      <td>0.30</td>\n",
       "      <td>0.0</td>\n",
       "      <td>0.0</td>\n",
       "      <td>0.0</td>\n",
       "      <td>0.0</td>\n",
       "      <td>1.0</td>\n",
       "    </tr>\n",
       "    <tr>\n",
       "      <th>is_premium</th>\n",
       "      <td>4264.0</td>\n",
       "      <td>0.04</td>\n",
       "      <td>0.21</td>\n",
       "      <td>0.0</td>\n",
       "      <td>0.0</td>\n",
       "      <td>0.0</td>\n",
       "      <td>0.0</td>\n",
       "      <td>1.0</td>\n",
       "    </tr>\n",
       "    <tr>\n",
       "      <th>total_revenue</th>\n",
       "      <td>4264.0</td>\n",
       "      <td>450.38</td>\n",
       "      <td>2859.24</td>\n",
       "      <td>0.0</td>\n",
       "      <td>0.0</td>\n",
       "      <td>0.0</td>\n",
       "      <td>0.0</td>\n",
       "      <td>81796.0</td>\n",
       "    </tr>\n",
       "  </tbody>\n",
       "</table>\n",
       "</div>"
      ],
      "text/plain": [
       "                   count    mean      std   min   25%    50%    75%      max\n",
       "age               4264.0   32.05    10.17  16.0  25.0   30.0   38.0     99.0\n",
       "coins             4264.0    0.26     4.72   0.0   0.0    0.0    0.0    271.0\n",
       "gender            4264.0    0.95     0.21   0.0   1.0    1.0    1.0      1.0\n",
       "age_filter_start  4264.0   26.95     9.55  13.0  19.0   25.0   32.0     94.0\n",
       "age_filter_end    4264.0   38.91    15.96  19.0  28.0   35.0   45.0     99.0\n",
       "views_count       4264.0   45.06   318.19   0.0   1.0    6.0   20.0  16157.0\n",
       "attraction_coeff  4264.0  317.96   326.19   0.0   0.0  250.0  548.5   1000.0\n",
       "was_premium       4264.0    0.10     0.30   0.0   0.0    0.0    0.0      1.0\n",
       "is_premium        4264.0    0.04     0.21   0.0   0.0    0.0    0.0      1.0\n",
       "total_revenue     4264.0  450.38  2859.24   0.0   0.0    0.0    0.0  81796.0"
      ]
     },
     "execution_count": 187,
     "metadata": {},
     "output_type": "execute_result"
    }
   ],
   "source": [
    "users_control_2.loc[:, ['age', 'coins', 'gender', 'age_filter_start', 'age_filter_end', 'views_count',\n",
    "                        'attraction_coeff','was_premium', 'is_premium', 'total_revenue']].describe().T.round(2)"
   ]
  },
  {
   "cell_type": "code",
   "execution_count": 188,
   "metadata": {},
   "outputs": [
    {
     "name": "stdout",
     "output_type": "stream",
     "text": [
      "Cредние и медианные значения coins и total_revenue для соответ. ненулевых знач. пользователей\n",
      "Для сoins > 0  ---------> среднее = 18.15\n",
      "                          медиана = 10.0\n",
      "Для total_revenue > 0 --> среднее(оно же ARPPU) = 10269.72\n",
      "                          медиана(median  RPPU) = 7969.0\n"
     ]
    }
   ],
   "source": [
    "coin_rev_more_0(users_control_2)"
   ]
  },
  {
   "cell_type": "code",
   "execution_count": 189,
   "metadata": {},
   "outputs": [
    {
     "name": "stdout",
     "output_type": "stream",
     "text": [
      "Суммарный заработок во 2-й контрольной группе - 1920438 \n"
     ]
    }
   ],
   "source": [
    "rev_u_c2 = users_control_2.total_revenue.sum()\n",
    "print(f'Суммарный заработок во 2-й контрольной группе - {rev_u_c2} ')"
   ]
  },
  {
   "cell_type": "markdown",
   "metadata": {},
   "source": [
    "Найдем количество людей не продливавших подписку(аналогично 1-ой контрольной группе)"
   ]
  },
  {
   "cell_type": "code",
   "execution_count": 190,
   "metadata": {},
   "outputs": [
    {
     "data": {
      "text/plain": [
       "0"
      ]
     },
     "execution_count": 190,
     "metadata": {},
     "output_type": "execute_result"
    }
   ],
   "source": [
    "len(set(users_control_2.query('is_premium == 1').uid.tolist()) \n",
    "    & \n",
    "    set(users_control_2.query('was_premium == 0').uid.tolist()))"
   ]
  },
  {
   "cell_type": "code",
   "execution_count": 191,
   "metadata": {},
   "outputs": [],
   "source": [
    "users_control_2['extended_premium'] = users_control_2.was_premium + users_control_2.is_premium"
   ]
  },
  {
   "cell_type": "markdown",
   "metadata": {},
   "source": [
    "Выведем сведения о продлении по всей первой контрольной группе:"
   ]
  },
  {
   "cell_type": "code",
   "execution_count": 192,
   "metadata": {},
   "outputs": [
    {
     "name": "stdout",
     "output_type": "stream",
     "text": [
      "Продлевали премиум     - 191  пользователя или 4.48 %\n",
      "Не продлевали премиум  - 220  пользователя или 5.16 %\n",
      "Премиума не было и нет - 3853 пользователя или 90.36 %\n",
      "\n",
      "Тогда соответсвующие конверсии:\n",
      "Абсолютная CR в подписку 9.64 %\n",
      "Абсолютная CR в продление подписки 4.48 %\n"
     ]
    }
   ],
   "source": [
    "extended_premium(users_control_2)"
   ]
  },
  {
   "cell_type": "markdown",
   "metadata": {},
   "source": [
    "#### Тестовая группа:(проделаем аналогичные действия)"
   ]
  },
  {
   "cell_type": "code",
   "execution_count": 193,
   "metadata": {},
   "outputs": [
    {
     "data": {
      "text/html": [
       "<div>\n",
       "<style scoped>\n",
       "    .dataframe tbody tr th:only-of-type {\n",
       "        vertical-align: middle;\n",
       "    }\n",
       "\n",
       "    .dataframe tbody tr th {\n",
       "        vertical-align: top;\n",
       "    }\n",
       "\n",
       "    .dataframe thead th {\n",
       "        text-align: right;\n",
       "    }\n",
       "</style>\n",
       "<table border=\"1\" class=\"dataframe\">\n",
       "  <thead>\n",
       "    <tr style=\"text-align: right;\">\n",
       "      <th></th>\n",
       "      <th>uid</th>\n",
       "      <th>age</th>\n",
       "      <th>attraction_coeff</th>\n",
       "      <th>coins</th>\n",
       "      <th>country</th>\n",
       "      <th>visit_days</th>\n",
       "      <th>gender</th>\n",
       "      <th>age_filter_start</th>\n",
       "      <th>age_filter_end</th>\n",
       "      <th>views_count</th>\n",
       "      <th>was_premium</th>\n",
       "      <th>is_premium</th>\n",
       "      <th>total_revenue</th>\n",
       "    </tr>\n",
       "  </thead>\n",
       "  <tbody>\n",
       "    <tr>\n",
       "      <th>0</th>\n",
       "      <td>892309896</td>\n",
       "      <td>27</td>\n",
       "      <td>685</td>\n",
       "      <td>NaN</td>\n",
       "      <td>United States of America</td>\n",
       "      <td>1,2,3,4,5,6,7,8,9,10,11,12,16,17</td>\n",
       "      <td>1</td>\n",
       "      <td>24</td>\n",
       "      <td>30</td>\n",
       "      <td>89</td>\n",
       "      <td>NaN</td>\n",
       "      <td>NaN</td>\n",
       "      <td>0</td>\n",
       "    </tr>\n",
       "    <tr>\n",
       "      <th>1</th>\n",
       "      <td>892044516</td>\n",
       "      <td>27</td>\n",
       "      <td>0</td>\n",
       "      <td>NaN</td>\n",
       "      <td>Germany</td>\n",
       "      <td>NaN</td>\n",
       "      <td>1</td>\n",
       "      <td>24</td>\n",
       "      <td>30</td>\n",
       "      <td>0</td>\n",
       "      <td>NaN</td>\n",
       "      <td>NaN</td>\n",
       "      <td>0</td>\n",
       "    </tr>\n",
       "    <tr>\n",
       "      <th>2</th>\n",
       "      <td>892185708</td>\n",
       "      <td>45</td>\n",
       "      <td>44</td>\n",
       "      <td>NaN</td>\n",
       "      <td>Israel</td>\n",
       "      <td>1,3,4,6,7,8,10,11,12,13,14,15,16,17,18,19,20,2...</td>\n",
       "      <td>1</td>\n",
       "      <td>42</td>\n",
       "      <td>48</td>\n",
       "      <td>68</td>\n",
       "      <td>NaN</td>\n",
       "      <td>NaN</td>\n",
       "      <td>0</td>\n",
       "    </tr>\n",
       "    <tr>\n",
       "      <th>3</th>\n",
       "      <td>892130292</td>\n",
       "      <td>32</td>\n",
       "      <td>0</td>\n",
       "      <td>NaN</td>\n",
       "      <td>United States of America</td>\n",
       "      <td>1,2,3,4,5,6,7,8,9,10,11,12</td>\n",
       "      <td>1</td>\n",
       "      <td>29</td>\n",
       "      <td>35</td>\n",
       "      <td>0</td>\n",
       "      <td>NaN</td>\n",
       "      <td>NaN</td>\n",
       "      <td>0</td>\n",
       "    </tr>\n",
       "    <tr>\n",
       "      <th>4</th>\n",
       "      <td>891406035</td>\n",
       "      <td>27</td>\n",
       "      <td>1000</td>\n",
       "      <td>NaN</td>\n",
       "      <td>France</td>\n",
       "      <td>NaN</td>\n",
       "      <td>1</td>\n",
       "      <td>24</td>\n",
       "      <td>30</td>\n",
       "      <td>1</td>\n",
       "      <td>1.0</td>\n",
       "      <td>NaN</td>\n",
       "      <td>0</td>\n",
       "    </tr>\n",
       "  </tbody>\n",
       "</table>\n",
       "</div>"
      ],
      "text/plain": [
       "         uid  age  attraction_coeff  coins                   country  \\\n",
       "0  892309896   27               685    NaN  United States of America   \n",
       "1  892044516   27                 0    NaN                   Germany   \n",
       "2  892185708   45                44    NaN                    Israel   \n",
       "3  892130292   32                 0    NaN  United States of America   \n",
       "4  891406035   27              1000    NaN                    France   \n",
       "\n",
       "                                          visit_days  gender  \\\n",
       "0                   1,2,3,4,5,6,7,8,9,10,11,12,16,17       1   \n",
       "1                                                NaN       1   \n",
       "2  1,3,4,6,7,8,10,11,12,13,14,15,16,17,18,19,20,2...       1   \n",
       "3                         1,2,3,4,5,6,7,8,9,10,11,12       1   \n",
       "4                                                NaN       1   \n",
       "\n",
       "   age_filter_start  age_filter_end  views_count  was_premium  is_premium  \\\n",
       "0                24              30           89          NaN         NaN   \n",
       "1                24              30            0          NaN         NaN   \n",
       "2                42              48           68          NaN         NaN   \n",
       "3                29              35            0          NaN         NaN   \n",
       "4                24              30            1          1.0         NaN   \n",
       "\n",
       "   total_revenue  \n",
       "0              0  \n",
       "1              0  \n",
       "2              0  \n",
       "3              0  \n",
       "4              0  "
      ]
     },
     "execution_count": 193,
     "metadata": {},
     "output_type": "execute_result"
    }
   ],
   "source": [
    "users_test.head()"
   ]
  },
  {
   "cell_type": "code",
   "execution_count": 194,
   "metadata": {},
   "outputs": [
    {
     "data": {
      "text/plain": [
       "(4308, 13)"
      ]
     },
     "execution_count": 194,
     "metadata": {},
     "output_type": "execute_result"
    }
   ],
   "source": [
    "users_test.shape"
   ]
  },
  {
   "cell_type": "code",
   "execution_count": 195,
   "metadata": {},
   "outputs": [
    {
     "data": {
      "text/plain": [
       "uid                   int64\n",
       "age                   int64\n",
       "attraction_coeff      int64\n",
       "coins               float64\n",
       "country              object\n",
       "visit_days           object\n",
       "gender                int64\n",
       "age_filter_start      int64\n",
       "age_filter_end        int64\n",
       "views_count           int64\n",
       "was_premium         float64\n",
       "is_premium          float64\n",
       "total_revenue         int64\n",
       "dtype: object"
      ]
     },
     "execution_count": 195,
     "metadata": {},
     "output_type": "execute_result"
    }
   ],
   "source": [
    "users_test.dtypes"
   ]
  },
  {
   "cell_type": "code",
   "execution_count": 196,
   "metadata": {},
   "outputs": [
    {
     "data": {
      "text/plain": [
       "uid                    0\n",
       "age                    0\n",
       "attraction_coeff       0\n",
       "coins               4259\n",
       "country                0\n",
       "visit_days          1330\n",
       "gender                 0\n",
       "age_filter_start       0\n",
       "age_filter_end         0\n",
       "views_count            0\n",
       "was_premium         3900\n",
       "is_premium          4151\n",
       "total_revenue          0\n",
       "dtype: int64"
      ]
     },
     "execution_count": 196,
     "metadata": {},
     "output_type": "execute_result"
    }
   ],
   "source": [
    "users_test.isna().sum()"
   ]
  },
  {
   "cell_type": "code",
   "execution_count": 197,
   "metadata": {},
   "outputs": [
    {
     "data": {
      "text/plain": [
       "(array([nan,  1.]), array([nan,  1.]))"
      ]
     },
     "execution_count": 197,
     "metadata": {},
     "output_type": "execute_result"
    }
   ],
   "source": [
    "users_test.was_premium.unique(), users_test.is_premium.unique(),       "
   ]
  },
  {
   "cell_type": "markdown",
   "metadata": {},
   "source": [
    "Для начала сразу можно заменить пропущенные значения в столбцах coins, visit_days, was_premium, is_premium - логики никакой мы не нарушим(до этого в этих столбцах нулей не было плюс понятно что такое 0 монет, '0' дней посещения и 0 как показатель отсутвия премиума) и работать будет значительно удобнее, заодно приведем колонки к более удобным типам"
   ]
  },
  {
   "cell_type": "code",
   "execution_count": 198,
   "metadata": {},
   "outputs": [],
   "source": [
    "users_test = f_na(users_test)"
   ]
  },
  {
   "cell_type": "code",
   "execution_count": 199,
   "metadata": {},
   "outputs": [],
   "source": [
    "users_test = users_test.astype({'coins': 'int64', 'was_premium':'int64', 'is_premium':'int64'})"
   ]
  },
  {
   "cell_type": "markdown",
   "metadata": {},
   "source": [
    "Проверим наличие полных дубликатов и дублирование uid"
   ]
  },
  {
   "cell_type": "code",
   "execution_count": 200,
   "metadata": {},
   "outputs": [
    {
     "data": {
      "text/plain": [
       "(0, 0)"
      ]
     },
     "execution_count": 200,
     "metadata": {},
     "output_type": "execute_result"
    }
   ],
   "source": [
    "users_test.duplicated().sum(), users_test.uid.duplicated().sum()"
   ]
  },
  {
   "cell_type": "markdown",
   "metadata": {},
   "source": [
    "Выведем некоторые описательные статискики(для некоторых качественных/бинарных переменных тоже имеет смысл -> видно какой переменной больше и на какой порядок)"
   ]
  },
  {
   "cell_type": "code",
   "execution_count": 201,
   "metadata": {},
   "outputs": [
    {
     "data": {
      "text/html": [
       "<div>\n",
       "<style scoped>\n",
       "    .dataframe tbody tr th:only-of-type {\n",
       "        vertical-align: middle;\n",
       "    }\n",
       "\n",
       "    .dataframe tbody tr th {\n",
       "        vertical-align: top;\n",
       "    }\n",
       "\n",
       "    .dataframe thead th {\n",
       "        text-align: right;\n",
       "    }\n",
       "</style>\n",
       "<table border=\"1\" class=\"dataframe\">\n",
       "  <thead>\n",
       "    <tr style=\"text-align: right;\">\n",
       "      <th></th>\n",
       "      <th>count</th>\n",
       "      <th>mean</th>\n",
       "      <th>std</th>\n",
       "      <th>min</th>\n",
       "      <th>25%</th>\n",
       "      <th>50%</th>\n",
       "      <th>75%</th>\n",
       "      <th>max</th>\n",
       "    </tr>\n",
       "  </thead>\n",
       "  <tbody>\n",
       "    <tr>\n",
       "      <th>age</th>\n",
       "      <td>4308.0</td>\n",
       "      <td>31.89</td>\n",
       "      <td>10.25</td>\n",
       "      <td>16.0</td>\n",
       "      <td>25.0</td>\n",
       "      <td>30.0</td>\n",
       "      <td>38.00</td>\n",
       "      <td>99.0</td>\n",
       "    </tr>\n",
       "    <tr>\n",
       "      <th>coins</th>\n",
       "      <td>4308.0</td>\n",
       "      <td>2.61</td>\n",
       "      <td>129.61</td>\n",
       "      <td>0.0</td>\n",
       "      <td>0.0</td>\n",
       "      <td>0.0</td>\n",
       "      <td>0.00</td>\n",
       "      <td>8466.0</td>\n",
       "    </tr>\n",
       "    <tr>\n",
       "      <th>gender</th>\n",
       "      <td>4308.0</td>\n",
       "      <td>0.95</td>\n",
       "      <td>0.21</td>\n",
       "      <td>0.0</td>\n",
       "      <td>1.0</td>\n",
       "      <td>1.0</td>\n",
       "      <td>1.00</td>\n",
       "      <td>1.0</td>\n",
       "    </tr>\n",
       "    <tr>\n",
       "      <th>age_filter_start</th>\n",
       "      <td>4308.0</td>\n",
       "      <td>26.70</td>\n",
       "      <td>9.39</td>\n",
       "      <td>13.0</td>\n",
       "      <td>19.0</td>\n",
       "      <td>24.0</td>\n",
       "      <td>32.00</td>\n",
       "      <td>96.0</td>\n",
       "    </tr>\n",
       "    <tr>\n",
       "      <th>age_filter_end</th>\n",
       "      <td>4308.0</td>\n",
       "      <td>38.25</td>\n",
       "      <td>15.34</td>\n",
       "      <td>19.0</td>\n",
       "      <td>28.0</td>\n",
       "      <td>35.0</td>\n",
       "      <td>44.00</td>\n",
       "      <td>102.0</td>\n",
       "    </tr>\n",
       "    <tr>\n",
       "      <th>views_count</th>\n",
       "      <td>4308.0</td>\n",
       "      <td>50.39</td>\n",
       "      <td>318.68</td>\n",
       "      <td>0.0</td>\n",
       "      <td>1.0</td>\n",
       "      <td>6.0</td>\n",
       "      <td>22.00</td>\n",
       "      <td>12831.0</td>\n",
       "    </tr>\n",
       "    <tr>\n",
       "      <th>attraction_coeff</th>\n",
       "      <td>4308.0</td>\n",
       "      <td>316.41</td>\n",
       "      <td>323.37</td>\n",
       "      <td>0.0</td>\n",
       "      <td>0.0</td>\n",
       "      <td>250.0</td>\n",
       "      <td>520.25</td>\n",
       "      <td>1000.0</td>\n",
       "    </tr>\n",
       "    <tr>\n",
       "      <th>was_premium</th>\n",
       "      <td>4308.0</td>\n",
       "      <td>0.09</td>\n",
       "      <td>0.29</td>\n",
       "      <td>0.0</td>\n",
       "      <td>0.0</td>\n",
       "      <td>0.0</td>\n",
       "      <td>0.00</td>\n",
       "      <td>1.0</td>\n",
       "    </tr>\n",
       "    <tr>\n",
       "      <th>is_premium</th>\n",
       "      <td>4308.0</td>\n",
       "      <td>0.04</td>\n",
       "      <td>0.19</td>\n",
       "      <td>0.0</td>\n",
       "      <td>0.0</td>\n",
       "      <td>0.0</td>\n",
       "      <td>0.00</td>\n",
       "      <td>1.0</td>\n",
       "    </tr>\n",
       "    <tr>\n",
       "      <th>total_revenue</th>\n",
       "      <td>4308.0</td>\n",
       "      <td>534.08</td>\n",
       "      <td>4371.68</td>\n",
       "      <td>0.0</td>\n",
       "      <td>0.0</td>\n",
       "      <td>0.0</td>\n",
       "      <td>0.00</td>\n",
       "      <td>129870.0</td>\n",
       "    </tr>\n",
       "  </tbody>\n",
       "</table>\n",
       "</div>"
      ],
      "text/plain": [
       "                   count    mean      std   min   25%    50%     75%       max\n",
       "age               4308.0   31.89    10.25  16.0  25.0   30.0   38.00      99.0\n",
       "coins             4308.0    2.61   129.61   0.0   0.0    0.0    0.00    8466.0\n",
       "gender            4308.0    0.95     0.21   0.0   1.0    1.0    1.00       1.0\n",
       "age_filter_start  4308.0   26.70     9.39  13.0  19.0   24.0   32.00      96.0\n",
       "age_filter_end    4308.0   38.25    15.34  19.0  28.0   35.0   44.00     102.0\n",
       "views_count       4308.0   50.39   318.68   0.0   1.0    6.0   22.00   12831.0\n",
       "attraction_coeff  4308.0  316.41   323.37   0.0   0.0  250.0  520.25    1000.0\n",
       "was_premium       4308.0    0.09     0.29   0.0   0.0    0.0    0.00       1.0\n",
       "is_premium        4308.0    0.04     0.19   0.0   0.0    0.0    0.00       1.0\n",
       "total_revenue     4308.0  534.08  4371.68   0.0   0.0    0.0    0.00  129870.0"
      ]
     },
     "execution_count": 201,
     "metadata": {},
     "output_type": "execute_result"
    }
   ],
   "source": [
    "users_test.loc[:, ['age', 'coins', 'gender', 'age_filter_start', 'age_filter_end', 'views_count',\n",
    "                        'attraction_coeff','was_premium', 'is_premium', 'total_revenue']].describe().T.round(2)"
   ]
  },
  {
   "cell_type": "code",
   "execution_count": 202,
   "metadata": {},
   "outputs": [
    {
     "name": "stdout",
     "output_type": "stream",
     "text": [
      "Cредние и медианные значения coins и total_revenue для соответ. ненулевых знач. пользователей\n",
      "Для сoins > 0  ---------> среднее = 229.84\n",
      "                          медиана = 9.0\n",
      "Для total_revenue > 0 --> среднее(оно же ARPPU) = 15759.03\n",
      "                          медиана(median  RPPU) = 12727.0\n"
     ]
    }
   ],
   "source": [
    "coin_rev_more_0(users_test)"
   ]
  },
  {
   "cell_type": "code",
   "execution_count": 203,
   "metadata": {},
   "outputs": [
    {
     "name": "stdout",
     "output_type": "stream",
     "text": [
      "Суммарный заработок в тестовой группе - 2300818 \n"
     ]
    }
   ],
   "source": [
    "rev_u_t = users_test.total_revenue.sum()\n",
    "print(f'Суммарный заработок в тестовой группе - {rev_u_t} ')"
   ]
  },
  {
   "cell_type": "markdown",
   "metadata": {},
   "source": [
    "Найдем количество людей не продливавших подписку(аналогично 1-ой контрольной группе)"
   ]
  },
  {
   "cell_type": "code",
   "execution_count": 204,
   "metadata": {},
   "outputs": [
    {
     "data": {
      "text/plain": [
       "0"
      ]
     },
     "execution_count": 204,
     "metadata": {},
     "output_type": "execute_result"
    }
   ],
   "source": [
    "len(set(users_test.query('is_premium == 1').uid.tolist()) \n",
    "    & \n",
    "    set(users_test.query('was_premium == 0').uid.tolist()))"
   ]
  },
  {
   "cell_type": "code",
   "execution_count": 205,
   "metadata": {},
   "outputs": [],
   "source": [
    "users_test['extended_premium'] = users_test.was_premium + users_test.is_premium"
   ]
  },
  {
   "cell_type": "markdown",
   "metadata": {},
   "source": [
    "Выведем сведения о продлении по всей первой контрольной группе:"
   ]
  },
  {
   "cell_type": "code",
   "execution_count": 59,
   "metadata": {},
   "outputs": [
    {
     "name": "stdout",
     "output_type": "stream",
     "text": [
      "Продлевали премиум     - 157  пользователя или 3.64 %\n",
      "Не продлевали премиум  - 251  пользователя или 5.83 %\n",
      "Премиума не было и нет - 3900 пользователя или 90.53 %\n",
      "\n",
      "Тогда соответсвующие конверсии:\n",
      "Абсолютная CR в подписку 9.47 %\n",
      "Абсолютная CR в продление подписки 3.64 %\n"
     ]
    }
   ],
   "source": [
    "extended_premium(users_test)"
   ]
  },
  {
   "cell_type": "markdown",
   "metadata": {},
   "source": [
    "### 1.2 Первый взгляд на транзакции\n",
    "[Содержание](#Содержание)"
   ]
  },
  {
   "cell_type": "markdown",
   "metadata": {},
   "source": [
    "#### Первая контрольная группа:"
   ]
  },
  {
   "cell_type": "code",
   "execution_count": 60,
   "metadata": {},
   "outputs": [
    {
     "data": {
      "text/html": [
       "<div>\n",
       "<style scoped>\n",
       "    .dataframe tbody tr th:only-of-type {\n",
       "        vertical-align: middle;\n",
       "    }\n",
       "\n",
       "    .dataframe tbody tr th {\n",
       "        vertical-align: top;\n",
       "    }\n",
       "\n",
       "    .dataframe thead th {\n",
       "        text-align: right;\n",
       "    }\n",
       "</style>\n",
       "<table border=\"1\" class=\"dataframe\">\n",
       "  <thead>\n",
       "    <tr style=\"text-align: right;\">\n",
       "      <th></th>\n",
       "      <th>uid</th>\n",
       "      <th>country</th>\n",
       "      <th>joined_at</th>\n",
       "      <th>paid_at</th>\n",
       "      <th>revenue</th>\n",
       "      <th>payment_id</th>\n",
       "      <th>from_page</th>\n",
       "      <th>product_type</th>\n",
       "    </tr>\n",
       "  </thead>\n",
       "  <tbody>\n",
       "    <tr>\n",
       "      <th>0</th>\n",
       "      <td>891319275.0</td>\n",
       "      <td>France</td>\n",
       "      <td>2017-05-11 19:57:00</td>\n",
       "      <td>2017-12-11 21:57:00</td>\n",
       "      <td>12727.0</td>\n",
       "      <td>147.0</td>\n",
       "      <td>trial_vip_popup</td>\n",
       "      <td>trial_premium</td>\n",
       "    </tr>\n",
       "    <tr>\n",
       "      <th>1</th>\n",
       "      <td>892421826.0</td>\n",
       "      <td>Israel</td>\n",
       "      <td>2017-10-14 12:46:00</td>\n",
       "      <td>2017-10-23 12:54:00</td>\n",
       "      <td>14586.0</td>\n",
       "      <td>147.0</td>\n",
       "      <td>trial_vip_popup</td>\n",
       "      <td>trial_premium</td>\n",
       "    </tr>\n",
       "    <tr>\n",
       "      <th>2</th>\n",
       "      <td>891822480.0</td>\n",
       "      <td>Italy</td>\n",
       "      <td>2017-10-26 22:27:00</td>\n",
       "      <td>2017-12-11 20:59:00</td>\n",
       "      <td>1911.0</td>\n",
       "      <td>19.0</td>\n",
       "      <td>none</td>\n",
       "      <td>coins</td>\n",
       "    </tr>\n",
       "    <tr>\n",
       "      <th>3</th>\n",
       "      <td>891367521.0</td>\n",
       "      <td>Italy</td>\n",
       "      <td>2017-05-11 02:37:00</td>\n",
       "      <td>2017-06-11 19:15:00</td>\n",
       "      <td>1456.0</td>\n",
       "      <td>127.0</td>\n",
       "      <td>sympathy</td>\n",
       "      <td>other_type</td>\n",
       "    </tr>\n",
       "    <tr>\n",
       "      <th>4</th>\n",
       "      <td>892207959.0</td>\n",
       "      <td>France</td>\n",
       "      <td>2017-10-18 18:30:00</td>\n",
       "      <td>2017-12-11 12:03:00</td>\n",
       "      <td>1261.0</td>\n",
       "      <td>19.0</td>\n",
       "      <td>empty_likes</td>\n",
       "      <td>coins</td>\n",
       "    </tr>\n",
       "  </tbody>\n",
       "</table>\n",
       "</div>"
      ],
      "text/plain": [
       "           uid country           joined_at             paid_at  revenue  \\\n",
       "0  891319275.0  France 2017-05-11 19:57:00 2017-12-11 21:57:00  12727.0   \n",
       "1  892421826.0  Israel 2017-10-14 12:46:00 2017-10-23 12:54:00  14586.0   \n",
       "2  891822480.0   Italy 2017-10-26 22:27:00 2017-12-11 20:59:00   1911.0   \n",
       "3  891367521.0   Italy 2017-05-11 02:37:00 2017-06-11 19:15:00   1456.0   \n",
       "4  892207959.0  France 2017-10-18 18:30:00 2017-12-11 12:03:00   1261.0   \n",
       "\n",
       "   payment_id        from_page   product_type  \n",
       "0       147.0  trial_vip_popup  trial_premium  \n",
       "1       147.0  trial_vip_popup  trial_premium  \n",
       "2        19.0             none          coins  \n",
       "3       127.0         sympathy     other_type  \n",
       "4        19.0      empty_likes          coins  "
      ]
     },
     "execution_count": 60,
     "metadata": {},
     "output_type": "execute_result"
    }
   ],
   "source": [
    "transactions_control_1.head()"
   ]
  },
  {
   "cell_type": "code",
   "execution_count": 61,
   "metadata": {},
   "outputs": [
    {
     "data": {
      "text/plain": [
       "(1007, 8)"
      ]
     },
     "execution_count": 61,
     "metadata": {},
     "output_type": "execute_result"
    }
   ],
   "source": [
    "transactions_control_1.shape"
   ]
  },
  {
   "cell_type": "code",
   "execution_count": 62,
   "metadata": {},
   "outputs": [
    {
     "data": {
      "text/plain": [
       "uid                    float64\n",
       "country                 object\n",
       "joined_at       datetime64[ns]\n",
       "paid_at         datetime64[ns]\n",
       "revenue                float64\n",
       "payment_id             float64\n",
       "from_page               object\n",
       "product_type            object\n",
       "dtype: object"
      ]
     },
     "execution_count": 62,
     "metadata": {},
     "output_type": "execute_result"
    }
   ],
   "source": [
    "transactions_control_1.dtypes"
   ]
  },
  {
   "cell_type": "code",
   "execution_count": 63,
   "metadata": {},
   "outputs": [
    {
     "data": {
      "text/plain": [
       "uid             630\n",
       "country         630\n",
       "joined_at       630\n",
       "paid_at         630\n",
       "revenue         630\n",
       "payment_id      630\n",
       "from_page       630\n",
       "product_type    630\n",
       "dtype: int64"
      ]
     },
     "execution_count": 63,
     "metadata": {},
     "output_type": "execute_result"
    }
   ],
   "source": [
    "transactions_control_1.isna().sum()"
   ]
  },
  {
   "cell_type": "markdown",
   "metadata": {},
   "source": [
    "Удалим пустые строки в данных и преобразуем uid и payment_id к целочисленному типу"
   ]
  },
  {
   "cell_type": "code",
   "execution_count": 64,
   "metadata": {},
   "outputs": [],
   "source": [
    "transactions_control_1 = transactions_control_1.dropna()\n",
    "transactions_control_1 = transactions_control_1.astype({'uid': 'int64', 'payment_id':'int64'})"
   ]
  },
  {
   "cell_type": "markdown",
   "metadata": {},
   "source": [
    "Проверим наличие полных дубликатов - при наличии - удаляем их"
   ]
  },
  {
   "cell_type": "code",
   "execution_count": 65,
   "metadata": {},
   "outputs": [
    {
     "data": {
      "text/plain": [
       "21"
      ]
     },
     "execution_count": 65,
     "metadata": {},
     "output_type": "execute_result"
    }
   ],
   "source": [
    "transactions_control_1.duplicated().sum()"
   ]
  },
  {
   "cell_type": "code",
   "execution_count": 66,
   "metadata": {},
   "outputs": [],
   "source": [
    "transactions_control_1 = transactions_control_1.drop_duplicates()"
   ]
  },
  {
   "cell_type": "markdown",
   "metadata": {},
   "source": [
    "Найдем временные рамки проведенных покупок и регистраций пользователей:"
   ]
  },
  {
   "cell_type": "code",
   "execution_count": 67,
   "metadata": {},
   "outputs": [
    {
     "name": "stdout",
     "output_type": "stream",
     "text": [
      "Рамки регистраций пользователей: c 2015-01-19\n",
      "                                до 2017-10-31\n",
      "\n",
      "Рамки проведения транзакций:     c 2016-12-14\n",
      "                                до 2017-12-11\n",
      "\n"
     ]
    }
   ],
   "source": [
    "time_frame(transactions_control_1)"
   ]
  },
  {
   "cell_type": "markdown",
   "metadata": {},
   "source": [
    "Найдем суммарный доход:"
   ]
  },
  {
   "cell_type": "code",
   "execution_count": 68,
   "metadata": {},
   "outputs": [
    {
     "name": "stdout",
     "output_type": "stream",
     "text": [
      "Суммарный заработок в 1-й контрольной группе - 2494804.0 \n",
      "Проверим, общий доход должен бы совпадать - 2581267 и 2494804.0 -> False\n"
     ]
    }
   ],
   "source": [
    "rev_t_c1 = transactions_control_1.revenue.sum()\n",
    "print(f'Суммарный заработок в 1-й контрольной группе - {rev_t_c1} ')\n",
    "print(f'Проверим, общий доход должен бы совпадать - {rev_u_c1} и {rev_t_c1} -> {rev_u_c1 == rev_t_c1}')"
   ]
  },
  {
   "cell_type": "markdown",
   "metadata": {},
   "source": [
    "Странно, общий доход в файлах users_control_1 и transactions_control_1 не совпадает....   \n",
    "Интересно, разница в несколько процентов, уточним этот момент в процессе проверки сплитования, когда заодно будем проверять соответвие пользователей"
   ]
  },
  {
   "cell_type": "markdown",
   "metadata": {},
   "source": [
    "Посмотрим на распределение транзакций пользователей"
   ]
  },
  {
   "cell_type": "code",
   "execution_count": 69,
   "metadata": {},
   "outputs": [
    {
     "data": {
      "text/plain": [
       "Text(0, 0.5, 'transaction frequency')"
      ]
     },
     "execution_count": 69,
     "metadata": {},
     "output_type": "execute_result"
    },
    {
     "data": {
      "image/png": "[encoded data removed]",
      "text/plain": [
       "<Figure size 432x288 with 1 Axes>"
      ]
     },
     "metadata": {
      "needs_background": "light"
     },
     "output_type": "display_data"
    }
   ],
   "source": [
    "fig, ax = plt.subplots(1, 1, figsize=(6,4))\n",
    "ax = transactions_control_1.revenue.hist(bins=50)\n",
    "ax.set_xlabel('transaction amount')\n",
    "ax.set_ylabel('transaction frequency')"
   ]
  },
  {
   "cell_type": "markdown",
   "metadata": {},
   "source": [
    "Найдем, какой тип продукта больше покупают, какой приносит бОльший доход и какие средние размеры транзакций по категориям"
   ]
  },
  {
   "cell_type": "code",
   "execution_count": 70,
   "metadata": {},
   "outputs": [
    {
     "data": {
      "image/png": "[encoded data removed]",
      "text/plain": [
       "<Figure size 1872x576 with 3 Axes>"
      ]
     },
     "metadata": {
      "needs_background": "light"
     },
     "output_type": "display_data"
    }
   ],
   "source": [
    "type_plot(transactions_control_1)"
   ]
  },
  {
   "cell_type": "markdown",
   "metadata": {},
   "source": [
    "#### Вторая контрольная группа:"
   ]
  },
  {
   "cell_type": "code",
   "execution_count": 71,
   "metadata": {},
   "outputs": [
    {
     "data": {
      "text/html": [
       "<div>\n",
       "<style scoped>\n",
       "    .dataframe tbody tr th:only-of-type {\n",
       "        vertical-align: middle;\n",
       "    }\n",
       "\n",
       "    .dataframe tbody tr th {\n",
       "        vertical-align: top;\n",
       "    }\n",
       "\n",
       "    .dataframe thead th {\n",
       "        text-align: right;\n",
       "    }\n",
       "</style>\n",
       "<table border=\"1\" class=\"dataframe\">\n",
       "  <thead>\n",
       "    <tr style=\"text-align: right;\">\n",
       "      <th></th>\n",
       "      <th>uid</th>\n",
       "      <th>country</th>\n",
       "      <th>joined_at</th>\n",
       "      <th>paid_at</th>\n",
       "      <th>revenue</th>\n",
       "      <th>payment_id</th>\n",
       "      <th>from_page</th>\n",
       "      <th>product_type</th>\n",
       "    </tr>\n",
       "  </thead>\n",
       "  <tbody>\n",
       "    <tr>\n",
       "      <th>0</th>\n",
       "      <td>891266616</td>\n",
       "      <td>Argentina</td>\n",
       "      <td>2017-06-11 15:25:00</td>\n",
       "      <td>2017-10-11 17:35:00</td>\n",
       "      <td>6305</td>\n",
       "      <td>19</td>\n",
       "      <td>autorefill</td>\n",
       "      <td>coins</td>\n",
       "    </tr>\n",
       "    <tr>\n",
       "      <th>1</th>\n",
       "      <td>892186737</td>\n",
       "      <td>Chile</td>\n",
       "      <td>2017-10-19 06:03:00</td>\n",
       "      <td>2017-04-11 08:53:00</td>\n",
       "      <td>4732</td>\n",
       "      <td>147</td>\n",
       "      <td>promo_09</td>\n",
       "      <td>premium_no_trial</td>\n",
       "    </tr>\n",
       "    <tr>\n",
       "      <th>2</th>\n",
       "      <td>891959004</td>\n",
       "      <td>United States of America</td>\n",
       "      <td>2017-10-24 00:12:00</td>\n",
       "      <td>2017-10-31 02:12:00</td>\n",
       "      <td>10153</td>\n",
       "      <td>147</td>\n",
       "      <td>trial_vip_popup</td>\n",
       "      <td>trial_premium</td>\n",
       "    </tr>\n",
       "    <tr>\n",
       "      <th>3</th>\n",
       "      <td>892115478</td>\n",
       "      <td>Spain</td>\n",
       "      <td>2017-10-20 20:39:00</td>\n",
       "      <td>2017-10-26 06:26:00</td>\n",
       "      <td>2366</td>\n",
       "      <td>67</td>\n",
       "      <td>empty_likes</td>\n",
       "      <td>other_type</td>\n",
       "    </tr>\n",
       "    <tr>\n",
       "      <th>4</th>\n",
       "      <td>891592941</td>\n",
       "      <td>Switzerland</td>\n",
       "      <td>2017-10-31 12:40:00</td>\n",
       "      <td>2017-03-11 16:25:00</td>\n",
       "      <td>6292</td>\n",
       "      <td>147</td>\n",
       "      <td>promo_09</td>\n",
       "      <td>premium_no_trial</td>\n",
       "    </tr>\n",
       "  </tbody>\n",
       "</table>\n",
       "</div>"
      ],
      "text/plain": [
       "         uid                   country           joined_at  \\\n",
       "0  891266616                 Argentina 2017-06-11 15:25:00   \n",
       "1  892186737                     Chile 2017-10-19 06:03:00   \n",
       "2  891959004  United States of America 2017-10-24 00:12:00   \n",
       "3  892115478                     Spain 2017-10-20 20:39:00   \n",
       "4  891592941               Switzerland 2017-10-31 12:40:00   \n",
       "\n",
       "              paid_at  revenue  payment_id        from_page      product_type  \n",
       "0 2017-10-11 17:35:00     6305          19       autorefill             coins  \n",
       "1 2017-04-11 08:53:00     4732         147         promo_09  premium_no_trial  \n",
       "2 2017-10-31 02:12:00    10153         147  trial_vip_popup     trial_premium  \n",
       "3 2017-10-26 06:26:00     2366          67      empty_likes        other_type  \n",
       "4 2017-03-11 16:25:00     6292         147         promo_09  premium_no_trial  "
      ]
     },
     "execution_count": 71,
     "metadata": {},
     "output_type": "execute_result"
    }
   ],
   "source": [
    "transactions_control_2.head()"
   ]
  },
  {
   "cell_type": "code",
   "execution_count": 72,
   "metadata": {},
   "outputs": [
    {
     "data": {
      "text/plain": [
       "(328, 8)"
      ]
     },
     "execution_count": 72,
     "metadata": {},
     "output_type": "execute_result"
    }
   ],
   "source": [
    "transactions_control_2.shape"
   ]
  },
  {
   "cell_type": "code",
   "execution_count": 73,
   "metadata": {},
   "outputs": [
    {
     "data": {
      "text/plain": [
       "uid                      int64\n",
       "country                 object\n",
       "joined_at       datetime64[ns]\n",
       "paid_at         datetime64[ns]\n",
       "revenue                  int64\n",
       "payment_id               int64\n",
       "from_page               object\n",
       "product_type            object\n",
       "dtype: object"
      ]
     },
     "execution_count": 73,
     "metadata": {},
     "output_type": "execute_result"
    }
   ],
   "source": [
    "transactions_control_2.dtypes"
   ]
  },
  {
   "cell_type": "code",
   "execution_count": 74,
   "metadata": {},
   "outputs": [
    {
     "data": {
      "text/plain": [
       "uid             0\n",
       "country         0\n",
       "joined_at       0\n",
       "paid_at         0\n",
       "revenue         0\n",
       "payment_id      0\n",
       "from_page       0\n",
       "product_type    0\n",
       "dtype: int64"
      ]
     },
     "execution_count": 74,
     "metadata": {},
     "output_type": "execute_result"
    }
   ],
   "source": [
    "transactions_control_2.isna().sum()"
   ]
  },
  {
   "cell_type": "markdown",
   "metadata": {},
   "source": [
    "Проверим наличие полных дубликатов - при наличии - удаляем их"
   ]
  },
  {
   "cell_type": "code",
   "execution_count": 75,
   "metadata": {},
   "outputs": [
    {
     "data": {
      "text/plain": [
       "5"
      ]
     },
     "execution_count": 75,
     "metadata": {},
     "output_type": "execute_result"
    }
   ],
   "source": [
    "transactions_control_2.duplicated().sum()"
   ]
  },
  {
   "cell_type": "code",
   "execution_count": 76,
   "metadata": {},
   "outputs": [],
   "source": [
    "transactions_control_2 = transactions_control_2.drop_duplicates()"
   ]
  },
  {
   "cell_type": "markdown",
   "metadata": {},
   "source": [
    "Найдем временные рамки проведенных покупок и регистраций пользователей:"
   ]
  },
  {
   "cell_type": "code",
   "execution_count": 77,
   "metadata": {
    "scrolled": true
   },
   "outputs": [
    {
     "name": "stdout",
     "output_type": "stream",
     "text": [
      "Рамки регистраций пользователей: c 2017-01-11\n",
      "                                до 2017-10-31\n",
      "\n",
      "Рамки проведения транзакций:     c 2017-01-11\n",
      "                                до 2017-12-11\n",
      "\n"
     ]
    }
   ],
   "source": [
    "time_frame(transactions_control_2)"
   ]
  },
  {
   "cell_type": "markdown",
   "metadata": {},
   "source": [
    "Найдем суммарный доход:"
   ]
  },
  {
   "cell_type": "code",
   "execution_count": 78,
   "metadata": {},
   "outputs": [
    {
     "name": "stdout",
     "output_type": "stream",
     "text": [
      "Суммарный заработок во  2-й контрольной группе - 1907997 \n",
      "Проверим, общий доход должен бы совпадать - 1920438 и 1907997 -> False\n"
     ]
    }
   ],
   "source": [
    "rev_t_c2 = transactions_control_2.revenue.sum()\n",
    "print(f'Суммарный заработок во  2-й контрольной группе - {rev_t_c2} ')\n",
    "print(f'Проверим, общий доход должен бы совпадать - {rev_u_c2} и {rev_t_c2} -> {rev_u_c2 == rev_t_c2}')"
   ]
  },
  {
   "cell_type": "markdown",
   "metadata": {},
   "source": [
    "Странно, общий доход в файлах users_control_2 и transactions_control_2 не совпадает....   \n",
    "Интересно, разница в несколько процентов, уточним этот момент в процессе проверки сплитования, когда заодно будем проверять соответвие пользователей"
   ]
  },
  {
   "cell_type": "markdown",
   "metadata": {},
   "source": [
    "Посмотрим на распределение транзакций пользователей"
   ]
  },
  {
   "cell_type": "code",
   "execution_count": 79,
   "metadata": {},
   "outputs": [
    {
     "data": {
      "text/plain": [
       "Text(0, 0.5, 'transaction frequency')"
      ]
     },
     "execution_count": 79,
     "metadata": {},
     "output_type": "execute_result"
    },
    {
     "data": {
      "image/png": "[encoded data removed]",
      "text/plain": [
       "<Figure size 432x288 with 1 Axes>"
      ]
     },
     "metadata": {
      "needs_background": "light"
     },
     "output_type": "display_data"
    }
   ],
   "source": [
    "fig, ax = plt.subplots(1, 1, figsize=(6,4))\n",
    "ax = transactions_control_2.revenue.hist(bins=50)\n",
    "ax.set_xlabel('transaction amount')\n",
    "ax.set_ylabel('transaction frequency')"
   ]
  },
  {
   "cell_type": "markdown",
   "metadata": {},
   "source": [
    "Найдем, какой тип продукта больше покупают, какой приносит бОльший доход и какие средние размеры транзакций по категориям"
   ]
  },
  {
   "cell_type": "code",
   "execution_count": 80,
   "metadata": {},
   "outputs": [
    {
     "data": {
      "image/png": "[encoded data removed]",
      "text/plain": [
       "<Figure size 1872x576 with 3 Axes>"
      ]
     },
     "metadata": {
      "needs_background": "light"
     },
     "output_type": "display_data"
    }
   ],
   "source": [
    "type_plot(transactions_control_2)"
   ]
  },
  {
   "cell_type": "markdown",
   "metadata": {},
   "source": [
    "#### Тестовая группа:"
   ]
  },
  {
   "cell_type": "code",
   "execution_count": 81,
   "metadata": {},
   "outputs": [
    {
     "data": {
      "text/html": [
       "<div>\n",
       "<style scoped>\n",
       "    .dataframe tbody tr th:only-of-type {\n",
       "        vertical-align: middle;\n",
       "    }\n",
       "\n",
       "    .dataframe tbody tr th {\n",
       "        vertical-align: top;\n",
       "    }\n",
       "\n",
       "    .dataframe thead th {\n",
       "        text-align: right;\n",
       "    }\n",
       "</style>\n",
       "<table border=\"1\" class=\"dataframe\">\n",
       "  <thead>\n",
       "    <tr style=\"text-align: right;\">\n",
       "      <th></th>\n",
       "      <th>uid</th>\n",
       "      <th>country</th>\n",
       "      <th>joined_at</th>\n",
       "      <th>paid_at</th>\n",
       "      <th>revenue</th>\n",
       "      <th>payment_id</th>\n",
       "      <th>from_page</th>\n",
       "      <th>product_type</th>\n",
       "    </tr>\n",
       "  </thead>\n",
       "  <tbody>\n",
       "    <tr>\n",
       "      <th>0</th>\n",
       "      <td>891345942</td>\n",
       "      <td>Italy</td>\n",
       "      <td>2017-05-11 13:00:00</td>\n",
       "      <td>2017-11-13 15:04:00</td>\n",
       "      <td>12909</td>\n",
       "      <td>147</td>\n",
       "      <td>trial_vip_popup</td>\n",
       "      <td>trial_premium</td>\n",
       "    </tr>\n",
       "    <tr>\n",
       "      <th>1</th>\n",
       "      <td>892054251</td>\n",
       "      <td>United States of America</td>\n",
       "      <td>2017-10-22 00:33:00</td>\n",
       "      <td>2017-10-30 01:37:00</td>\n",
       "      <td>13923</td>\n",
       "      <td>147</td>\n",
       "      <td>trial_vip_popup</td>\n",
       "      <td>trial_premium</td>\n",
       "    </tr>\n",
       "    <tr>\n",
       "      <th>2</th>\n",
       "      <td>892236423</td>\n",
       "      <td>United States of America</td>\n",
       "      <td>2017-10-18 01:09:00</td>\n",
       "      <td>2017-10-23 00:15:00</td>\n",
       "      <td>3783</td>\n",
       "      <td>67</td>\n",
       "      <td>menu</td>\n",
       "      <td>other_type</td>\n",
       "    </tr>\n",
       "    <tr>\n",
       "      <th>3</th>\n",
       "      <td>892236423</td>\n",
       "      <td>United States of America</td>\n",
       "      <td>2017-10-18 01:09:00</td>\n",
       "      <td>2017-10-27 22:38:00</td>\n",
       "      <td>3783</td>\n",
       "      <td>67</td>\n",
       "      <td>menu</td>\n",
       "      <td>other_type</td>\n",
       "    </tr>\n",
       "    <tr>\n",
       "      <th>4</th>\n",
       "      <td>892168170</td>\n",
       "      <td>United States of America</td>\n",
       "      <td>2017-10-19 17:10:00</td>\n",
       "      <td>2017-10-27 19:10:00</td>\n",
       "      <td>9087</td>\n",
       "      <td>147</td>\n",
       "      <td>trial_vip_popup</td>\n",
       "      <td>trial_premium</td>\n",
       "    </tr>\n",
       "  </tbody>\n",
       "</table>\n",
       "</div>"
      ],
      "text/plain": [
       "         uid                   country           joined_at  \\\n",
       "0  891345942                     Italy 2017-05-11 13:00:00   \n",
       "1  892054251  United States of America 2017-10-22 00:33:00   \n",
       "2  892236423  United States of America 2017-10-18 01:09:00   \n",
       "3  892236423  United States of America 2017-10-18 01:09:00   \n",
       "4  892168170  United States of America 2017-10-19 17:10:00   \n",
       "\n",
       "              paid_at  revenue  payment_id        from_page   product_type  \n",
       "0 2017-11-13 15:04:00    12909         147  trial_vip_popup  trial_premium  \n",
       "1 2017-10-30 01:37:00    13923         147  trial_vip_popup  trial_premium  \n",
       "2 2017-10-23 00:15:00     3783          67             menu     other_type  \n",
       "3 2017-10-27 22:38:00     3783          67             menu     other_type  \n",
       "4 2017-10-27 19:10:00     9087         147  trial_vip_popup  trial_premium  "
      ]
     },
     "execution_count": 81,
     "metadata": {},
     "output_type": "execute_result"
    }
   ],
   "source": [
    "transactions_test.head()"
   ]
  },
  {
   "cell_type": "code",
   "execution_count": 82,
   "metadata": {},
   "outputs": [
    {
     "data": {
      "text/plain": [
       "(273, 8)"
      ]
     },
     "execution_count": 82,
     "metadata": {},
     "output_type": "execute_result"
    }
   ],
   "source": [
    "transactions_test.shape"
   ]
  },
  {
   "cell_type": "code",
   "execution_count": 83,
   "metadata": {},
   "outputs": [
    {
     "data": {
      "text/plain": [
       "uid                      int64\n",
       "country                 object\n",
       "joined_at       datetime64[ns]\n",
       "paid_at         datetime64[ns]\n",
       "revenue                  int64\n",
       "payment_id               int64\n",
       "from_page               object\n",
       "product_type            object\n",
       "dtype: object"
      ]
     },
     "execution_count": 83,
     "metadata": {},
     "output_type": "execute_result"
    }
   ],
   "source": [
    "transactions_test.dtypes"
   ]
  },
  {
   "cell_type": "code",
   "execution_count": 84,
   "metadata": {},
   "outputs": [
    {
     "data": {
      "text/plain": [
       "uid             0\n",
       "country         0\n",
       "joined_at       0\n",
       "paid_at         0\n",
       "revenue         0\n",
       "payment_id      0\n",
       "from_page       0\n",
       "product_type    0\n",
       "dtype: int64"
      ]
     },
     "execution_count": 84,
     "metadata": {},
     "output_type": "execute_result"
    }
   ],
   "source": [
    "transactions_test.isna().sum()"
   ]
  },
  {
   "cell_type": "markdown",
   "metadata": {},
   "source": [
    "Проверим наличие полных дубликатов - при наличии - удаляем их"
   ]
  },
  {
   "cell_type": "code",
   "execution_count": 85,
   "metadata": {},
   "outputs": [
    {
     "data": {
      "text/plain": [
       "7"
      ]
     },
     "execution_count": 85,
     "metadata": {},
     "output_type": "execute_result"
    }
   ],
   "source": [
    "transactions_test.duplicated().sum()"
   ]
  },
  {
   "cell_type": "code",
   "execution_count": 86,
   "metadata": {},
   "outputs": [],
   "source": [
    "transactions_test = transactions_test.drop_duplicates()"
   ]
  },
  {
   "cell_type": "markdown",
   "metadata": {},
   "source": [
    "Найдем временные рамки проведенных покупок и регистраций пользователей:"
   ]
  },
  {
   "cell_type": "code",
   "execution_count": 87,
   "metadata": {},
   "outputs": [
    {
     "name": "stdout",
     "output_type": "stream",
     "text": [
      "Рамки регистраций пользователей: c 2017-01-11\n",
      "                                до 2017-10-31\n",
      "\n",
      "Рамки проведения транзакций:     c 2017-01-11\n",
      "                                до 2017-12-11\n",
      "\n"
     ]
    }
   ],
   "source": [
    "time_frame(transactions_test)"
   ]
  },
  {
   "cell_type": "markdown",
   "metadata": {},
   "source": [
    "Найдем суммарный заработок:"
   ]
  },
  {
   "cell_type": "code",
   "execution_count": 88,
   "metadata": {},
   "outputs": [
    {
     "name": "stdout",
     "output_type": "stream",
     "text": [
      "Суммарный заработок в тестовой группе - 2332226 \n",
      "Проверим, общий доход должен бы совпадать - 2300818 и 2332226 -> False\n"
     ]
    }
   ],
   "source": [
    "rev_t_t = transactions_test.revenue.sum()\n",
    "print(f'Суммарный заработок в тестовой группе - {rev_t_t} ')\n",
    "print(f'Проверим, общий доход должен бы совпадать - {rev_u_t} и {rev_t_t} -> {rev_u_t == rev_t_t}')"
   ]
  },
  {
   "cell_type": "markdown",
   "metadata": {},
   "source": [
    "Странно, общий доход в файлах users_test и transactions_test не совпадает....   \n",
    "Интересно, разница в несколько процентов, уточним этот момент в процессе проверки сплитования, когда заодно будем проверять соответвие пользователей"
   ]
  },
  {
   "cell_type": "markdown",
   "metadata": {},
   "source": [
    "Посмотрим на распределение транзакций пользователей"
   ]
  },
  {
   "cell_type": "code",
   "execution_count": 89,
   "metadata": {},
   "outputs": [
    {
     "data": {
      "text/plain": [
       "Text(0, 0.5, 'transaction frequency')"
      ]
     },
     "execution_count": 89,
     "metadata": {},
     "output_type": "execute_result"
    },
    {
     "data": {
      "image/png": "[encoded data removed]",
      "text/plain": [
       "<Figure size 432x288 with 1 Axes>"
      ]
     },
     "metadata": {
      "needs_background": "light"
     },
     "output_type": "display_data"
    }
   ],
   "source": [
    "fig, ax = plt.subplots(1, 1, figsize=(6,4))\n",
    "ax = transactions_test.revenue.hist(bins=50)\n",
    "ax.set_xlabel('transaction amount')\n",
    "ax.set_ylabel('transaction frequency')"
   ]
  },
  {
   "cell_type": "markdown",
   "metadata": {},
   "source": [
    "Найдем, какой тип продукта больше покупают, какой приносит бОльший доход и какие средние размеры транзакций по категориям"
   ]
  },
  {
   "cell_type": "code",
   "execution_count": 90,
   "metadata": {},
   "outputs": [
    {
     "data": {
      "image/png": "[encoded data removed]",
      "text/plain": [
       "<Figure size 1872x576 with 3 Axes>"
      ]
     },
     "metadata": {
      "needs_background": "light"
     },
     "output_type": "display_data"
    }
   ],
   "source": [
    "type_plot(transactions_test)"
   ]
  },
  {
   "cell_type": "markdown",
   "metadata": {},
   "source": [
    "## 2. Сравнение групп пользователей и исправление недочетов\n",
    "[Содержание](#Содержание)"
   ]
  },
  {
   "cell_type": "markdown",
   "metadata": {},
   "source": [
    "Вспомним, что рамки проведения транзакций transactions_control_1 отличаются от двух других групп, найдем размер различий:"
   ]
  },
  {
   "cell_type": "code",
   "execution_count": 91,
   "metadata": {},
   "outputs": [
    {
     "name": "stdout",
     "output_type": "stream",
     "text": [
      "Для transactions_control_1\n",
      "Рамки регистраций пользователей: c 2015-01-19\n",
      "                                до 2017-10-31\n",
      "\n",
      "Рамки проведения транзакций:     c 2016-12-14\n",
      "                                до 2017-12-11\n",
      "\n",
      "Для transactions_control_2\n",
      "Рамки регистраций пользователей: c 2017-01-11\n",
      "                                до 2017-10-31\n",
      "\n",
      "Рамки проведения транзакций:     c 2017-01-11\n",
      "                                до 2017-12-11\n",
      "\n",
      "Для transactions_test\n",
      "Рамки регистраций пользователей: c 2017-01-11\n",
      "                                до 2017-10-31\n",
      "\n",
      "Рамки проведения транзакций:     c 2017-01-11\n",
      "                                до 2017-12-11\n",
      "\n"
     ]
    }
   ],
   "source": [
    "print('Для transactions_control_1')\n",
    "time_frame(transactions_control_1)\n",
    "print('Для transactions_control_2')\n",
    "time_frame(transactions_control_2)\n",
    "print('Для transactions_test')\n",
    "time_frame(transactions_test)"
   ]
  },
  {
   "cell_type": "code",
   "execution_count": 92,
   "metadata": {},
   "outputs": [
    {
     "data": {
      "text/plain": [
       "65    2015-01-19 11:49:00\n",
       "224   2015-01-19 11:49:00\n",
       "101   2015-01-19 11:49:00\n",
       "342   2017-01-11 01:06:00\n",
       "368   2017-01-11 01:06:00\n",
       "Name: joined_at, dtype: datetime64[ns]"
      ]
     },
     "execution_count": 92,
     "metadata": {},
     "output_type": "execute_result"
    }
   ],
   "source": [
    "transactions_control_1.joined_at.sort_values().head()"
   ]
  },
  {
   "cell_type": "code",
   "execution_count": 93,
   "metadata": {},
   "outputs": [
    {
     "data": {
      "text/plain": [
       "224   2016-12-14 16:16:00\n",
       "65    2016-12-14 17:30:00\n",
       "101   2016-12-14 17:35:00\n",
       "374   2017-01-11 02:56:00\n",
       "124   2017-01-11 04:10:00\n",
       "Name: paid_at, dtype: datetime64[ns]"
      ]
     },
     "execution_count": 93,
     "metadata": {},
     "output_type": "execute_result"
    }
   ],
   "source": [
    "transactions_control_1.paid_at.sort_values().head()"
   ]
  },
  {
   "cell_type": "code",
   "execution_count": 94,
   "metadata": {},
   "outputs": [
    {
     "data": {
      "text/html": [
       "<div>\n",
       "<style scoped>\n",
       "    .dataframe tbody tr th:only-of-type {\n",
       "        vertical-align: middle;\n",
       "    }\n",
       "\n",
       "    .dataframe tbody tr th {\n",
       "        vertical-align: top;\n",
       "    }\n",
       "\n",
       "    .dataframe thead th {\n",
       "        text-align: right;\n",
       "    }\n",
       "</style>\n",
       "<table border=\"1\" class=\"dataframe\">\n",
       "  <thead>\n",
       "    <tr style=\"text-align: right;\">\n",
       "      <th></th>\n",
       "      <th>uid</th>\n",
       "      <th>country</th>\n",
       "      <th>joined_at</th>\n",
       "      <th>paid_at</th>\n",
       "      <th>revenue</th>\n",
       "      <th>payment_id</th>\n",
       "      <th>from_page</th>\n",
       "      <th>product_type</th>\n",
       "    </tr>\n",
       "  </thead>\n",
       "  <tbody>\n",
       "    <tr>\n",
       "      <th>65</th>\n",
       "      <td>960936960</td>\n",
       "      <td>Russian Federation</td>\n",
       "      <td>2015-01-19 11:49:00</td>\n",
       "      <td>2016-12-14 17:30:00</td>\n",
       "      <td>26.0</td>\n",
       "      <td>0</td>\n",
       "      <td>refund_VP</td>\n",
       "      <td>other_type</td>\n",
       "    </tr>\n",
       "    <tr>\n",
       "      <th>101</th>\n",
       "      <td>960936960</td>\n",
       "      <td>Russian Federation</td>\n",
       "      <td>2015-01-19 11:49:00</td>\n",
       "      <td>2016-12-14 17:35:00</td>\n",
       "      <td>637.0</td>\n",
       "      <td>0</td>\n",
       "      <td>refung_AP</td>\n",
       "      <td>other_type</td>\n",
       "    </tr>\n",
       "    <tr>\n",
       "      <th>224</th>\n",
       "      <td>960936960</td>\n",
       "      <td>Russian Federation</td>\n",
       "      <td>2015-01-19 11:49:00</td>\n",
       "      <td>2016-12-14 16:16:00</td>\n",
       "      <td>143.0</td>\n",
       "      <td>0</td>\n",
       "      <td>refund_WP</td>\n",
       "      <td>other_type</td>\n",
       "    </tr>\n",
       "  </tbody>\n",
       "</table>\n",
       "</div>"
      ],
      "text/plain": [
       "           uid             country           joined_at             paid_at  \\\n",
       "65   960936960  Russian Federation 2015-01-19 11:49:00 2016-12-14 17:30:00   \n",
       "101  960936960  Russian Federation 2015-01-19 11:49:00 2016-12-14 17:35:00   \n",
       "224  960936960  Russian Federation 2015-01-19 11:49:00 2016-12-14 16:16:00   \n",
       "\n",
       "     revenue  payment_id  from_page product_type  \n",
       "65      26.0           0  refund_VP   other_type  \n",
       "101    637.0           0  refung_AP   other_type  \n",
       "224    143.0           0  refund_WP   other_type  "
      ]
     },
     "execution_count": 94,
     "metadata": {},
     "output_type": "execute_result"
    }
   ],
   "source": [
    "transactions_control_1.query('joined_at == \"2015-01-19 11:49:00\"')"
   ]
  },
  {
   "cell_type": "code",
   "execution_count": 95,
   "metadata": {},
   "outputs": [
    {
     "data": {
      "text/html": [
       "<div>\n",
       "<style scoped>\n",
       "    .dataframe tbody tr th:only-of-type {\n",
       "        vertical-align: middle;\n",
       "    }\n",
       "\n",
       "    .dataframe tbody tr th {\n",
       "        vertical-align: top;\n",
       "    }\n",
       "\n",
       "    .dataframe thead th {\n",
       "        text-align: right;\n",
       "    }\n",
       "</style>\n",
       "<table border=\"1\" class=\"dataframe\">\n",
       "  <thead>\n",
       "    <tr style=\"text-align: right;\">\n",
       "      <th></th>\n",
       "      <th>uid</th>\n",
       "      <th>age</th>\n",
       "      <th>attraction_coeff</th>\n",
       "      <th>coins</th>\n",
       "      <th>country</th>\n",
       "      <th>visit_days</th>\n",
       "      <th>gender</th>\n",
       "      <th>age_filter_start</th>\n",
       "      <th>age_filter_end</th>\n",
       "      <th>views_count</th>\n",
       "      <th>was_premium</th>\n",
       "      <th>is_premium</th>\n",
       "      <th>total_revenue</th>\n",
       "      <th>extended_premium</th>\n",
       "    </tr>\n",
       "  </thead>\n",
       "  <tbody>\n",
       "    <tr>\n",
       "      <th>510</th>\n",
       "      <td>960936960</td>\n",
       "      <td>30</td>\n",
       "      <td>4</td>\n",
       "      <td>99958</td>\n",
       "      <td>Russian Federation</td>\n",
       "      <td>1,2,3,4,7,8,9,10,11,14,15,16,17,18,21,22,23,24...</td>\n",
       "      <td>1</td>\n",
       "      <td>26</td>\n",
       "      <td>62</td>\n",
       "      <td>4262</td>\n",
       "      <td>1</td>\n",
       "      <td>1</td>\n",
       "      <td>26</td>\n",
       "      <td>2</td>\n",
       "    </tr>\n",
       "  </tbody>\n",
       "</table>\n",
       "</div>"
      ],
      "text/plain": [
       "           uid  age  attraction_coeff  coins             country  \\\n",
       "510  960936960   30                 4  99958  Russian Federation   \n",
       "\n",
       "                                            visit_days  gender  \\\n",
       "510  1,2,3,4,7,8,9,10,11,14,15,16,17,18,21,22,23,24...       1   \n",
       "\n",
       "     age_filter_start  age_filter_end  views_count  was_premium  is_premium  \\\n",
       "510                26              62         4262            1           1   \n",
       "\n",
       "     total_revenue  extended_premium  \n",
       "510             26                 2  "
      ]
     },
     "execution_count": 95,
     "metadata": {},
     "output_type": "execute_result"
    }
   ],
   "source": [
    "users_control_1.query('uid == 960936960')"
   ]
  },
  {
   "cell_type": "markdown",
   "metadata": {},
   "source": [
    "Дедаем вывод, что в transactions_control_1 попали три лишние записи(отличаются и рамки регистрации пользователя, и рамки проведения транзакций) - удалим эти данные из users_control_1 и transactions_control_1"
   ]
  },
  {
   "cell_type": "code",
   "execution_count": 96,
   "metadata": {
    "scrolled": true
   },
   "outputs": [],
   "source": [
    "transactions_control_1 = transactions_control_1.drop(index=[65, 101, 224])\n",
    "users_control_1 = users_control_1.drop(index=[510])"
   ]
  },
  {
   "cell_type": "markdown",
   "metadata": {},
   "source": [
    "Теперь у нас для всех трех групп одинаковые рамки эксперимента"
   ]
  },
  {
   "cell_type": "markdown",
   "metadata": {},
   "source": [
    "Найдем возможные пересечения пользователей из разных групп(проверим независимость выборок)"
   ]
  },
  {
   "cell_type": "code",
   "execution_count": 97,
   "metadata": {},
   "outputs": [
    {
     "name": "stdout",
     "output_type": "stream",
     "text": [
      "set() set() set()\n",
      "set() set() set()\n"
     ]
    }
   ],
   "source": [
    "u_c1, t_c1 = set(users_control_1.uid.tolist()), set(transactions_control_1.uid.tolist())\n",
    "u_c2, t_c2 = set(users_control_2.uid.tolist()), set(transactions_control_2.uid.tolist())\n",
    "u_t,  t_t  = set(users_test.uid.tolist()),      set(transactions_test.uid.tolist())\n",
    "\n",
    "print(u_c1 & u_c2, u_c2 & u_t, u_t & u_c1)\n",
    "print(t_c1 & t_c2, t_c2 & t_t, t_t & t_c1)"
   ]
  },
  {
   "cell_type": "markdown",
   "metadata": {},
   "source": [
    "Проверим соответвие платящих пользователей из users и пользователей из transactions"
   ]
  },
  {
   "cell_type": "code",
   "execution_count": 98,
   "metadata": {},
   "outputs": [
    {
     "name": "stdout",
     "output_type": "stream",
     "text": [
      "set() set() set()\n",
      "{892355163} set() set()\n"
     ]
    }
   ],
   "source": [
    "u_c1_p = set(users_control_1.query('total_revenue > 0').uid.tolist())\n",
    "u_c2_p = set(users_control_2.query('total_revenue > 0').uid.tolist())\n",
    "u_t_p  = set(users_test.query('total_revenue > 0').uid.tolist())\n",
    "\n",
    "print(u_c1_p - t_c1, u_c2_p - t_c2, u_t_p - t_t)\n",
    "print(t_c1 - u_c1_p, t_c2 - u_c2_p, t_t - u_t_p)"
   ]
  },
  {
   "cell_type": "markdown",
   "metadata": {},
   "source": [
    "Интересно, суммарный доход не сходится ни в одной из групп, а различные данные только в control_1     \n",
    "Посмотрим на этого пользователя"
   ]
  },
  {
   "cell_type": "code",
   "execution_count": 99,
   "metadata": {},
   "outputs": [
    {
     "data": {
      "text/html": [
       "<div>\n",
       "<style scoped>\n",
       "    .dataframe tbody tr th:only-of-type {\n",
       "        vertical-align: middle;\n",
       "    }\n",
       "\n",
       "    .dataframe tbody tr th {\n",
       "        vertical-align: top;\n",
       "    }\n",
       "\n",
       "    .dataframe thead th {\n",
       "        text-align: right;\n",
       "    }\n",
       "</style>\n",
       "<table border=\"1\" class=\"dataframe\">\n",
       "  <thead>\n",
       "    <tr style=\"text-align: right;\">\n",
       "      <th></th>\n",
       "      <th>uid</th>\n",
       "      <th>age</th>\n",
       "      <th>attraction_coeff</th>\n",
       "      <th>coins</th>\n",
       "      <th>country</th>\n",
       "      <th>visit_days</th>\n",
       "      <th>gender</th>\n",
       "      <th>age_filter_start</th>\n",
       "      <th>age_filter_end</th>\n",
       "      <th>views_count</th>\n",
       "      <th>was_premium</th>\n",
       "      <th>is_premium</th>\n",
       "      <th>total_revenue</th>\n",
       "      <th>extended_premium</th>\n",
       "    </tr>\n",
       "  </thead>\n",
       "  <tbody>\n",
       "    <tr>\n",
       "      <th>3370</th>\n",
       "      <td>892355163</td>\n",
       "      <td>40</td>\n",
       "      <td>640</td>\n",
       "      <td>0</td>\n",
       "      <td>United States of America</td>\n",
       "      <td>1,2,3,4,5,6,7,8,9,10,11,12,13,14,15,16,17,18,1...</td>\n",
       "      <td>1</td>\n",
       "      <td>25</td>\n",
       "      <td>60</td>\n",
       "      <td>700</td>\n",
       "      <td>1</td>\n",
       "      <td>0</td>\n",
       "      <td>0</td>\n",
       "      <td>1</td>\n",
       "    </tr>\n",
       "  </tbody>\n",
       "</table>\n",
       "</div>"
      ],
      "text/plain": [
       "            uid  age  attraction_coeff  coins                   country  \\\n",
       "3370  892355163   40               640      0  United States of America   \n",
       "\n",
       "                                             visit_days  gender  \\\n",
       "3370  1,2,3,4,5,6,7,8,9,10,11,12,13,14,15,16,17,18,1...       1   \n",
       "\n",
       "      age_filter_start  age_filter_end  views_count  was_premium  is_premium  \\\n",
       "3370                25              60          700            1           0   \n",
       "\n",
       "      total_revenue  extended_premium  \n",
       "3370              0                 1  "
      ]
     },
     "execution_count": 99,
     "metadata": {},
     "output_type": "execute_result"
    }
   ],
   "source": [
    "users_control_1.query('uid == 892355163')"
   ]
  },
  {
   "cell_type": "code",
   "execution_count": 100,
   "metadata": {},
   "outputs": [
    {
     "data": {
      "text/html": [
       "<div>\n",
       "<style scoped>\n",
       "    .dataframe tbody tr th:only-of-type {\n",
       "        vertical-align: middle;\n",
       "    }\n",
       "\n",
       "    .dataframe tbody tr th {\n",
       "        vertical-align: top;\n",
       "    }\n",
       "\n",
       "    .dataframe thead th {\n",
       "        text-align: right;\n",
       "    }\n",
       "</style>\n",
       "<table border=\"1\" class=\"dataframe\">\n",
       "  <thead>\n",
       "    <tr style=\"text-align: right;\">\n",
       "      <th></th>\n",
       "      <th>uid</th>\n",
       "      <th>country</th>\n",
       "      <th>joined_at</th>\n",
       "      <th>paid_at</th>\n",
       "      <th>revenue</th>\n",
       "      <th>payment_id</th>\n",
       "      <th>from_page</th>\n",
       "      <th>product_type</th>\n",
       "    </tr>\n",
       "  </thead>\n",
       "  <tbody>\n",
       "    <tr>\n",
       "      <th>303</th>\n",
       "      <td>892355163</td>\n",
       "      <td>United States of America</td>\n",
       "      <td>2017-10-15 18:45:00</td>\n",
       "      <td>2017-10-16 09:52:00</td>\n",
       "      <td>30264.0</td>\n",
       "      <td>68</td>\n",
       "      <td>super_popup</td>\n",
       "      <td>other_type</td>\n",
       "    </tr>\n",
       "  </tbody>\n",
       "</table>\n",
       "</div>"
      ],
      "text/plain": [
       "           uid                   country           joined_at  \\\n",
       "303  892355163  United States of America 2017-10-15 18:45:00   \n",
       "\n",
       "                paid_at  revenue  payment_id    from_page product_type  \n",
       "303 2017-10-16 09:52:00  30264.0          68  super_popup   other_type  "
      ]
     },
     "execution_count": 100,
     "metadata": {},
     "output_type": "execute_result"
    }
   ],
   "source": [
    "transactions_control_1.query('uid == 892355163')"
   ]
  },
  {
   "cell_type": "markdown",
   "metadata": {},
   "source": [
    "> __Смотря на вышеперечисленные недочеты - то, раз в транзакциях есть покупка, которой нет в пользователях + то, что скорее всего сначала сохраняются данные о транзакциях, а потом уже обновляются таблицы с пользователями, то будем считать верными данные в таблицах транзакций -> обновим и дополним таблицы пользователей, а именно столбцы с total_revenue, а также was_premium и is_premium(данные о покупках премиума могли не сохраниться, раз не было данных о покупке, и раз у нас данные о пользователях с момента их регистрации мы можем это сделать) -> получатся измененные столбцы:__\n",
    "    \n",
    "1. total_revenue - обновленный общий заработок      \n",
    "\n",
    "    Следующие столбцы дополняются только для пользователей с sum(revenue) > 0          \n",
    "    (именно дополняются, потому что у нас нет данных о покупках подписок за coins - если вдруг найдем, что подписка была куплена, то отметим, но если покупки не было, а подписка есть, то отменять не будем, потому что это может быть(скорее всего) покупка за монетки)\n",
    " \n",
    "\n",
    "2. was_premium - был ли когда-то обычный премиум\n",
    "3. is_premium - есть ли премиум на момент окончания обновления данных(аналогично покупке премиума в любую дату из промежутка [transactions_xxx_paid_at.max() - 30 days; transactions_xxx_paid_at.max()]"
   ]
  },
  {
   "cell_type": "code",
   "execution_count": 101,
   "metadata": {},
   "outputs": [],
   "source": [
    "update_date(transactions_control_1, users_control_1)\n",
    "update_date(transactions_control_2, users_control_2)\n",
    "update_date(transactions_test, users_test)"
   ]
  },
  {
   "cell_type": "markdown",
   "metadata": {},
   "source": [
    "Теперь имеем корректные данные и можем корректно оценить распределения переменных и сравнить их для оценки качетсва работы системы сплитования"
   ]
  },
  {
   "cell_type": "markdown",
   "metadata": {},
   "source": [
    "## 3. Обновленные признаки и дополнительные графики для таблиц пользователей\n",
    "[Содержание](#Содержание)"
   ]
  },
  {
   "cell_type": "markdown",
   "metadata": {},
   "source": [
    "#### Для 1-й контрольной группы:"
   ]
  },
  {
   "cell_type": "code",
   "execution_count": 102,
   "metadata": {},
   "outputs": [
    {
     "data": {
      "text/html": [
       "<div>\n",
       "<style scoped>\n",
       "    .dataframe tbody tr th:only-of-type {\n",
       "        vertical-align: middle;\n",
       "    }\n",
       "\n",
       "    .dataframe tbody tr th {\n",
       "        vertical-align: top;\n",
       "    }\n",
       "\n",
       "    .dataframe thead th {\n",
       "        text-align: right;\n",
       "    }\n",
       "</style>\n",
       "<table border=\"1\" class=\"dataframe\">\n",
       "  <thead>\n",
       "    <tr style=\"text-align: right;\">\n",
       "      <th></th>\n",
       "      <th>count</th>\n",
       "      <th>mean</th>\n",
       "      <th>std</th>\n",
       "      <th>min</th>\n",
       "      <th>25%</th>\n",
       "      <th>50%</th>\n",
       "      <th>75%</th>\n",
       "      <th>max</th>\n",
       "    </tr>\n",
       "  </thead>\n",
       "  <tbody>\n",
       "    <tr>\n",
       "      <th>was_premium</th>\n",
       "      <td>4339.0</td>\n",
       "      <td>0.10</td>\n",
       "      <td>0.30</td>\n",
       "      <td>0.0</td>\n",
       "      <td>0.0</td>\n",
       "      <td>0.0</td>\n",
       "      <td>0.0</td>\n",
       "      <td>1.0</td>\n",
       "    </tr>\n",
       "    <tr>\n",
       "      <th>is_premium</th>\n",
       "      <td>4339.0</td>\n",
       "      <td>0.04</td>\n",
       "      <td>0.21</td>\n",
       "      <td>0.0</td>\n",
       "      <td>0.0</td>\n",
       "      <td>0.0</td>\n",
       "      <td>0.0</td>\n",
       "      <td>1.0</td>\n",
       "    </tr>\n",
       "    <tr>\n",
       "      <th>total_revenue</th>\n",
       "      <td>4339.0</td>\n",
       "      <td>594.89</td>\n",
       "      <td>7988.84</td>\n",
       "      <td>0.0</td>\n",
       "      <td>0.0</td>\n",
       "      <td>0.0</td>\n",
       "      <td>0.0</td>\n",
       "      <td>486330.0</td>\n",
       "    </tr>\n",
       "  </tbody>\n",
       "</table>\n",
       "</div>"
      ],
      "text/plain": [
       "                count    mean      std  min  25%  50%  75%       max\n",
       "was_premium    4339.0    0.10     0.30  0.0  0.0  0.0  0.0       1.0\n",
       "is_premium     4339.0    0.04     0.21  0.0  0.0  0.0  0.0       1.0\n",
       "total_revenue  4339.0  594.89  7988.84  0.0  0.0  0.0  0.0  486330.0"
      ]
     },
     "execution_count": 102,
     "metadata": {},
     "output_type": "execute_result"
    }
   ],
   "source": [
    "users_control_1.loc[:, ['was_premium', 'is_premium', 'total_revenue']].describe().T.round(2) "
   ]
  },
  {
   "cell_type": "code",
   "execution_count": 103,
   "metadata": {},
   "outputs": [
    {
     "name": "stdout",
     "output_type": "stream",
     "text": [
      "Cредние и медианные значения coins и total_revenue для соответ. ненулевых знач. пользователей\n",
      "Для сoins > 0  ---------> среднее = 81.29\n",
      "                          медиана = 11.0\n",
      "Для total_revenue > 0 --> среднее(оно же ARPPU) = 13514.35\n",
      "                          медиана(median  RPPU) = 9490.0\n"
     ]
    }
   ],
   "source": [
    "coin_rev_more_0(users_control_1)"
   ]
  },
  {
   "cell_type": "code",
   "execution_count": 104,
   "metadata": {},
   "outputs": [
    {
     "name": "stdout",
     "output_type": "stream",
     "text": [
      "Суммарный заработок в 1-й контрольной группе - 2581241 \n"
     ]
    }
   ],
   "source": [
    "rev_u_c1 = users_control_1.total_revenue.sum()\n",
    "print(f'Суммарный заработок в 1-й контрольной группе - {rev_u_c1} ')"
   ]
  },
  {
   "cell_type": "markdown",
   "metadata": {},
   "source": [
    "Выведем сведения о продлении по всей первой контрольной группе:"
   ]
  },
  {
   "cell_type": "code",
   "execution_count": 105,
   "metadata": {},
   "outputs": [
    {
     "name": "stdout",
     "output_type": "stream",
     "text": [
      "Продлевали премиум     - 191  пользователя или 4.4 %\n",
      "Не продлевали премиум  - 244  пользователя или 5.62 %\n",
      "Премиума не было и нет - 3904 пользователя или 89.97 %\n",
      "\n",
      "Тогда соответсвующие конверсии:\n",
      "Абсолютная CR в подписку 10.03 %\n",
      "Абсолютная CR в продление подписки 4.4 %\n"
     ]
    }
   ],
   "source": [
    "extended_premium(users_control_1)"
   ]
  },
  {
   "cell_type": "markdown",
   "metadata": {},
   "source": [
    "Добавим колонку с количеством дней, в которые пользователь заходил в прилложение и посмотрим на гистограммы распределения некоторых признаков"
   ]
  },
  {
   "cell_type": "code",
   "execution_count": 106,
   "metadata": {},
   "outputs": [],
   "source": [
    "users_control_1['cnt_visit_days'] = users_control_1.visit_days.apply(lambda x: 0 if x=='0' else len(x.split(',')))"
   ]
  },
  {
   "cell_type": "code",
   "execution_count": 107,
   "metadata": {
    "scrolled": false
   },
   "outputs": [
    {
     "data": {
      "image/png": "[encoded data removed]",
      "text/plain": [
       "<Figure size 1440x720 with 6 Axes>"
      ]
     },
     "metadata": {
      "needs_background": "light"
     },
     "output_type": "display_data"
    }
   ],
   "source": [
    "gist_var = ['age', 'attraction_coeff', 'cnt_visit_days', 'coins', 'views_count', 'total_revenue']\n",
    "users_control_1[gist_var].hist(figsize=(20, 10), layout=(2, 3), bins=25);"
   ]
  },
  {
   "cell_type": "markdown",
   "metadata": {},
   "source": [
    "Найдем топ стран по количеству пользователей(оставим те страны, где 100 и больше пользователей)"
   ]
  },
  {
   "cell_type": "code",
   "execution_count": 108,
   "metadata": {},
   "outputs": [
    {
     "data": {
      "image/png": "[encoded data removed]",
      "text/plain": [
       "<Figure size 576x432 with 1 Axes>"
      ]
     },
     "metadata": {
      "needs_background": "light"
     },
     "output_type": "display_data"
    }
   ],
   "source": [
    "country_user_plot(users_control_1)"
   ]
  },
  {
   "cell_type": "markdown",
   "metadata": {},
   "source": [
    "Построим таблицу с некоторыми отличающимися занчениями для каждой из вышеупомянутых стран:"
   ]
  },
  {
   "cell_type": "code",
   "execution_count": 109,
   "metadata": {},
   "outputs": [
    {
     "data": {
      "text/html": [
       "<div>\n",
       "<style scoped>\n",
       "    .dataframe tbody tr th:only-of-type {\n",
       "        vertical-align: middle;\n",
       "    }\n",
       "\n",
       "    .dataframe tbody tr th {\n",
       "        vertical-align: top;\n",
       "    }\n",
       "\n",
       "    .dataframe thead th {\n",
       "        text-align: right;\n",
       "    }\n",
       "</style>\n",
       "<table border=\"1\" class=\"dataframe\">\n",
       "  <thead>\n",
       "    <tr style=\"text-align: right;\">\n",
       "      <th></th>\n",
       "      <th>country</th>\n",
       "      <th>cnt_users</th>\n",
       "      <th>was_premium_per</th>\n",
       "      <th>extended_2_per</th>\n",
       "      <th>avg_age</th>\n",
       "      <th>ARPU</th>\n",
       "      <th>ARPPU</th>\n",
       "      <th>median RPPU</th>\n",
       "    </tr>\n",
       "  </thead>\n",
       "  <tbody>\n",
       "    <tr>\n",
       "      <th>0</th>\n",
       "      <td>United States of America</td>\n",
       "      <td>1471</td>\n",
       "      <td>12.10</td>\n",
       "      <td>4.42</td>\n",
       "      <td>30.70</td>\n",
       "      <td>485.17</td>\n",
       "      <td>12096.39</td>\n",
       "      <td>9139.0</td>\n",
       "    </tr>\n",
       "    <tr>\n",
       "      <th>1</th>\n",
       "      <td>Argentina</td>\n",
       "      <td>389</td>\n",
       "      <td>4.11</td>\n",
       "      <td>3.08</td>\n",
       "      <td>32.33</td>\n",
       "      <td>371.95</td>\n",
       "      <td>12057.50</td>\n",
       "      <td>10556.0</td>\n",
       "    </tr>\n",
       "    <tr>\n",
       "      <th>2</th>\n",
       "      <td>France</td>\n",
       "      <td>370</td>\n",
       "      <td>8.92</td>\n",
       "      <td>4.59</td>\n",
       "      <td>33.02</td>\n",
       "      <td>498.25</td>\n",
       "      <td>8379.68</td>\n",
       "      <td>6318.0</td>\n",
       "    </tr>\n",
       "    <tr>\n",
       "      <th>3</th>\n",
       "      <td>Spain</td>\n",
       "      <td>342</td>\n",
       "      <td>9.06</td>\n",
       "      <td>2.63</td>\n",
       "      <td>31.04</td>\n",
       "      <td>289.65</td>\n",
       "      <td>11006.67</td>\n",
       "      <td>11011.0</td>\n",
       "    </tr>\n",
       "    <tr>\n",
       "      <th>4</th>\n",
       "      <td>Italy</td>\n",
       "      <td>338</td>\n",
       "      <td>8.28</td>\n",
       "      <td>3.85</td>\n",
       "      <td>35.23</td>\n",
       "      <td>1874.85</td>\n",
       "      <td>37276.35</td>\n",
       "      <td>6539.0</td>\n",
       "    </tr>\n",
       "    <tr>\n",
       "      <th>5</th>\n",
       "      <td>Chile</td>\n",
       "      <td>287</td>\n",
       "      <td>4.88</td>\n",
       "      <td>3.14</td>\n",
       "      <td>31.66</td>\n",
       "      <td>339.95</td>\n",
       "      <td>9756.50</td>\n",
       "      <td>9945.0</td>\n",
       "    </tr>\n",
       "    <tr>\n",
       "      <th>6</th>\n",
       "      <td>United Arab Emirates</td>\n",
       "      <td>207</td>\n",
       "      <td>12.08</td>\n",
       "      <td>4.83</td>\n",
       "      <td>29.85</td>\n",
       "      <td>364.94</td>\n",
       "      <td>10791.86</td>\n",
       "      <td>10153.0</td>\n",
       "    </tr>\n",
       "    <tr>\n",
       "      <th>7</th>\n",
       "      <td>Germany</td>\n",
       "      <td>188</td>\n",
       "      <td>6.91</td>\n",
       "      <td>3.19</td>\n",
       "      <td>34.01</td>\n",
       "      <td>127.65</td>\n",
       "      <td>4799.60</td>\n",
       "      <td>4056.0</td>\n",
       "    </tr>\n",
       "    <tr>\n",
       "      <th>8</th>\n",
       "      <td>United Kingdom (Great Britain)</td>\n",
       "      <td>146</td>\n",
       "      <td>13.70</td>\n",
       "      <td>7.53</td>\n",
       "      <td>31.34</td>\n",
       "      <td>1362.77</td>\n",
       "      <td>19896.50</td>\n",
       "      <td>11583.0</td>\n",
       "    </tr>\n",
       "    <tr>\n",
       "      <th>9</th>\n",
       "      <td>Canada</td>\n",
       "      <td>134</td>\n",
       "      <td>14.93</td>\n",
       "      <td>5.22</td>\n",
       "      <td>35.39</td>\n",
       "      <td>686.96</td>\n",
       "      <td>10228.11</td>\n",
       "      <td>9087.0</td>\n",
       "    </tr>\n",
       "    <tr>\n",
       "      <th>10</th>\n",
       "      <td>Israel</td>\n",
       "      <td>109</td>\n",
       "      <td>16.51</td>\n",
       "      <td>11.01</td>\n",
       "      <td>33.66</td>\n",
       "      <td>1086.16</td>\n",
       "      <td>8456.50</td>\n",
       "      <td>6298.5</td>\n",
       "    </tr>\n",
       "    <tr>\n",
       "      <th>11</th>\n",
       "      <td>Belgium</td>\n",
       "      <td>108</td>\n",
       "      <td>12.96</td>\n",
       "      <td>4.63</td>\n",
       "      <td>38.28</td>\n",
       "      <td>422.50</td>\n",
       "      <td>11407.50</td>\n",
       "      <td>12837.5</td>\n",
       "    </tr>\n",
       "    <tr>\n",
       "      <th>12</th>\n",
       "      <td>Portugal</td>\n",
       "      <td>100</td>\n",
       "      <td>6.00</td>\n",
       "      <td>3.00</td>\n",
       "      <td>33.13</td>\n",
       "      <td>194.35</td>\n",
       "      <td>9717.50</td>\n",
       "      <td>9717.5</td>\n",
       "    </tr>\n",
       "  </tbody>\n",
       "</table>\n",
       "</div>"
      ],
      "text/plain": [
       "                           country  cnt_users  was_premium_per  \\\n",
       "0         United States of America       1471            12.10   \n",
       "1                        Argentina        389             4.11   \n",
       "2                           France        370             8.92   \n",
       "3                            Spain        342             9.06   \n",
       "4                            Italy        338             8.28   \n",
       "5                            Chile        287             4.88   \n",
       "6             United Arab Emirates        207            12.08   \n",
       "7                          Germany        188             6.91   \n",
       "8   United Kingdom (Great Britain)        146            13.70   \n",
       "9                           Canada        134            14.93   \n",
       "10                          Israel        109            16.51   \n",
       "11                         Belgium        108            12.96   \n",
       "12                        Portugal        100             6.00   \n",
       "\n",
       "    extended_2_per  avg_age     ARPU     ARPPU  median RPPU  \n",
       "0             4.42    30.70   485.17  12096.39       9139.0  \n",
       "1             3.08    32.33   371.95  12057.50      10556.0  \n",
       "2             4.59    33.02   498.25   8379.68       6318.0  \n",
       "3             2.63    31.04   289.65  11006.67      11011.0  \n",
       "4             3.85    35.23  1874.85  37276.35       6539.0  \n",
       "5             3.14    31.66   339.95   9756.50       9945.0  \n",
       "6             4.83    29.85   364.94  10791.86      10153.0  \n",
       "7             3.19    34.01   127.65   4799.60       4056.0  \n",
       "8             7.53    31.34  1362.77  19896.50      11583.0  \n",
       "9             5.22    35.39   686.96  10228.11       9087.0  \n",
       "10           11.01    33.66  1086.16   8456.50       6298.5  \n",
       "11            4.63    38.28   422.50  11407.50      12837.5  \n",
       "12            3.00    33.13   194.35   9717.50       9717.5  "
      ]
     },
     "execution_count": 109,
     "metadata": {},
     "output_type": "execute_result"
    }
   ],
   "source": [
    "country_table(users_control_1)"
   ]
  },
  {
   "cell_type": "markdown",
   "metadata": {},
   "source": [
    "#### Для 2-й контрольной группы:"
   ]
  },
  {
   "cell_type": "code",
   "execution_count": 110,
   "metadata": {},
   "outputs": [
    {
     "data": {
      "text/html": [
       "<div>\n",
       "<style scoped>\n",
       "    .dataframe tbody tr th:only-of-type {\n",
       "        vertical-align: middle;\n",
       "    }\n",
       "\n",
       "    .dataframe tbody tr th {\n",
       "        vertical-align: top;\n",
       "    }\n",
       "\n",
       "    .dataframe thead th {\n",
       "        text-align: right;\n",
       "    }\n",
       "</style>\n",
       "<table border=\"1\" class=\"dataframe\">\n",
       "  <thead>\n",
       "    <tr style=\"text-align: right;\">\n",
       "      <th></th>\n",
       "      <th>count</th>\n",
       "      <th>mean</th>\n",
       "      <th>std</th>\n",
       "      <th>min</th>\n",
       "      <th>25%</th>\n",
       "      <th>50%</th>\n",
       "      <th>75%</th>\n",
       "      <th>max</th>\n",
       "    </tr>\n",
       "  </thead>\n",
       "  <tbody>\n",
       "    <tr>\n",
       "      <th>was_premium</th>\n",
       "      <td>4264.0</td>\n",
       "      <td>0.10</td>\n",
       "      <td>0.30</td>\n",
       "      <td>0.0</td>\n",
       "      <td>0.0</td>\n",
       "      <td>0.0</td>\n",
       "      <td>0.0</td>\n",
       "      <td>1.0</td>\n",
       "    </tr>\n",
       "    <tr>\n",
       "      <th>is_premium</th>\n",
       "      <td>4264.0</td>\n",
       "      <td>0.04</td>\n",
       "      <td>0.21</td>\n",
       "      <td>0.0</td>\n",
       "      <td>0.0</td>\n",
       "      <td>0.0</td>\n",
       "      <td>0.0</td>\n",
       "      <td>1.0</td>\n",
       "    </tr>\n",
       "    <tr>\n",
       "      <th>total_revenue</th>\n",
       "      <td>4264.0</td>\n",
       "      <td>450.38</td>\n",
       "      <td>2859.24</td>\n",
       "      <td>0.0</td>\n",
       "      <td>0.0</td>\n",
       "      <td>0.0</td>\n",
       "      <td>0.0</td>\n",
       "      <td>81796.0</td>\n",
       "    </tr>\n",
       "  </tbody>\n",
       "</table>\n",
       "</div>"
      ],
      "text/plain": [
       "                count    mean      std  min  25%  50%  75%      max\n",
       "was_premium    4264.0    0.10     0.30  0.0  0.0  0.0  0.0      1.0\n",
       "is_premium     4264.0    0.04     0.21  0.0  0.0  0.0  0.0      1.0\n",
       "total_revenue  4264.0  450.38  2859.24  0.0  0.0  0.0  0.0  81796.0"
      ]
     },
     "execution_count": 110,
     "metadata": {},
     "output_type": "execute_result"
    }
   ],
   "source": [
    "users_control_2.loc[:, ['was_premium', 'is_premium', 'total_revenue']].describe().T.round(2) "
   ]
  },
  {
   "cell_type": "code",
   "execution_count": 111,
   "metadata": {},
   "outputs": [
    {
     "name": "stdout",
     "output_type": "stream",
     "text": [
      "Cредние и медианные значения coins и total_revenue для соответ. ненулевых знач. пользователей\n",
      "Для сoins > 0  ---------> среднее = 18.15\n",
      "                          медиана = 10.0\n",
      "Для total_revenue > 0 --> среднее(оно же ARPPU) = 10269.72\n",
      "                          медиана(median  RPPU) = 7969.0\n"
     ]
    }
   ],
   "source": [
    "coin_rev_more_0(users_control_2)"
   ]
  },
  {
   "cell_type": "code",
   "execution_count": 112,
   "metadata": {},
   "outputs": [
    {
     "name": "stdout",
     "output_type": "stream",
     "text": [
      "Суммарный заработок в 1-й контрольной группе - 1920438 \n"
     ]
    }
   ],
   "source": [
    "rev_u_c2 = users_control_2.total_revenue.sum()\n",
    "print(f'Суммарный заработок в 1-й контрольной группе - {rev_u_c2} ')"
   ]
  },
  {
   "cell_type": "markdown",
   "metadata": {},
   "source": [
    "Выведем сведения о продлении по всей первой контрольной группе:"
   ]
  },
  {
   "cell_type": "code",
   "execution_count": 113,
   "metadata": {},
   "outputs": [
    {
     "name": "stdout",
     "output_type": "stream",
     "text": [
      "Продлевали премиум     - 191  пользователя или 4.48 %\n",
      "Не продлевали премиум  - 220  пользователя или 5.16 %\n",
      "Премиума не было и нет - 3853 пользователя или 90.36 %\n",
      "\n",
      "Тогда соответсвующие конверсии:\n",
      "Абсолютная CR в подписку 9.64 %\n",
      "Абсолютная CR в продление подписки 4.48 %\n"
     ]
    }
   ],
   "source": [
    "extended_premium(users_control_2)"
   ]
  },
  {
   "cell_type": "markdown",
   "metadata": {},
   "source": [
    "Добавим колонку с количеством дней, в которые пользователь заходил в прилложение и посмотрим на гистограммы распределения некоторых признаков"
   ]
  },
  {
   "cell_type": "code",
   "execution_count": 114,
   "metadata": {},
   "outputs": [],
   "source": [
    "users_control_2['cnt_visit_days'] = users_control_2.visit_days.apply(lambda x: 0 if x=='0' else len(x.split(',')))"
   ]
  },
  {
   "cell_type": "code",
   "execution_count": 115,
   "metadata": {
    "scrolled": false
   },
   "outputs": [
    {
     "data": {
      "image/png": "[encoded data removed]",
      "text/plain": [
       "<Figure size 1440x720 with 6 Axes>"
      ]
     },
     "metadata": {
      "needs_background": "light"
     },
     "output_type": "display_data"
    }
   ],
   "source": [
    "gist_var = ['age', 'attraction_coeff', 'cnt_visit_days', 'coins', 'views_count', 'total_revenue']\n",
    "users_control_2[gist_var].hist(figsize=(20, 10), layout=(2, 3), bins=25);"
   ]
  },
  {
   "cell_type": "markdown",
   "metadata": {},
   "source": [
    "Найдем топ стран по количеству пользователей(оставим те страны, где 100 и больше пользователей)"
   ]
  },
  {
   "cell_type": "code",
   "execution_count": 116,
   "metadata": {},
   "outputs": [
    {
     "data": {
      "image/png": "[encoded data removed]",
      "text/plain": [
       "<Figure size 576x432 with 1 Axes>"
      ]
     },
     "metadata": {
      "needs_background": "light"
     },
     "output_type": "display_data"
    }
   ],
   "source": [
    "country_user_plot(users_control_2)"
   ]
  },
  {
   "cell_type": "markdown",
   "metadata": {},
   "source": [
    "Построим таблицу с некоторыми отличающимися занчениями для каждой из вышеупомянутых стран:"
   ]
  },
  {
   "cell_type": "code",
   "execution_count": 117,
   "metadata": {},
   "outputs": [
    {
     "data": {
      "text/html": [
       "<div>\n",
       "<style scoped>\n",
       "    .dataframe tbody tr th:only-of-type {\n",
       "        vertical-align: middle;\n",
       "    }\n",
       "\n",
       "    .dataframe tbody tr th {\n",
       "        vertical-align: top;\n",
       "    }\n",
       "\n",
       "    .dataframe thead th {\n",
       "        text-align: right;\n",
       "    }\n",
       "</style>\n",
       "<table border=\"1\" class=\"dataframe\">\n",
       "  <thead>\n",
       "    <tr style=\"text-align: right;\">\n",
       "      <th></th>\n",
       "      <th>country</th>\n",
       "      <th>cnt_users</th>\n",
       "      <th>was_premium_per</th>\n",
       "      <th>extended_2_per</th>\n",
       "      <th>avg_age</th>\n",
       "      <th>ARPU</th>\n",
       "      <th>ARPPU</th>\n",
       "      <th>median RPPU</th>\n",
       "    </tr>\n",
       "  </thead>\n",
       "  <tbody>\n",
       "    <tr>\n",
       "      <th>0</th>\n",
       "      <td>United States of America</td>\n",
       "      <td>1486</td>\n",
       "      <td>12.18</td>\n",
       "      <td>4.78</td>\n",
       "      <td>30.51</td>\n",
       "      <td>393.14</td>\n",
       "      <td>9128.23</td>\n",
       "      <td>8950.5</td>\n",
       "    </tr>\n",
       "    <tr>\n",
       "      <th>1</th>\n",
       "      <td>Argentina</td>\n",
       "      <td>397</td>\n",
       "      <td>4.28</td>\n",
       "      <td>2.52</td>\n",
       "      <td>32.42</td>\n",
       "      <td>304.83</td>\n",
       "      <td>12101.70</td>\n",
       "      <td>10354.5</td>\n",
       "    </tr>\n",
       "    <tr>\n",
       "      <th>2</th>\n",
       "      <td>France</td>\n",
       "      <td>376</td>\n",
       "      <td>8.51</td>\n",
       "      <td>3.46</td>\n",
       "      <td>32.51</td>\n",
       "      <td>396.47</td>\n",
       "      <td>7845.84</td>\n",
       "      <td>6344.0</td>\n",
       "    </tr>\n",
       "    <tr>\n",
       "      <th>3</th>\n",
       "      <td>Spain</td>\n",
       "      <td>310</td>\n",
       "      <td>9.03</td>\n",
       "      <td>4.84</td>\n",
       "      <td>32.52</td>\n",
       "      <td>625.09</td>\n",
       "      <td>16148.17</td>\n",
       "      <td>6331.0</td>\n",
       "    </tr>\n",
       "    <tr>\n",
       "      <th>4</th>\n",
       "      <td>Italy</td>\n",
       "      <td>293</td>\n",
       "      <td>8.53</td>\n",
       "      <td>3.07</td>\n",
       "      <td>35.26</td>\n",
       "      <td>406.11</td>\n",
       "      <td>7436.81</td>\n",
       "      <td>6786.0</td>\n",
       "    </tr>\n",
       "    <tr>\n",
       "      <th>5</th>\n",
       "      <td>Chile</td>\n",
       "      <td>286</td>\n",
       "      <td>3.85</td>\n",
       "      <td>3.15</td>\n",
       "      <td>33.44</td>\n",
       "      <td>379.77</td>\n",
       "      <td>9874.09</td>\n",
       "      <td>9945.0</td>\n",
       "    </tr>\n",
       "    <tr>\n",
       "      <th>6</th>\n",
       "      <td>United Arab Emirates</td>\n",
       "      <td>211</td>\n",
       "      <td>8.06</td>\n",
       "      <td>3.79</td>\n",
       "      <td>28.69</td>\n",
       "      <td>555.18</td>\n",
       "      <td>23428.60</td>\n",
       "      <td>9516.0</td>\n",
       "    </tr>\n",
       "    <tr>\n",
       "      <th>7</th>\n",
       "      <td>Germany</td>\n",
       "      <td>202</td>\n",
       "      <td>8.42</td>\n",
       "      <td>3.47</td>\n",
       "      <td>34.79</td>\n",
       "      <td>353.51</td>\n",
       "      <td>14281.80</td>\n",
       "      <td>12727.0</td>\n",
       "    </tr>\n",
       "    <tr>\n",
       "      <th>8</th>\n",
       "      <td>United Kingdom (Great Britain)</td>\n",
       "      <td>146</td>\n",
       "      <td>10.27</td>\n",
       "      <td>6.16</td>\n",
       "      <td>31.38</td>\n",
       "      <td>660.77</td>\n",
       "      <td>9647.30</td>\n",
       "      <td>6493.5</td>\n",
       "    </tr>\n",
       "    <tr>\n",
       "      <th>9</th>\n",
       "      <td>Canada</td>\n",
       "      <td>134</td>\n",
       "      <td>12.69</td>\n",
       "      <td>5.22</td>\n",
       "      <td>35.79</td>\n",
       "      <td>227.89</td>\n",
       "      <td>7634.25</td>\n",
       "      <td>7956.0</td>\n",
       "    </tr>\n",
       "    <tr>\n",
       "      <th>10</th>\n",
       "      <td>Portugal</td>\n",
       "      <td>100</td>\n",
       "      <td>8.00</td>\n",
       "      <td>6.00</td>\n",
       "      <td>31.54</td>\n",
       "      <td>538.07</td>\n",
       "      <td>8967.83</td>\n",
       "      <td>7644.0</td>\n",
       "    </tr>\n",
       "  </tbody>\n",
       "</table>\n",
       "</div>"
      ],
      "text/plain": [
       "                           country  cnt_users  was_premium_per  \\\n",
       "0         United States of America       1486            12.18   \n",
       "1                        Argentina        397             4.28   \n",
       "2                           France        376             8.51   \n",
       "3                            Spain        310             9.03   \n",
       "4                            Italy        293             8.53   \n",
       "5                            Chile        286             3.85   \n",
       "6             United Arab Emirates        211             8.06   \n",
       "7                          Germany        202             8.42   \n",
       "8   United Kingdom (Great Britain)        146            10.27   \n",
       "9                           Canada        134            12.69   \n",
       "10                        Portugal        100             8.00   \n",
       "\n",
       "    extended_2_per  avg_age    ARPU     ARPPU  median RPPU  \n",
       "0             4.78    30.51  393.14   9128.23       8950.5  \n",
       "1             2.52    32.42  304.83  12101.70      10354.5  \n",
       "2             3.46    32.51  396.47   7845.84       6344.0  \n",
       "3             4.84    32.52  625.09  16148.17       6331.0  \n",
       "4             3.07    35.26  406.11   7436.81       6786.0  \n",
       "5             3.15    33.44  379.77   9874.09       9945.0  \n",
       "6             3.79    28.69  555.18  23428.60       9516.0  \n",
       "7             3.47    34.79  353.51  14281.80      12727.0  \n",
       "8             6.16    31.38  660.77   9647.30       6493.5  \n",
       "9             5.22    35.79  227.89   7634.25       7956.0  \n",
       "10            6.00    31.54  538.07   8967.83       7644.0  "
      ]
     },
     "execution_count": 117,
     "metadata": {},
     "output_type": "execute_result"
    }
   ],
   "source": [
    "country_table(users_control_2)"
   ]
  },
  {
   "cell_type": "markdown",
   "metadata": {},
   "source": [
    "#### Для тестовой группы:"
   ]
  },
  {
   "cell_type": "code",
   "execution_count": 118,
   "metadata": {},
   "outputs": [
    {
     "data": {
      "text/html": [
       "<div>\n",
       "<style scoped>\n",
       "    .dataframe tbody tr th:only-of-type {\n",
       "        vertical-align: middle;\n",
       "    }\n",
       "\n",
       "    .dataframe tbody tr th {\n",
       "        vertical-align: top;\n",
       "    }\n",
       "\n",
       "    .dataframe thead th {\n",
       "        text-align: right;\n",
       "    }\n",
       "</style>\n",
       "<table border=\"1\" class=\"dataframe\">\n",
       "  <thead>\n",
       "    <tr style=\"text-align: right;\">\n",
       "      <th></th>\n",
       "      <th>count</th>\n",
       "      <th>mean</th>\n",
       "      <th>std</th>\n",
       "      <th>min</th>\n",
       "      <th>25%</th>\n",
       "      <th>50%</th>\n",
       "      <th>75%</th>\n",
       "      <th>max</th>\n",
       "    </tr>\n",
       "  </thead>\n",
       "  <tbody>\n",
       "    <tr>\n",
       "      <th>was_premium</th>\n",
       "      <td>4308.0</td>\n",
       "      <td>0.09</td>\n",
       "      <td>0.29</td>\n",
       "      <td>0.0</td>\n",
       "      <td>0.0</td>\n",
       "      <td>0.0</td>\n",
       "      <td>0.0</td>\n",
       "      <td>1.0</td>\n",
       "    </tr>\n",
       "    <tr>\n",
       "      <th>is_premium</th>\n",
       "      <td>4308.0</td>\n",
       "      <td>0.04</td>\n",
       "      <td>0.19</td>\n",
       "      <td>0.0</td>\n",
       "      <td>0.0</td>\n",
       "      <td>0.0</td>\n",
       "      <td>0.0</td>\n",
       "      <td>1.0</td>\n",
       "    </tr>\n",
       "    <tr>\n",
       "      <th>total_revenue</th>\n",
       "      <td>4308.0</td>\n",
       "      <td>534.08</td>\n",
       "      <td>4371.68</td>\n",
       "      <td>0.0</td>\n",
       "      <td>0.0</td>\n",
       "      <td>0.0</td>\n",
       "      <td>0.0</td>\n",
       "      <td>129870.0</td>\n",
       "    </tr>\n",
       "  </tbody>\n",
       "</table>\n",
       "</div>"
      ],
      "text/plain": [
       "                count    mean      std  min  25%  50%  75%       max\n",
       "was_premium    4308.0    0.09     0.29  0.0  0.0  0.0  0.0       1.0\n",
       "is_premium     4308.0    0.04     0.19  0.0  0.0  0.0  0.0       1.0\n",
       "total_revenue  4308.0  534.08  4371.68  0.0  0.0  0.0  0.0  129870.0"
      ]
     },
     "execution_count": 118,
     "metadata": {},
     "output_type": "execute_result"
    }
   ],
   "source": [
    "users_test.loc[:, ['was_premium', 'is_premium', 'total_revenue']].describe().T.round(2) "
   ]
  },
  {
   "cell_type": "code",
   "execution_count": 119,
   "metadata": {},
   "outputs": [
    {
     "name": "stdout",
     "output_type": "stream",
     "text": [
      "Cредние и медианные значения coins и total_revenue для соответ. ненулевых знач. пользователей\n",
      "Для сoins > 0  ---------> среднее = 229.84\n",
      "                          медиана = 9.0\n",
      "Для total_revenue > 0 --> среднее(оно же ARPPU) = 15759.03\n",
      "                          медиана(median  RPPU) = 12727.0\n"
     ]
    }
   ],
   "source": [
    "coin_rev_more_0(users_test)"
   ]
  },
  {
   "cell_type": "code",
   "execution_count": 120,
   "metadata": {},
   "outputs": [
    {
     "name": "stdout",
     "output_type": "stream",
     "text": [
      "Суммарный заработок в 1-й контрольной группе - 2300818 \n"
     ]
    }
   ],
   "source": [
    "rev_u_t = users_test.total_revenue.sum()\n",
    "print(f'Суммарный заработок в 1-й контрольной группе - {rev_u_t} ')"
   ]
  },
  {
   "cell_type": "markdown",
   "metadata": {},
   "source": [
    "Выведем сведения о продлении по всей первой контрольной группе:"
   ]
  },
  {
   "cell_type": "code",
   "execution_count": 121,
   "metadata": {},
   "outputs": [
    {
     "name": "stdout",
     "output_type": "stream",
     "text": [
      "Продлевали премиум     - 157  пользователя или 3.64 %\n",
      "Не продлевали премиум  - 251  пользователя или 5.83 %\n",
      "Премиума не было и нет - 3900 пользователя или 90.53 %\n",
      "\n",
      "Тогда соответсвующие конверсии:\n",
      "Абсолютная CR в подписку 9.47 %\n",
      "Абсолютная CR в продление подписки 3.64 %\n"
     ]
    }
   ],
   "source": [
    "extended_premium(users_test)"
   ]
  },
  {
   "cell_type": "markdown",
   "metadata": {},
   "source": [
    "Добавим колонку с количеством дней, в которые пользователь заходил в прилложение и посмотрим на гистограммы распределения некоторых признаков"
   ]
  },
  {
   "cell_type": "code",
   "execution_count": 122,
   "metadata": {},
   "outputs": [],
   "source": [
    "users_test['cnt_visit_days'] = users_test.visit_days.apply(lambda x: 0 if x=='0' else len(x.split(',')))"
   ]
  },
  {
   "cell_type": "code",
   "execution_count": 123,
   "metadata": {
    "scrolled": false
   },
   "outputs": [
    {
     "data": {
      "image/png": "[encoded data removed]",
      "text/plain": [
       "<Figure size 1440x720 with 6 Axes>"
      ]
     },
     "metadata": {
      "needs_background": "light"
     },
     "output_type": "display_data"
    }
   ],
   "source": [
    "gist_var = ['age', 'attraction_coeff', 'cnt_visit_days', 'coins', 'views_count', 'total_revenue']\n",
    "users_test[gist_var].hist(figsize=(20, 10), layout=(2, 3), bins=25);"
   ]
  },
  {
   "cell_type": "markdown",
   "metadata": {},
   "source": [
    "Найдем топ стран по количеству пользователей(оставим те страны, где 100 и больше пользователей)"
   ]
  },
  {
   "cell_type": "code",
   "execution_count": 124,
   "metadata": {},
   "outputs": [
    {
     "data": {
      "image/png": "[encoded data removed]",
      "text/plain": [
       "<Figure size 576x432 with 1 Axes>"
      ]
     },
     "metadata": {
      "needs_background": "light"
     },
     "output_type": "display_data"
    }
   ],
   "source": [
    "country_user_plot(users_test)"
   ]
  },
  {
   "cell_type": "markdown",
   "metadata": {},
   "source": [
    "Построим таблицу с некоторыми отличающимися занчениями для каждой из вышеупомянутых стран:"
   ]
  },
  {
   "cell_type": "code",
   "execution_count": 125,
   "metadata": {},
   "outputs": [
    {
     "data": {
      "text/html": [
       "<div>\n",
       "<style scoped>\n",
       "    .dataframe tbody tr th:only-of-type {\n",
       "        vertical-align: middle;\n",
       "    }\n",
       "\n",
       "    .dataframe tbody tr th {\n",
       "        vertical-align: top;\n",
       "    }\n",
       "\n",
       "    .dataframe thead th {\n",
       "        text-align: right;\n",
       "    }\n",
       "</style>\n",
       "<table border=\"1\" class=\"dataframe\">\n",
       "  <thead>\n",
       "    <tr style=\"text-align: right;\">\n",
       "      <th></th>\n",
       "      <th>country</th>\n",
       "      <th>cnt_users</th>\n",
       "      <th>was_premium_per</th>\n",
       "      <th>extended_2_per</th>\n",
       "      <th>avg_age</th>\n",
       "      <th>ARPU</th>\n",
       "      <th>ARPPU</th>\n",
       "      <th>median RPPU</th>\n",
       "    </tr>\n",
       "  </thead>\n",
       "  <tbody>\n",
       "    <tr>\n",
       "      <th>0</th>\n",
       "      <td>United States of America</td>\n",
       "      <td>1450</td>\n",
       "      <td>11.79</td>\n",
       "      <td>3.59</td>\n",
       "      <td>30.24</td>\n",
       "      <td>497.82</td>\n",
       "      <td>13881.50</td>\n",
       "      <td>12662.0</td>\n",
       "    </tr>\n",
       "    <tr>\n",
       "      <th>1</th>\n",
       "      <td>Argentina</td>\n",
       "      <td>396</td>\n",
       "      <td>4.04</td>\n",
       "      <td>1.77</td>\n",
       "      <td>33.12</td>\n",
       "      <td>474.80</td>\n",
       "      <td>26859.86</td>\n",
       "      <td>12597.0</td>\n",
       "    </tr>\n",
       "    <tr>\n",
       "      <th>2</th>\n",
       "      <td>France</td>\n",
       "      <td>359</td>\n",
       "      <td>6.96</td>\n",
       "      <td>4.46</td>\n",
       "      <td>33.52</td>\n",
       "      <td>706.45</td>\n",
       "      <td>19509.00</td>\n",
       "      <td>16536.0</td>\n",
       "    </tr>\n",
       "    <tr>\n",
       "      <th>3</th>\n",
       "      <td>Italy</td>\n",
       "      <td>323</td>\n",
       "      <td>6.19</td>\n",
       "      <td>2.48</td>\n",
       "      <td>34.31</td>\n",
       "      <td>351.16</td>\n",
       "      <td>12602.78</td>\n",
       "      <td>12597.0</td>\n",
       "    </tr>\n",
       "    <tr>\n",
       "      <th>4</th>\n",
       "      <td>Spain</td>\n",
       "      <td>301</td>\n",
       "      <td>10.63</td>\n",
       "      <td>4.65</td>\n",
       "      <td>30.81</td>\n",
       "      <td>948.27</td>\n",
       "      <td>19028.53</td>\n",
       "      <td>12727.0</td>\n",
       "    </tr>\n",
       "    <tr>\n",
       "      <th>5</th>\n",
       "      <td>Chile</td>\n",
       "      <td>272</td>\n",
       "      <td>2.94</td>\n",
       "      <td>2.57</td>\n",
       "      <td>32.68</td>\n",
       "      <td>257.13</td>\n",
       "      <td>17485.00</td>\n",
       "      <td>16620.5</td>\n",
       "    </tr>\n",
       "    <tr>\n",
       "      <th>6</th>\n",
       "      <td>United Arab Emirates</td>\n",
       "      <td>226</td>\n",
       "      <td>11.50</td>\n",
       "      <td>6.64</td>\n",
       "      <td>28.63</td>\n",
       "      <td>945.95</td>\n",
       "      <td>23753.89</td>\n",
       "      <td>13247.0</td>\n",
       "    </tr>\n",
       "    <tr>\n",
       "      <th>7</th>\n",
       "      <td>Germany</td>\n",
       "      <td>209</td>\n",
       "      <td>12.92</td>\n",
       "      <td>3.83</td>\n",
       "      <td>34.56</td>\n",
       "      <td>459.79</td>\n",
       "      <td>13728.00</td>\n",
       "      <td>12597.0</td>\n",
       "    </tr>\n",
       "    <tr>\n",
       "      <th>8</th>\n",
       "      <td>United Kingdom (Great Britain)</td>\n",
       "      <td>169</td>\n",
       "      <td>12.43</td>\n",
       "      <td>4.14</td>\n",
       "      <td>29.61</td>\n",
       "      <td>457.85</td>\n",
       "      <td>9672.00</td>\n",
       "      <td>10419.5</td>\n",
       "    </tr>\n",
       "    <tr>\n",
       "      <th>9</th>\n",
       "      <td>Canada</td>\n",
       "      <td>137</td>\n",
       "      <td>15.33</td>\n",
       "      <td>5.11</td>\n",
       "      <td>36.36</td>\n",
       "      <td>463.26</td>\n",
       "      <td>10577.67</td>\n",
       "      <td>11206.0</td>\n",
       "    </tr>\n",
       "    <tr>\n",
       "      <th>10</th>\n",
       "      <td>Israel</td>\n",
       "      <td>106</td>\n",
       "      <td>7.55</td>\n",
       "      <td>4.72</td>\n",
       "      <td>34.64</td>\n",
       "      <td>894.42</td>\n",
       "      <td>18961.80</td>\n",
       "      <td>16380.0</td>\n",
       "    </tr>\n",
       "  </tbody>\n",
       "</table>\n",
       "</div>"
      ],
      "text/plain": [
       "                           country  cnt_users  was_premium_per  \\\n",
       "0         United States of America       1450            11.79   \n",
       "1                        Argentina        396             4.04   \n",
       "2                           France        359             6.96   \n",
       "3                            Italy        323             6.19   \n",
       "4                            Spain        301            10.63   \n",
       "5                            Chile        272             2.94   \n",
       "6             United Arab Emirates        226            11.50   \n",
       "7                          Germany        209            12.92   \n",
       "8   United Kingdom (Great Britain)        169            12.43   \n",
       "9                           Canada        137            15.33   \n",
       "10                          Israel        106             7.55   \n",
       "\n",
       "    extended_2_per  avg_age    ARPU     ARPPU  median RPPU  \n",
       "0             3.59    30.24  497.82  13881.50      12662.0  \n",
       "1             1.77    33.12  474.80  26859.86      12597.0  \n",
       "2             4.46    33.52  706.45  19509.00      16536.0  \n",
       "3             2.48    34.31  351.16  12602.78      12597.0  \n",
       "4             4.65    30.81  948.27  19028.53      12727.0  \n",
       "5             2.57    32.68  257.13  17485.00      16620.5  \n",
       "6             6.64    28.63  945.95  23753.89      13247.0  \n",
       "7             3.83    34.56  459.79  13728.00      12597.0  \n",
       "8             4.14    29.61  457.85   9672.00      10419.5  \n",
       "9             5.11    36.36  463.26  10577.67      11206.0  \n",
       "10            4.72    34.64  894.42  18961.80      16380.0  "
      ]
     },
     "execution_count": 125,
     "metadata": {},
     "output_type": "execute_result"
    }
   ],
   "source": [
    "country_table(users_test)"
   ]
  },
  {
   "cell_type": "markdown",
   "metadata": {},
   "source": [
    "## 4. Проверка качества сплитования\n",
    "[Содержание](#Содержание)"
   ]
  },
  {
   "cell_type": "markdown",
   "metadata": {},
   "source": [
    "Для удобства объединим данные в один датафрэйм"
   ]
  },
  {
   "cell_type": "code",
   "execution_count": 126,
   "metadata": {},
   "outputs": [],
   "source": [
    "users_control_1['group'], users_control_2['group'], users_test['group']  = 'control_1', 'control_2', 'test'\n",
    "data_users = pd.concat([users_control_1, users_control_2, users_test])\n",
    "\n",
    "transactions_control_1['group'], transactions_control_2['group'] = 'control_1', 'control_2'\n",
    "transactions_test['group'] = 'test'\n",
    "data_transactions = pd.concat([transactions_control_1, transactions_control_2, transactions_test])"
   ]
  },
  {
   "cell_type": "markdown",
   "metadata": {},
   "source": [
    "Сведем распределения пропорций различных признаков по 3м выборкам в одну таблицу:     \n",
    "Данные признаки не должны отличаться во всех трех подгруппах(грубо говоря они зависят преимущественно от деления трафика = от системы сплитования count_users, avg_age, avg_attr_c, per_users_from_usa(кол-во юзеров из америки как из основного пользователя), avg_gender, avg_age_filter_start, avg_age_filter_end     \n",
    "          \n",
    "При помощи однофакторного дисперсионного анализа(с поправкой Тьюки на множественные сравнения) докажем, что между выборками нет различий в этих критериях\n",
    "\n",
    "\\begin{equation*}\n",
    "\\begin{aligned} \n",
    "& H_0: \\text{ни одно из выборочных средних не отличается от другого (нет различий)} \\\\\n",
    "& H_a: \\text{хотя бы одно выборочное среднее отличается от других (есть различия как минимум между двумя группами)}  \n",
    "\\end{aligned}\n",
    "\\end{equation*}\n",
    "\n",
    "Для этого требуется соблюдать требование гомогенности дисперсий - для его проверки воспользумся критерием Левена\n",
    "\n",
    "\\begin{equation*}\n",
    "\\begin{aligned} \n",
    "& H_0: \\text{Дисперсии выборок не отличаются} \\\\\n",
    "& H_a: \\text{Между дисперсиями есть различие}  \n",
    "\\end{aligned}\n",
    "\\end{equation*}"
   ]
  },
  {
   "cell_type": "code",
   "execution_count": 127,
   "metadata": {},
   "outputs": [
    {
     "data": {
      "text/html": [
       "<div>\n",
       "<style scoped>\n",
       "    .dataframe tbody tr th:only-of-type {\n",
       "        vertical-align: middle;\n",
       "    }\n",
       "\n",
       "    .dataframe tbody tr th {\n",
       "        vertical-align: top;\n",
       "    }\n",
       "\n",
       "    .dataframe thead th {\n",
       "        text-align: right;\n",
       "    }\n",
       "</style>\n",
       "<table border=\"1\" class=\"dataframe\">\n",
       "  <thead>\n",
       "    <tr style=\"text-align: right;\">\n",
       "      <th></th>\n",
       "      <th>group</th>\n",
       "      <th>uid</th>\n",
       "      <th>avg_age</th>\n",
       "      <th>avg_atr_coeff</th>\n",
       "      <th>avg_gender</th>\n",
       "      <th>avg_age_f_start</th>\n",
       "      <th>avg_age_f_end</th>\n",
       "      <th>cnt_from_usa</th>\n",
       "    </tr>\n",
       "  </thead>\n",
       "  <tbody>\n",
       "    <tr>\n",
       "      <th>0</th>\n",
       "      <td>control_1</td>\n",
       "      <td>4339</td>\n",
       "      <td>32.1</td>\n",
       "      <td>312.12</td>\n",
       "      <td>0.96</td>\n",
       "      <td>26.79</td>\n",
       "      <td>38.55</td>\n",
       "      <td>0.34</td>\n",
       "    </tr>\n",
       "    <tr>\n",
       "      <th>1</th>\n",
       "      <td>control_2</td>\n",
       "      <td>4264</td>\n",
       "      <td>32.05</td>\n",
       "      <td>317.96</td>\n",
       "      <td>0.95</td>\n",
       "      <td>26.95</td>\n",
       "      <td>38.91</td>\n",
       "      <td>0.35</td>\n",
       "    </tr>\n",
       "    <tr>\n",
       "      <th>2</th>\n",
       "      <td>test</td>\n",
       "      <td>4308</td>\n",
       "      <td>31.89</td>\n",
       "      <td>316.41</td>\n",
       "      <td>0.95</td>\n",
       "      <td>26.7</td>\n",
       "      <td>38.25</td>\n",
       "      <td>0.34</td>\n",
       "    </tr>\n",
       "    <tr>\n",
       "      <th>3</th>\n",
       "      <td>equal_var(leven)</td>\n",
       "      <td>--&gt;</td>\n",
       "      <td>0.67</td>\n",
       "      <td>0.46</td>\n",
       "      <td>0.51</td>\n",
       "      <td>0.49</td>\n",
       "      <td>0.32</td>\n",
       "      <td>0.47</td>\n",
       "    </tr>\n",
       "    <tr>\n",
       "      <th>4</th>\n",
       "      <td>p-tukey[1-2, 1-t, 2-t]</td>\n",
       "      <td>--&gt;</td>\n",
       "      <td>[0.9, 0.61, 0.74]</td>\n",
       "      <td>[0.66, 0.79, 0.9]</td>\n",
       "      <td>[0.66, 0.51, 0.9]</td>\n",
       "      <td>[0.69, 0.88, 0.43]</td>\n",
       "      <td>[0.53, 0.63, 0.12]</td>\n",
       "      <td>[0.61, 0.9, 0.48]</td>\n",
       "    </tr>\n",
       "  </tbody>\n",
       "</table>\n",
       "</div>"
      ],
      "text/plain": [
       "                    group   uid            avg_age      avg_atr_coeff  \\\n",
       "0               control_1  4339               32.1             312.12   \n",
       "1               control_2  4264              32.05             317.96   \n",
       "2                    test  4308              31.89             316.41   \n",
       "3        equal_var(leven)   -->               0.67               0.46   \n",
       "4  p-tukey[1-2, 1-t, 2-t]   -->  [0.9, 0.61, 0.74]  [0.66, 0.79, 0.9]   \n",
       "\n",
       "          avg_gender     avg_age_f_start       avg_age_f_end  \\\n",
       "0               0.96               26.79               38.55   \n",
       "1               0.95               26.95               38.91   \n",
       "2               0.95                26.7               38.25   \n",
       "3               0.51                0.49                0.32   \n",
       "4  [0.66, 0.51, 0.9]  [0.69, 0.88, 0.43]  [0.53, 0.63, 0.12]   \n",
       "\n",
       "        cnt_from_usa  \n",
       "0               0.34  \n",
       "1               0.35  \n",
       "2               0.34  \n",
       "3               0.47  \n",
       "4  [0.61, 0.9, 0.48]  "
      ]
     },
     "execution_count": 127,
     "metadata": {},
     "output_type": "execute_result"
    }
   ],
   "source": [
    "signs_of_groups(data_users)"
   ]
  },
  {
   "cell_type": "markdown",
   "metadata": {},
   "source": [
    "При заданном уровне значимости alpha=0.05 гипотезы равенстве средних вышеперечисленных велечин принимаются.    \n",
    "\n",
    "> __Значит в наших трех исправленных выборках соблюдаются временные рамки проведения эксперимента, выполняются условия независимости(по пользователям) и репрезентативности(в данном случае понимаем как соответвие начальных данных друг другу ака равенство срених велечин из таблицы выше). Поэтому считаю, что скорректированные данные(удаление пользователей, выходящих за временные рамки + пересчет дохода и наличия подписки в таблицах users) можно использовать для проведения A/A/B тестов__"
   ]
  },
  {
   "cell_type": "markdown",
   "metadata": {},
   "source": [
    "## 5. Гипотезы и тесты"
   ]
  },
  {
   "cell_type": "markdown",
   "metadata": {},
   "source": [
    "### 5.1 Гипотеза о равенстве medianRPPU\n",
    "[Содержание](#Содержание)\n",
    "\n",
    "Для начала взглянем на распределения total_revenue (для пользователей с total_revenue > 0)"
   ]
  },
  {
   "cell_type": "code",
   "execution_count": 128,
   "metadata": {},
   "outputs": [
    {
     "data": {
      "text/plain": [
       "<matplotlib.axes._subplots.AxesSubplot at 0x7fdaa3781278>"
      ]
     },
     "execution_count": 128,
     "metadata": {},
     "output_type": "execute_result"
    },
    {
     "data": {
      "image/png": "[encoded data removed]",
      "text/plain": [
       "<Figure size 432x288 with 1 Axes>"
      ]
     },
     "metadata": {
      "needs_background": "light"
     },
     "output_type": "display_data"
    }
   ],
   "source": [
    "sns.boxplot(data=data_users.query('0 < total_revenue'), x='total_revenue', y='group')"
   ]
  },
  {
   "cell_type": "markdown",
   "metadata": {},
   "source": [
    "Посмотрим без значительных выбросов:"
   ]
  },
  {
   "cell_type": "code",
   "execution_count": 129,
   "metadata": {},
   "outputs": [
    {
     "data": {
      "text/plain": [
       "<matplotlib.axes._subplots.AxesSubplot at 0x7fdac287e780>"
      ]
     },
     "execution_count": 129,
     "metadata": {},
     "output_type": "execute_result"
    },
    {
     "data": {
      "image/png": "[encoded data removed]",
      "text/plain": [
       "<Figure size 432x288 with 1 Axes>"
      ]
     },
     "metadata": {
      "needs_background": "light"
     },
     "output_type": "display_data"
    }
   ],
   "source": [
    "sns.boxplot(data=data_users.query('0 < total_revenue < 100000'), x='total_revenue', y='group')"
   ]
  },
  {
   "cell_type": "markdown",
   "metadata": {},
   "source": [
    "Из-за больших выбросов(чтобы их не отсекать для возможности использовать другие методы) воспользуемся непараметрическим аналогом ANOVA - тестом Краскала-Уоллеса :\n",
    "\n",
    "\n",
    "\\begin{equation*}\n",
    "\\begin{aligned} \n",
    "& H_0: \\text{Во всех группах одинаковое значение medianRPPU}   \\\\\n",
    "& H_a: \\text{В тестовой группе medianRPPU отличается}  \n",
    "\\end{aligned}\n",
    "\\end{equation*}\n"
   ]
  },
  {
   "cell_type": "code",
   "execution_count": 130,
   "metadata": {},
   "outputs": [
    {
     "data": {
      "text/html": [
       "<div>\n",
       "<style scoped>\n",
       "    .dataframe tbody tr th:only-of-type {\n",
       "        vertical-align: middle;\n",
       "    }\n",
       "\n",
       "    .dataframe tbody tr th {\n",
       "        vertical-align: top;\n",
       "    }\n",
       "\n",
       "    .dataframe thead th {\n",
       "        text-align: right;\n",
       "    }\n",
       "</style>\n",
       "<table border=\"1\" class=\"dataframe\">\n",
       "  <thead>\n",
       "    <tr style=\"text-align: right;\">\n",
       "      <th></th>\n",
       "      <th>Source</th>\n",
       "      <th>ddof1</th>\n",
       "      <th>H</th>\n",
       "      <th>p-unc</th>\n",
       "    </tr>\n",
       "  </thead>\n",
       "  <tbody>\n",
       "    <tr>\n",
       "      <th>Kruskal</th>\n",
       "      <td>group</td>\n",
       "      <td>2</td>\n",
       "      <td>21.287528</td>\n",
       "      <td>0.000024</td>\n",
       "    </tr>\n",
       "  </tbody>\n",
       "</table>\n",
       "</div>"
      ],
      "text/plain": [
       "        Source  ddof1          H     p-unc\n",
       "Kruskal  group      2  21.287528  0.000024"
      ]
     },
     "execution_count": 130,
     "metadata": {},
     "output_type": "execute_result"
    }
   ],
   "source": [
    "pg.kruskal(data=data_users.query('total_revenue > 0'), dv='total_revenue', between='group')"
   ]
  },
  {
   "cell_type": "markdown",
   "metadata": {},
   "source": [
    "При заданном уровне значимости alpha=0.05 гипотеза о равенстве medianRPPU отклоняется. Проверим аналогично попарно группы  при помощи U-критерия Манна-Уитни и поправки Холма на множественные сравнения:\n",
    "\n",
    "\\begin{equation*}\n",
    "\\begin{aligned} \n",
    "& H_0: \\text{Распределения в двух группах равны}   \\\\\n",
    "& H_a: \\text{Распределение, лежащее в основе test, стохастически больше, чем распределение лежащее в основе control} \\\\\n",
    "&            \\text{(упрощая для нас - значит и его медиана и medianRPPU больше)} \n",
    "\\end{aligned}\n",
    "\\end{equation*}\n"
   ]
  },
  {
   "cell_type": "code",
   "execution_count": 131,
   "metadata": {},
   "outputs": [],
   "source": [
    "mwu_1 = data_users.query('total_revenue > 0 & group == \"control_1\"').total_revenue\n",
    "mwu_2 = data_users.query('total_revenue > 0 & group == \"control_2\"').total_revenue\n",
    "mwu_t = data_users.query('total_revenue > 0 & group == \"test\"').total_revenue"
   ]
  },
  {
   "cell_type": "code",
   "execution_count": 132,
   "metadata": {},
   "outputs": [
    {
     "data": {
      "text/html": [
       "<div>\n",
       "<style scoped>\n",
       "    .dataframe tbody tr th:only-of-type {\n",
       "        vertical-align: middle;\n",
       "    }\n",
       "\n",
       "    .dataframe tbody tr th {\n",
       "        vertical-align: top;\n",
       "    }\n",
       "\n",
       "    .dataframe thead th {\n",
       "        text-align: right;\n",
       "    }\n",
       "</style>\n",
       "<table border=\"1\" class=\"dataframe\">\n",
       "  <thead>\n",
       "    <tr style=\"text-align: right;\">\n",
       "      <th></th>\n",
       "      <th>U-val</th>\n",
       "      <th>alternative</th>\n",
       "      <th>p-val</th>\n",
       "      <th>RBC</th>\n",
       "      <th>CLES</th>\n",
       "    </tr>\n",
       "  </thead>\n",
       "  <tbody>\n",
       "    <tr>\n",
       "      <th>MWU</th>\n",
       "      <td>17135.5</td>\n",
       "      <td>greater</td>\n",
       "      <td>0.000157</td>\n",
       "      <td>-0.228968</td>\n",
       "      <td>0.614484</td>\n",
       "    </tr>\n",
       "  </tbody>\n",
       "</table>\n",
       "</div>"
      ],
      "text/plain": [
       "       U-val alternative     p-val       RBC      CLES\n",
       "MWU  17135.5     greater  0.000157 -0.228968  0.614484"
      ]
     },
     "execution_count": 132,
     "metadata": {},
     "output_type": "execute_result"
    }
   ],
   "source": [
    "pg.mwu(mwu_t.tolist(), mwu_1.tolist(), alternative='greater')"
   ]
  },
  {
   "cell_type": "code",
   "execution_count": 133,
   "metadata": {},
   "outputs": [
    {
     "data": {
      "text/html": [
       "<div>\n",
       "<style scoped>\n",
       "    .dataframe tbody tr th:only-of-type {\n",
       "        vertical-align: middle;\n",
       "    }\n",
       "\n",
       "    .dataframe tbody tr th {\n",
       "        vertical-align: top;\n",
       "    }\n",
       "\n",
       "    .dataframe thead th {\n",
       "        text-align: right;\n",
       "    }\n",
       "</style>\n",
       "<table border=\"1\" class=\"dataframe\">\n",
       "  <thead>\n",
       "    <tr style=\"text-align: right;\">\n",
       "      <th></th>\n",
       "      <th>U-val</th>\n",
       "      <th>alternative</th>\n",
       "      <th>p-val</th>\n",
       "      <th>RBC</th>\n",
       "      <th>CLES</th>\n",
       "    </tr>\n",
       "  </thead>\n",
       "  <tbody>\n",
       "    <tr>\n",
       "      <th>MWU</th>\n",
       "      <td>17455.5</td>\n",
       "      <td>greater</td>\n",
       "      <td>0.000006</td>\n",
       "      <td>-0.278698</td>\n",
       "      <td>0.639349</td>\n",
       "    </tr>\n",
       "  </tbody>\n",
       "</table>\n",
       "</div>"
      ],
      "text/plain": [
       "       U-val alternative     p-val       RBC      CLES\n",
       "MWU  17455.5     greater  0.000006 -0.278698  0.639349"
      ]
     },
     "execution_count": 133,
     "metadata": {},
     "output_type": "execute_result"
    }
   ],
   "source": [
    "pg.mwu(mwu_t.tolist(), mwu_2.tolist(), alternative='greater')"
   ]
  },
  {
   "cell_type": "markdown",
   "metadata": {},
   "source": [
    "Воспользуемся поправкой Холма на множественное сравнение"
   ]
  },
  {
   "cell_type": "code",
   "execution_count": 137,
   "metadata": {},
   "outputs": [
    {
     "name": "stdout",
     "output_type": "stream",
     "text": [
      "[1.57e-04 1.20e-05]\n"
     ]
    }
   ],
   "source": [
    "print(multipletests([0.000157, 0.000006], alpha=0.05, method='holm')[1])"
   ]
  },
  {
   "cell_type": "markdown",
   "metadata": {},
   "source": [
    "> __При заданном уровне значимости alpha=0.05 принимаются альтернативные гипотезы о том, что medianRPPU в тестовой группе больше, чем в 1-контрольной и больше, чем во  2-контрольной.__"
   ]
  },
  {
   "cell_type": "markdown",
   "metadata": {},
   "source": [
    "Чтобы узнать, насколько в среднем значение medianRPPU в тестовой группе превышает контрольные группы, воспользуемся бутстрэпом. "
   ]
  },
  {
   "cell_type": "markdown",
   "metadata": {},
   "source": [
    "> __Обладая только данными по имеющейся выборке, у нас есть возможность оценить любой её параметр, построив эмпирическое распределение - строим распределение медиан для теста и контролей, производим вычитание матриц, в получившемся распределении находим доверительный интервал - это и будет искомое значение(также можно рассчиать p-val и подтвердить наши вычисления)__"
   ]
  },
  {
   "cell_type": "code",
   "execution_count": 138,
   "metadata": {},
   "outputs": [],
   "source": [
    "boot_t_1 = get_pvalue(get_bootstrap(mwu_t, mwu_1, boot_it = 100000))\n",
    "boot_t_2 = get_pvalue(get_bootstrap(mwu_t, mwu_2, boot_it = 100000))"
   ]
  },
  {
   "cell_type": "code",
   "execution_count": 139,
   "metadata": {
    "scrolled": true
   },
   "outputs": [
    {
     "name": "stdout",
     "output_type": "stream",
     "text": [
      "0.0001 [[936.0], [3952.0]]\n",
      "0.0 [[1664.0], [5031.0]]\n"
     ]
    }
   ],
   "source": [
    "p_cor_1, p_cor_2 = multipletests([boot_t_1[0], boot_t_2[0]], alpha=0.05, method='holm')[1]\n",
    "\n",
    "print(round(p_cor_1, 4), boot_t_1[1].round(2).values.tolist())\n",
    "print(round(p_cor_2, 4), boot_t_2[1].round(2).values.tolist())"
   ]
  },
  {
   "cell_type": "markdown",
   "metadata": {},
   "source": [
    "> **Таким образом, гипотеза о равенстве medianRPPU по всем продуктам на 5% уровне значимости отвергается:**\n",
    ">- **В тестовой группе medianRPPU выше чем в 1-й контрольной группе в среднем на $[936; 3952]$ ден. единиц;**\n",
    ">- **В тестовой группе medianRPPU выше чем во 2-й контрольной группе в среднем на $[1664; 5031]$ ден. единиц.**"
   ]
  },
  {
   "cell_type": "markdown",
   "metadata": {},
   "source": [
    "### 5.2 Гипотеза о равенстве дохода с оформления  подписок(не пробных)"
   ]
  },
  {
   "cell_type": "markdown",
   "metadata": {},
   "source": [
    "Для начала взглянем на распределения revenue типа покупки premium_no_trial"
   ]
  },
  {
   "cell_type": "code",
   "execution_count": 149,
   "metadata": {},
   "outputs": [
    {
     "data": {
      "text/plain": [
       "<matplotlib.axes._subplots.AxesSubplot at 0x7f0d379de240>"
      ]
     },
     "execution_count": 149,
     "metadata": {},
     "output_type": "execute_result"
    },
    {
     "data": {
      "image/png": "[encoded data removed]",
      "text/plain": [
       "<Figure size 432x288 with 1 Axes>"
      ]
     },
     "metadata": {
      "needs_background": "light"
     },
     "output_type": "display_data"
    }
   ],
   "source": [
    "sns.boxplot(data=data_transactions.query('product_type == \"premium_no_trial\"'), x='revenue', y='group')"
   ]
  },
  {
   "cell_type": "markdown",
   "metadata": {},
   "source": [
    "Посмотрим без значительных выбросов:"
   ]
  },
  {
   "cell_type": "code",
   "execution_count": 150,
   "metadata": {},
   "outputs": [
    {
     "data": {
      "text/plain": [
       "<matplotlib.axes._subplots.AxesSubplot at 0x7f0d37b26828>"
      ]
     },
     "execution_count": 150,
     "metadata": {},
     "output_type": "execute_result"
    },
    {
     "data": {
      "image/png": "[encoded data removed]",
      "text/plain": [
       "<Figure size 432x288 with 1 Axes>"
      ]
     },
     "metadata": {
      "needs_background": "light"
     },
     "output_type": "display_data"
    }
   ],
   "source": [
    "sns.boxplot(data=data_transactions.query('product_type == \"premium_no_trial\" & revenue < 40000'), x='revenue', y='group')"
   ]
  },
  {
   "cell_type": "markdown",
   "metadata": {},
   "source": [
    "Для проверки гомогенности дисперсий воспользумся критерием Левена\n",
    "\n",
    "\\begin{equation*}\n",
    "\\begin{aligned} \n",
    "& H_0: \\text{Дисперсии выборок не отличаются} \\\\\n",
    "& H_a: \\text{Между дисперсиями есть различие}  \n",
    "\\end{aligned}\n",
    "\\end{equation*}"
   ]
  },
  {
   "cell_type": "code",
   "execution_count": 151,
   "metadata": {},
   "outputs": [
    {
     "data": {
      "text/html": [
       "<div>\n",
       "<style scoped>\n",
       "    .dataframe tbody tr th:only-of-type {\n",
       "        vertical-align: middle;\n",
       "    }\n",
       "\n",
       "    .dataframe tbody tr th {\n",
       "        vertical-align: top;\n",
       "    }\n",
       "\n",
       "    .dataframe thead th {\n",
       "        text-align: right;\n",
       "    }\n",
       "</style>\n",
       "<table border=\"1\" class=\"dataframe\">\n",
       "  <thead>\n",
       "    <tr style=\"text-align: right;\">\n",
       "      <th></th>\n",
       "      <th>W</th>\n",
       "      <th>pval</th>\n",
       "      <th>equal_var</th>\n",
       "    </tr>\n",
       "  </thead>\n",
       "  <tbody>\n",
       "    <tr>\n",
       "      <th>levene</th>\n",
       "      <td>1.515722</td>\n",
       "      <td>0.221409</td>\n",
       "      <td>True</td>\n",
       "    </tr>\n",
       "  </tbody>\n",
       "</table>\n",
       "</div>"
      ],
      "text/plain": [
       "               W      pval  equal_var\n",
       "levene  1.515722  0.221409       True"
      ]
     },
     "execution_count": 151,
     "metadata": {},
     "output_type": "execute_result"
    }
   ],
   "source": [
    "pg.homoscedasticity(data=data_transactions.query('product_type == \"premium_no_trial\"'), dv=\"revenue\", group=\"group\")"
   ]
  },
  {
   "cell_type": "markdown",
   "metadata": {},
   "source": [
    "Из-за наличия выбросов воспользуемся непараметрическим аналогом ANOVA - тестом Краскала-Уоллеса :\n",
    "\n",
    "\n",
    "\\begin{equation*}\n",
    "\\begin{aligned} \n",
    "& H_0: \\text{Во всех группах одинаковое значение медианного дохода с оформления подписок }   \\\\\n",
    "& H_a: \\text{В тестовой группе медианный доход с оформления подписок отличается}  \n",
    "\\end{aligned}\n",
    "\\end{equation*}\n"
   ]
  },
  {
   "cell_type": "code",
   "execution_count": 152,
   "metadata": {},
   "outputs": [
    {
     "data": {
      "text/html": [
       "<div>\n",
       "<style scoped>\n",
       "    .dataframe tbody tr th:only-of-type {\n",
       "        vertical-align: middle;\n",
       "    }\n",
       "\n",
       "    .dataframe tbody tr th {\n",
       "        vertical-align: top;\n",
       "    }\n",
       "\n",
       "    .dataframe thead th {\n",
       "        text-align: right;\n",
       "    }\n",
       "</style>\n",
       "<table border=\"1\" class=\"dataframe\">\n",
       "  <thead>\n",
       "    <tr style=\"text-align: right;\">\n",
       "      <th></th>\n",
       "      <th>Source</th>\n",
       "      <th>ddof1</th>\n",
       "      <th>H</th>\n",
       "      <th>p-unc</th>\n",
       "    </tr>\n",
       "  </thead>\n",
       "  <tbody>\n",
       "    <tr>\n",
       "      <th>Kruskal</th>\n",
       "      <td>group</td>\n",
       "      <td>2</td>\n",
       "      <td>33.443358</td>\n",
       "      <td>5.468486e-08</td>\n",
       "    </tr>\n",
       "  </tbody>\n",
       "</table>\n",
       "</div>"
      ],
      "text/plain": [
       "        Source  ddof1          H         p-unc\n",
       "Kruskal  group      2  33.443358  5.468486e-08"
      ]
     },
     "execution_count": 152,
     "metadata": {},
     "output_type": "execute_result"
    }
   ],
   "source": [
    "pg.kruskal(data=data_transactions.query('product_type == \"premium_no_trial\"'), dv='revenue', between='group')"
   ]
  },
  {
   "cell_type": "markdown",
   "metadata": {},
   "source": [
    "При заданном уровне значимости alpha=0.05 гипотеза о равенстве медианного дохода с оформления подписок отклоняется. Поищем различия в группах  при помощи U-критерия Манна-Уитни и поправки Холма:\n",
    "\n",
    "\\begin{equation*}\n",
    "\\begin{aligned} \n",
    "& H_0: \\text{Распределения в двух группах равны}   \\\\\n",
    "& H_a: \\text{Распределение, лежащее в основе test, стохастически больше, чем распределение лежащее в основе control} \\\\\n",
    "&            \\text{(упрощая для нас - значит и его медиана больше)} \n",
    "\\end{aligned}\n",
    "\\end{equation*}"
   ]
  },
  {
   "cell_type": "code",
   "execution_count": 153,
   "metadata": {},
   "outputs": [],
   "source": [
    "mwu_1 = data_transactions.query('product_type == \"premium_no_trial\" & group == \"control_1\"').revenue\n",
    "mwu_2 = data_transactions.query('product_type == \"premium_no_trial\" & group == \"control_2\"').revenue\n",
    "mwu_t = data_transactions.query('product_type == \"premium_no_trial\" & group == \"test\"').revenue"
   ]
  },
  {
   "cell_type": "code",
   "execution_count": 154,
   "metadata": {},
   "outputs": [
    {
     "data": {
      "text/html": [
       "<div>\n",
       "<style scoped>\n",
       "    .dataframe tbody tr th:only-of-type {\n",
       "        vertical-align: middle;\n",
       "    }\n",
       "\n",
       "    .dataframe tbody tr th {\n",
       "        vertical-align: top;\n",
       "    }\n",
       "\n",
       "    .dataframe thead th {\n",
       "        text-align: right;\n",
       "    }\n",
       "</style>\n",
       "<table border=\"1\" class=\"dataframe\">\n",
       "  <thead>\n",
       "    <tr style=\"text-align: right;\">\n",
       "      <th></th>\n",
       "      <th>U-val</th>\n",
       "      <th>alternative</th>\n",
       "      <th>p-val</th>\n",
       "      <th>RBC</th>\n",
       "      <th>CLES</th>\n",
       "    </tr>\n",
       "  </thead>\n",
       "  <tbody>\n",
       "    <tr>\n",
       "      <th>MWU</th>\n",
       "      <td>5866.0</td>\n",
       "      <td>greater</td>\n",
       "      <td>6.003202e-08</td>\n",
       "      <td>-0.456306</td>\n",
       "      <td>0.728153</td>\n",
       "    </tr>\n",
       "  </tbody>\n",
       "</table>\n",
       "</div>"
      ],
      "text/plain": [
       "      U-val alternative         p-val       RBC      CLES\n",
       "MWU  5866.0     greater  6.003202e-08 -0.456306  0.728153"
      ]
     },
     "execution_count": 154,
     "metadata": {},
     "output_type": "execute_result"
    }
   ],
   "source": [
    "pg.mwu(mwu_t.tolist(), mwu_1.tolist(), alternative='greater')"
   ]
  },
  {
   "cell_type": "code",
   "execution_count": 155,
   "metadata": {},
   "outputs": [
    {
     "data": {
      "text/html": [
       "<div>\n",
       "<style scoped>\n",
       "    .dataframe tbody tr th:only-of-type {\n",
       "        vertical-align: middle;\n",
       "    }\n",
       "\n",
       "    .dataframe tbody tr th {\n",
       "        vertical-align: top;\n",
       "    }\n",
       "\n",
       "    .dataframe thead th {\n",
       "        text-align: right;\n",
       "    }\n",
       "</style>\n",
       "<table border=\"1\" class=\"dataframe\">\n",
       "  <thead>\n",
       "    <tr style=\"text-align: right;\">\n",
       "      <th></th>\n",
       "      <th>U-val</th>\n",
       "      <th>alternative</th>\n",
       "      <th>p-val</th>\n",
       "      <th>RBC</th>\n",
       "      <th>CLES</th>\n",
       "    </tr>\n",
       "  </thead>\n",
       "  <tbody>\n",
       "    <tr>\n",
       "      <th>MWU</th>\n",
       "      <td>5771.0</td>\n",
       "      <td>greater</td>\n",
       "      <td>5.687226e-07</td>\n",
       "      <td>-0.419331</td>\n",
       "      <td>0.709666</td>\n",
       "    </tr>\n",
       "  </tbody>\n",
       "</table>\n",
       "</div>"
      ],
      "text/plain": [
       "      U-val alternative         p-val       RBC      CLES\n",
       "MWU  5771.0     greater  5.687226e-07 -0.419331  0.709666"
      ]
     },
     "execution_count": 155,
     "metadata": {},
     "output_type": "execute_result"
    }
   ],
   "source": [
    "pg.mwu(mwu_t.tolist(), mwu_2.tolist(), alternative='greater')"
   ]
  },
  {
   "cell_type": "markdown",
   "metadata": {},
   "source": [
    "Воспользуемся поправкой Холма на множественное сравнение"
   ]
  },
  {
   "cell_type": "code",
   "execution_count": 156,
   "metadata": {},
   "outputs": [
    {
     "name": "stdout",
     "output_type": "stream",
     "text": [
      "[1.2006404e-07 5.6872260e-07]\n"
     ]
    }
   ],
   "source": [
    "print(multipletests([6.003202e-08, 5.687226e-07], alpha=0.05, method='holm')[1])"
   ]
  },
  {
   "cell_type": "markdown",
   "metadata": {},
   "source": [
    "> __При заданном уровне значимости alpha=0.05 принимаются альтернативные гипотезы о том,  что в тестовой группе медианный доход с оформления подписок выше, чем в 1-контрольной и выше, чем во 2-контрольной.__"
   ]
  },
  {
   "cell_type": "markdown",
   "metadata": {},
   "source": [
    "Чтобы узнать, насколько в среднем медианный доход с оформления подписок в тестовой группе превышает контрольные группы, воспользуемся бутстрэпом. "
   ]
  },
  {
   "cell_type": "code",
   "execution_count": 157,
   "metadata": {},
   "outputs": [],
   "source": [
    "mwu_t__mwu_1 = get_pvalue(get_bootstrap(mwu_t, mwu_1, boot_it = 100000))\n",
    "mwu_t__mwu_2 = get_pvalue(get_bootstrap(mwu_t, mwu_2, boot_it = 100000))"
   ]
  },
  {
   "cell_type": "code",
   "execution_count": 173,
   "metadata": {},
   "outputs": [
    {
     "name": "stdout",
     "output_type": "stream",
     "text": [
      "0.0 [[1625.0], [3048.5]]\n",
      "0.0 [[1534.0], [2925.0]]\n"
     ]
    }
   ],
   "source": [
    "p_cor_1, p_cor_2 = multipletests([mwu_t__mwu_1[0], mwu_t__mwu_2[0]], alpha=0.05, method='holm')[1]\n",
    "\n",
    "print(round(p_cor_1, 4), mwu_t__mwu_1[1].round(2).values.tolist())\n",
    "print(round(p_cor_2, 4), mwu_t__mwu_2[1].round(2).values.tolist())"
   ]
  },
  {
   "cell_type": "markdown",
   "metadata": {},
   "source": [
    "> **Таким образом, гипотеза о равенстве дохода с оформления подписок на 5% уровне значимости отвергается:**\n",
    ">- **В тестовой группе медианный доход с оформления подписок выше чем в 1-й контрольной группе в среднем на $[1625; 3048]$ ден. единиц;**\n",
    ">- **В тестовой группе медианный доход с оформления подписок выше чем во 2-й контрольной группе в среднем на $[1534; 2925]$ ден. единиц.**"
   ]
  },
  {
   "cell_type": "markdown",
   "metadata": {},
   "source": [
    "### 5.3 Гипотеза о равенстве CR в подписку"
   ]
  },
  {
   "cell_type": "markdown",
   "metadata": {},
   "source": [
    "Взглянем на распределения СR (аналогично отношению was_premium ко всем пользователям)"
   ]
  },
  {
   "cell_type": "code",
   "execution_count": 159,
   "metadata": {},
   "outputs": [
    {
     "data": {
      "text/plain": [
       "<matplotlib.axes._subplots.AxesSubplot at 0x7f0d37b26d68>"
      ]
     },
     "execution_count": 159,
     "metadata": {},
     "output_type": "execute_result"
    },
    {
     "data": {
      "image/png": "[encoded data removed]",
      "text/plain": [
       "<Figure size 432x288 with 1 Axes>"
      ]
     },
     "metadata": {
      "needs_background": "light"
     },
     "output_type": "display_data"
    }
   ],
   "source": [
    "sns.barplot(data=data_users, x='was_premium', y='group')"
   ]
  },
  {
   "cell_type": "markdown",
   "metadata": {},
   "source": [
    "Воспользуемся бутстрэпом, чтобы проверить \n",
    "\n",
    "\\begin{equation*}\n",
    "\\begin{aligned} \n",
    "& H_0: \\text{В двух группах одинаковый CR в подписку}   \\\\\n",
    "& H_a: \\text{В одной из 2х групп CR в подписку отличается}  \n",
    "\\end{aligned}\n",
    "\\end{equation*}\n"
   ]
  },
  {
   "cell_type": "code",
   "execution_count": 160,
   "metadata": {},
   "outputs": [],
   "source": [
    "cr_1 = data_users.query('group == \"control_1\"').was_premium\n",
    "cr_2 = data_users.query('group == \"control_2\"').was_premium\n",
    "cr_t = data_users.query('group == \"test\"').was_premium"
   ]
  },
  {
   "cell_type": "code",
   "execution_count": 162,
   "metadata": {},
   "outputs": [],
   "source": [
    "cr_1__cr_2 = get_pvalue(get_bootstrap(cr_1, cr_2, statistic = np.mean, boot_it = 100000))\n",
    "cr_1__cr_t = get_pvalue(get_bootstrap(cr_1, cr_t, statistic = np.mean, boot_it = 100000))\n",
    "cr_2__cr_t = get_pvalue(get_bootstrap(cr_2, cr_t, statistic = np.mean, boot_it = 100000))"
   ]
  },
  {
   "cell_type": "code",
   "execution_count": 174,
   "metadata": {},
   "outputs": [
    {
     "name": "stdout",
     "output_type": "stream",
     "text": [
      "0.575\n",
      "0.575\n",
      "0.575\n"
     ]
    }
   ],
   "source": [
    "p_cor_1, p_cor_2, p_cor_3 = multipletests([cr_1__cr_2[0], cr_1__cr_t[0], cr_2__cr_t[0]], alpha=0.05, method='holm')[1]\n",
    "\n",
    "print(round(p_cor_1, 4))\n",
    "print(round(p_cor_2, 4))\n",
    "print(round(p_cor_3, 4))"
   ]
  },
  {
   "cell_type": "markdown",
   "metadata": {},
   "source": [
    "> **Таким образом, нулевые гипотезы о равенстве CR в подписку на 5% уровне значимости для пар групп control_1 и control_2, control_1 и test, control_2 и test принимаются - различий не обнаружено**"
   ]
  },
  {
   "cell_type": "markdown",
   "metadata": {},
   "source": [
    "### 5.4 Гипотеза о равенстве относительной CR из подписки в продление подписки\n",
    "[Содержание](#Содержание)"
   ]
  },
  {
   "cell_type": "markdown",
   "metadata": {},
   "source": [
    "Взглянем на распределения относительной CR из подписки в продление подписки(аналогично отношению extended_2 к was_premium)"
   ]
  },
  {
   "cell_type": "code",
   "execution_count": 164,
   "metadata": {},
   "outputs": [
    {
     "data": {
      "text/plain": [
       "<matplotlib.axes._subplots.AxesSubplot at 0x7f0d1eb9d160>"
      ]
     },
     "execution_count": 164,
     "metadata": {},
     "output_type": "execute_result"
    },
    {
     "data": {
      "image/png": "[encoded data removed]",
      "text/plain": [
       "<Figure size 432x288 with 1 Axes>"
      ]
     },
     "metadata": {
      "needs_background": "light"
     },
     "output_type": "display_data"
    }
   ],
   "source": [
    "sns.barplot(data=data_users.query('was_premium == 1'), x='extended_2', y='group')"
   ]
  },
  {
   "cell_type": "markdown",
   "metadata": {},
   "source": [
    "Воспользуемся бутстрэпом, чтобы проверить \n",
    "\n",
    "\\begin{equation*}\n",
    "\\begin{aligned} \n",
    "& H_0: \\text{В В двух группах одинаковое значение относительной CR из подписки в продление подписки}   \\\\\n",
    "& H_a: \\text{В одной из 2х относительный CR из подписки в продление подписки отличается}  \n",
    "\\end{aligned}\n",
    "\\end{equation*}\n"
   ]
  },
  {
   "cell_type": "code",
   "execution_count": 165,
   "metadata": {},
   "outputs": [],
   "source": [
    "crr_1 = data_users.query('was_premium == 1 & group == \"control_1\"').extended_2\n",
    "crr_2 = data_users.query('was_premium == 1 & group == \"control_2\"').extended_2\n",
    "crr_t = data_users.query('was_premium == 1 & group == \"test\"').extended_2"
   ]
  },
  {
   "cell_type": "code",
   "execution_count": 167,
   "metadata": {},
   "outputs": [],
   "source": [
    "crr_1__crr_2 = get_pvalue(get_bootstrap(crr_1, crr_2, statistic = np.mean, boot_it = 100000))\n",
    "crr_1__crr_t = get_pvalue(get_bootstrap(crr_1, crr_t, statistic = np.mean, boot_it = 100000))\n",
    "crr_2__crr_t = get_pvalue(get_bootstrap(crr_2, crr_t, statistic = np.mean, boot_it = 100000))"
   ]
  },
  {
   "cell_type": "code",
   "execution_count": 171,
   "metadata": {},
   "outputs": [
    {
     "name": "stdout",
     "output_type": "stream",
     "text": [
      "0.2231 [[-0.092], [0.0414]]\n",
      "0.1024 [[-0.0115], [0.1195]]\n",
      "0.0311 [[0.0122], [0.1484]]\n"
     ]
    }
   ],
   "source": [
    "p_cor_1, p_cor_2, p_cor_3 = multipletests([crr_1__crr_2[0],crr_1__crr_t[0],crr_2__crr_t[0]], alpha=0.05, method='holm')[1]\n",
    "\n",
    "print(round(p_cor_1, 4), crr_1__crr_2[1].round(4).values.tolist())\n",
    "print(round(p_cor_2, 4), crr_1__crr_t[1].round(4).values.tolist())\n",
    "print(round(p_cor_3, 4), crr_2__crr_t[1].round(4).values.tolist())"
   ]
  },
  {
   "cell_type": "markdown",
   "metadata": {},
   "source": [
    "> **Таким образом:**\n",
    ">- **Гипотеза о равенстве относительной CR из подписки в продление подписки для пар групп control_1 и control_2, control_1 и test на 5% уровне значимости принимается - значимых различий не обнаружено:**\n",
    ">- **Гипотеза о равенстве относительной CR из подписки в продление подписки для групп test и сontrol_1 на 5% уровне значимости отвергается - обнаружены значимые различия - относительный CR в *тестовой группе ниже* в среднем на на $[1.12; 14.84]$ процентных пункта**"
   ]
  },
  {
   "cell_type": "markdown",
   "metadata": {},
   "source": [
    "### 5.5 Гипотеза о равенстве medianRPPU у пользователей из одних и тех же стран\n",
    "[Содержание](#Содержание)"
   ]
  },
  {
   "cell_type": "markdown",
   "metadata": {},
   "source": [
    "Для начала найдем страны, которые встречаются во всех трех группах:"
   ]
  },
  {
   "cell_type": "code",
   "execution_count": 175,
   "metadata": {},
   "outputs": [
    {
     "data": {
      "text/plain": [
       "['Germany',\n",
       " 'France',\n",
       " 'Switzerland',\n",
       " 'Chile',\n",
       " 'Spain',\n",
       " 'Australia',\n",
       " 'Israel',\n",
       " 'Belgium',\n",
       " 'United Kingdom (Great Britain)',\n",
       " 'United Arab Emirates',\n",
       " 'United States of America',\n",
       " 'Turkey',\n",
       " 'Canada',\n",
       " 'Italy',\n",
       " 'Argentina']"
      ]
     },
     "execution_count": 175,
     "metadata": {},
     "output_type": "execute_result"
    }
   ],
   "source": [
    "c_1 = set(data_users.query('total_revenue > 0 & group == \"control_1\"').country.tolist())\n",
    "c_2 = set(data_users.query('total_revenue > 0 & group == \"control_2\"').country.tolist())\n",
    "t   = set(data_users.query('total_revenue > 0 & group == \"test\"').country.tolist())\n",
    "\n",
    "need_c = list(c_1 & c_2 & t)\n",
    "need_c"
   ]
  },
  {
   "cell_type": "code",
   "execution_count": 176,
   "metadata": {},
   "outputs": [],
   "source": [
    "ren_c = {'United States of America':'USA', 'United Kingdom (Great Britain)':'UK', 'United Arab Emirates':'UAE'}\n",
    "data_country = data_users.query('0 < total_revenue & country in @need_c')\n",
    "data_country.country = data_country.country.apply(lambda x: ren_c[x] if x in list(ren_c.keys()) else x)"
   ]
  },
  {
   "cell_type": "markdown",
   "metadata": {},
   "source": [
    "Посмтрим на распределение для этих стран для total_revenue > 0 (без одного выброса в Italy == 486330) в этих странах:"
   ]
  },
  {
   "cell_type": "code",
   "execution_count": 177,
   "metadata": {},
   "outputs": [
    {
     "data": {
      "text/plain": [
       "<matplotlib.axes._subplots.AxesSubplot at 0x7f0d1e7f8ef0>"
      ]
     },
     "execution_count": 177,
     "metadata": {},
     "output_type": "execute_result"
    },
    {
     "data": {
      "image/png": "[encoded data removed]",
      "text/plain": [
       "<Figure size 1152x1152 with 1 Axes>"
      ]
     },
     "metadata": {
      "needs_background": "light"
     },
     "output_type": "display_data"
    }
   ],
   "source": [
    "plt.figure(figsize=(16, 16))\n",
    "sns.boxplot(data=data_country.query('total_revenue < 400000'),\n",
    "            x='total_revenue', y='country', hue='group')"
   ]
  },
  {
   "cell_type": "markdown",
   "metadata": {},
   "source": [
    "Так как при разбивке одновременно по странам и группам могут остаться очень маленькие выборки, оставим страны, где в каждой из 3 групп будет не менее 3х наблюдений  "
   ]
  },
  {
   "cell_type": "code",
   "execution_count": 178,
   "metadata": {},
   "outputs": [
    {
     "data": {
      "text/html": [
       "<div>\n",
       "<style scoped>\n",
       "    .dataframe tbody tr th:only-of-type {\n",
       "        vertical-align: middle;\n",
       "    }\n",
       "\n",
       "    .dataframe tbody tr th {\n",
       "        vertical-align: top;\n",
       "    }\n",
       "\n",
       "    .dataframe thead th {\n",
       "        text-align: right;\n",
       "    }\n",
       "</style>\n",
       "<table border=\"1\" class=\"dataframe\">\n",
       "  <thead>\n",
       "    <tr style=\"text-align: right;\">\n",
       "      <th></th>\n",
       "      <th>group</th>\n",
       "      <th>country</th>\n",
       "      <th>uid</th>\n",
       "    </tr>\n",
       "  </thead>\n",
       "  <tbody>\n",
       "    <tr>\n",
       "      <th>26</th>\n",
       "      <td>control_2</td>\n",
       "      <td>Turkey</td>\n",
       "      <td>1</td>\n",
       "    </tr>\n",
       "    <tr>\n",
       "      <th>31</th>\n",
       "      <td>test</td>\n",
       "      <td>Australia</td>\n",
       "      <td>1</td>\n",
       "    </tr>\n",
       "    <tr>\n",
       "      <th>41</th>\n",
       "      <td>test</td>\n",
       "      <td>Turkey</td>\n",
       "      <td>1</td>\n",
       "    </tr>\n",
       "    <tr>\n",
       "      <th>16</th>\n",
       "      <td>control_2</td>\n",
       "      <td>Australia</td>\n",
       "      <td>2</td>\n",
       "    </tr>\n",
       "    <tr>\n",
       "      <th>1</th>\n",
       "      <td>control_1</td>\n",
       "      <td>Australia</td>\n",
       "      <td>3</td>\n",
       "    </tr>\n",
       "    <tr>\n",
       "      <th>25</th>\n",
       "      <td>control_2</td>\n",
       "      <td>Switzerland</td>\n",
       "      <td>3</td>\n",
       "    </tr>\n",
       "    <tr>\n",
       "      <th>40</th>\n",
       "      <td>test</td>\n",
       "      <td>Switzerland</td>\n",
       "      <td>3</td>\n",
       "    </tr>\n",
       "    <tr>\n",
       "      <th>11</th>\n",
       "      <td>control_1</td>\n",
       "      <td>Turkey</td>\n",
       "      <td>3</td>\n",
       "    </tr>\n",
       "    <tr>\n",
       "      <th>10</th>\n",
       "      <td>control_1</td>\n",
       "      <td>Switzerland</td>\n",
       "      <td>3</td>\n",
       "    </tr>\n",
       "    <tr>\n",
       "      <th>34</th>\n",
       "      <td>test</td>\n",
       "      <td>Chile</td>\n",
       "      <td>4</td>\n",
       "    </tr>\n",
       "  </tbody>\n",
       "</table>\n",
       "</div>"
      ],
      "text/plain": [
       "        group      country  uid\n",
       "26  control_2       Turkey    1\n",
       "31       test    Australia    1\n",
       "41       test       Turkey    1\n",
       "16  control_2    Australia    2\n",
       "1   control_1    Australia    3\n",
       "25  control_2  Switzerland    3\n",
       "40       test  Switzerland    3\n",
       "11  control_1       Turkey    3\n",
       "10  control_1  Switzerland    3\n",
       "34       test        Chile    4"
      ]
     },
     "execution_count": 178,
     "metadata": {},
     "output_type": "execute_result"
    }
   ],
   "source": [
    "data_country.groupby(['group', 'country'], as_index=False).agg({'uid':'count'}).sort_values('uid').head(10)"
   ]
  },
  {
   "cell_type": "code",
   "execution_count": 179,
   "metadata": {},
   "outputs": [],
   "source": [
    "data_country = data_country.query('country not in [\"Turkey\", \"Australia\"]')"
   ]
  },
  {
   "cell_type": "markdown",
   "metadata": {},
   "source": [
    "Теперь при помощи бутрэпа проверим(не забываем про поправки на множественные сравнения)\n",
    "\n",
    "\\begin{equation*}\n",
    "\\begin{aligned} \n",
    "& H_0: \\text{У пользователей из одних и тех же стран medianRPPU в тестовой и контрольной группах равны}   \\\\\n",
    "& H_a: \\text{У пользователей из одних и тех же стран medianRPPU в тестовой и контрольной отличаются} \\\\\n",
    "&            \\text{и заодно выведем доверительные интервалы разницы этих различий} \n",
    "\\end{aligned}\n",
    "\\end{equation*}\n",
    "\n",
    "Выведем в таблице для укаждой страны размеры групп, p-val и доверительный интервал для сравнения тестовой группы с 1-м контролем и со вторым контролем "
   ]
  },
  {
   "cell_type": "code",
   "execution_count": 182,
   "metadata": {},
   "outputs": [],
   "source": [
    "con_t = do_boot_median(data_country, col='country', boot_it = 100000)"
   ]
  },
  {
   "cell_type": "code",
   "execution_count": 183,
   "metadata": {},
   "outputs": [
    {
     "data": {
      "text/html": [
       "<div>\n",
       "<style scoped>\n",
       "    .dataframe tbody tr th:only-of-type {\n",
       "        vertical-align: middle;\n",
       "    }\n",
       "\n",
       "    .dataframe tbody tr th {\n",
       "        vertical-align: top;\n",
       "    }\n",
       "\n",
       "    .dataframe thead th {\n",
       "        text-align: right;\n",
       "    }\n",
       "</style>\n",
       "<table border=\"1\" class=\"dataframe\">\n",
       "  <thead>\n",
       "    <tr style=\"text-align: right;\">\n",
       "      <th></th>\n",
       "      <th>country</th>\n",
       "      <th>cnt_users[c1, c2, t]</th>\n",
       "      <th>medianRPPU[c1, c2, t]</th>\n",
       "      <th>p-val [t, c1]</th>\n",
       "      <th>ci [t, c1]</th>\n",
       "      <th>p-val [t, c2]</th>\n",
       "      <th>ci [t, c2]</th>\n",
       "    </tr>\n",
       "  </thead>\n",
       "  <tbody>\n",
       "    <tr>\n",
       "      <th>0</th>\n",
       "      <td>Argentina</td>\n",
       "      <td>[12, 10, 7]</td>\n",
       "      <td>[10556.0, 10354.5, 12597.0]</td>\n",
       "      <td>0.5638</td>\n",
       "      <td>[[-4270.5], [45103.5]]</td>\n",
       "      <td>0.5638</td>\n",
       "      <td>[[-4407.0], [44791.5]]</td>\n",
       "    </tr>\n",
       "    <tr>\n",
       "      <th>1</th>\n",
       "      <td>Belgium</td>\n",
       "      <td>[4, 10, 4]</td>\n",
       "      <td>[12837.5, 9080.5, 14755.0]</td>\n",
       "      <td>0.1448</td>\n",
       "      <td>[[-2112.5], [11680.5]]</td>\n",
       "      <td>0.0278</td>\n",
       "      <td>[[-156.0], [9672.0]]</td>\n",
       "    </tr>\n",
       "    <tr>\n",
       "      <th>2</th>\n",
       "      <td>Canada</td>\n",
       "      <td>[9, 4, 6]</td>\n",
       "      <td>[9087.0, 7956.0, 11206.0]</td>\n",
       "      <td>0.4598</td>\n",
       "      <td>[[-6864.0], [9048.0]]</td>\n",
       "      <td>0.4598</td>\n",
       "      <td>[[-4062.5], [10036.0]]</td>\n",
       "    </tr>\n",
       "    <tr>\n",
       "      <th>3</th>\n",
       "      <td>Chile</td>\n",
       "      <td>[10, 11, 4]</td>\n",
       "      <td>[9945.0, 9945.0, 16620.5]</td>\n",
       "      <td>0.1189</td>\n",
       "      <td>[[-1755.0], [18518.5]]</td>\n",
       "      <td>0.1189</td>\n",
       "      <td>[[-1781.0], [18590.0]]</td>\n",
       "    </tr>\n",
       "    <tr>\n",
       "      <th>4</th>\n",
       "      <td>France</td>\n",
       "      <td>[22, 19, 13]</td>\n",
       "      <td>[6318.0, 6344.0, 16536.0]</td>\n",
       "      <td>0.0000</td>\n",
       "      <td>[[4017.0], [13851.6625]]</td>\n",
       "      <td>0.0002</td>\n",
       "      <td>[[3887.0], [14833.0]]</td>\n",
       "    </tr>\n",
       "    <tr>\n",
       "      <th>5</th>\n",
       "      <td>Germany</td>\n",
       "      <td>[5, 5, 7]</td>\n",
       "      <td>[4056.0, 12727.0, 12597.0]</td>\n",
       "      <td>0.1786</td>\n",
       "      <td>[[-1443.0], [14053.0]]</td>\n",
       "      <td>0.3881</td>\n",
       "      <td>[[-11739.0], [10088.0]]</td>\n",
       "    </tr>\n",
       "    <tr>\n",
       "      <th>6</th>\n",
       "      <td>Israel</td>\n",
       "      <td>[14, 6, 5]</td>\n",
       "      <td>[6298.5, 10588.5, 16380.0]</td>\n",
       "      <td>0.0000</td>\n",
       "      <td>[[7143.5], [14534.0]]</td>\n",
       "      <td>0.0272</td>\n",
       "      <td>[[-409.5], [15353.0]]</td>\n",
       "    </tr>\n",
       "    <tr>\n",
       "      <th>7</th>\n",
       "      <td>Italy</td>\n",
       "      <td>[17, 16, 9]</td>\n",
       "      <td>[6539.0, 6786.0, 12597.0]</td>\n",
       "      <td>0.3833</td>\n",
       "      <td>[[-5668.0], [8645.0]]</td>\n",
       "      <td>0.2370</td>\n",
       "      <td>[[-1690.0], [9295.0]]</td>\n",
       "    </tr>\n",
       "    <tr>\n",
       "      <th>8</th>\n",
       "      <td>Spain</td>\n",
       "      <td>[9, 12, 15]</td>\n",
       "      <td>[11011.0, 6331.0, 12727.0]</td>\n",
       "      <td>0.7254</td>\n",
       "      <td>[[-4719.0], [6292.0]]</td>\n",
       "      <td>0.7254</td>\n",
       "      <td>[[-4836.0], [8723.0]]</td>\n",
       "    </tr>\n",
       "    <tr>\n",
       "      <th>9</th>\n",
       "      <td>Switzerland</td>\n",
       "      <td>[3, 3, 3]</td>\n",
       "      <td>[9490.0, 10192.0, 9451.0]</td>\n",
       "      <td>0.6499</td>\n",
       "      <td>[[-10894.0], [6617.0]]</td>\n",
       "      <td>0.6499</td>\n",
       "      <td>[[-11596.0], [6500.0]]</td>\n",
       "    </tr>\n",
       "    <tr>\n",
       "      <th>10</th>\n",
       "      <td>UAE</td>\n",
       "      <td>[7, 5, 9]</td>\n",
       "      <td>[10153.0, 9516.0, 13247.0]</td>\n",
       "      <td>0.5700</td>\n",
       "      <td>[[-4030.0], [8645.0]]</td>\n",
       "      <td>0.5700</td>\n",
       "      <td>[[-4602.0], [6955.0]]</td>\n",
       "    </tr>\n",
       "    <tr>\n",
       "      <th>11</th>\n",
       "      <td>UK</td>\n",
       "      <td>[10, 10, 8]</td>\n",
       "      <td>[11583.0, 6493.5, 10419.5]</td>\n",
       "      <td>0.6001</td>\n",
       "      <td>[[-25181.0], [4368.0]]</td>\n",
       "      <td>0.6001</td>\n",
       "      <td>[[-5531.5], [8008.0]]</td>\n",
       "    </tr>\n",
       "    <tr>\n",
       "      <th>12</th>\n",
       "      <td>USA</td>\n",
       "      <td>[59, 64, 52]</td>\n",
       "      <td>[9139.0, 8950.5, 12662.0]</td>\n",
       "      <td>0.1464</td>\n",
       "      <td>[[-130.0], [3640.0]]</td>\n",
       "      <td>0.0032</td>\n",
       "      <td>[[578.5], [5310.5]]</td>\n",
       "    </tr>\n",
       "  </tbody>\n",
       "</table>\n",
       "</div>"
      ],
      "text/plain": [
       "        country cnt_users[c1, c2, t]        medianRPPU[c1, c2, t]  \\\n",
       "0     Argentina          [12, 10, 7]  [10556.0, 10354.5, 12597.0]   \n",
       "1       Belgium           [4, 10, 4]   [12837.5, 9080.5, 14755.0]   \n",
       "2        Canada            [9, 4, 6]    [9087.0, 7956.0, 11206.0]   \n",
       "3         Chile          [10, 11, 4]    [9945.0, 9945.0, 16620.5]   \n",
       "4        France         [22, 19, 13]    [6318.0, 6344.0, 16536.0]   \n",
       "5       Germany            [5, 5, 7]   [4056.0, 12727.0, 12597.0]   \n",
       "6        Israel           [14, 6, 5]   [6298.5, 10588.5, 16380.0]   \n",
       "7         Italy          [17, 16, 9]    [6539.0, 6786.0, 12597.0]   \n",
       "8         Spain          [9, 12, 15]   [11011.0, 6331.0, 12727.0]   \n",
       "9   Switzerland            [3, 3, 3]    [9490.0, 10192.0, 9451.0]   \n",
       "10          UAE            [7, 5, 9]   [10153.0, 9516.0, 13247.0]   \n",
       "11           UK          [10, 10, 8]   [11583.0, 6493.5, 10419.5]   \n",
       "12          USA         [59, 64, 52]    [9139.0, 8950.5, 12662.0]   \n",
       "\n",
       "    p-val [t, c1]                ci [t, c1]  p-val [t, c2]  \\\n",
       "0          0.5638    [[-4270.5], [45103.5]]         0.5638   \n",
       "1          0.1448    [[-2112.5], [11680.5]]         0.0278   \n",
       "2          0.4598     [[-6864.0], [9048.0]]         0.4598   \n",
       "3          0.1189    [[-1755.0], [18518.5]]         0.1189   \n",
       "4          0.0000  [[4017.0], [13851.6625]]         0.0002   \n",
       "5          0.1786    [[-1443.0], [14053.0]]         0.3881   \n",
       "6          0.0000     [[7143.5], [14534.0]]         0.0272   \n",
       "7          0.3833     [[-5668.0], [8645.0]]         0.2370   \n",
       "8          0.7254     [[-4719.0], [6292.0]]         0.7254   \n",
       "9          0.6499    [[-10894.0], [6617.0]]         0.6499   \n",
       "10         0.5700     [[-4030.0], [8645.0]]         0.5700   \n",
       "11         0.6001    [[-25181.0], [4368.0]]         0.6001   \n",
       "12         0.1464      [[-130.0], [3640.0]]         0.0032   \n",
       "\n",
       "                 ci [t, c2]  \n",
       "0    [[-4407.0], [44791.5]]  \n",
       "1      [[-156.0], [9672.0]]  \n",
       "2    [[-4062.5], [10036.0]]  \n",
       "3    [[-1781.0], [18590.0]]  \n",
       "4     [[3887.0], [14833.0]]  \n",
       "5   [[-11739.0], [10088.0]]  \n",
       "6     [[-409.5], [15353.0]]  \n",
       "7     [[-1690.0], [9295.0]]  \n",
       "8     [[-4836.0], [8723.0]]  \n",
       "9    [[-11596.0], [6500.0]]  \n",
       "10    [[-4602.0], [6955.0]]  \n",
       "11    [[-5531.5], [8008.0]]  \n",
       "12      [[578.5], [5310.5]]  "
      ]
     },
     "execution_count": 183,
     "metadata": {},
     "output_type": "execute_result"
    }
   ],
   "source": [
    "con_t"
   ]
  },
  {
   "cell_type": "markdown",
   "metadata": {},
   "source": [
    "Найдем значения p-val < 0.05"
   ]
  },
  {
   "cell_type": "code",
   "execution_count": 184,
   "metadata": {},
   "outputs": [
    {
     "data": {
      "text/html": [
       "<div>\n",
       "<style scoped>\n",
       "    .dataframe tbody tr th:only-of-type {\n",
       "        vertical-align: middle;\n",
       "    }\n",
       "\n",
       "    .dataframe tbody tr th {\n",
       "        vertical-align: top;\n",
       "    }\n",
       "\n",
       "    .dataframe thead th {\n",
       "        text-align: right;\n",
       "    }\n",
       "</style>\n",
       "<table border=\"1\" class=\"dataframe\">\n",
       "  <thead>\n",
       "    <tr style=\"text-align: right;\">\n",
       "      <th></th>\n",
       "      <th>country</th>\n",
       "      <th>cnt_users[c1, c2, t]</th>\n",
       "      <th>medianRPPU[c1, c2, t]</th>\n",
       "      <th>p-val [t, c1]</th>\n",
       "      <th>ci [t, c1]</th>\n",
       "      <th>p-val [t, c2]</th>\n",
       "      <th>ci [t, c2]</th>\n",
       "    </tr>\n",
       "  </thead>\n",
       "  <tbody>\n",
       "    <tr>\n",
       "      <th>1</th>\n",
       "      <td>Belgium</td>\n",
       "      <td>[4, 10, 4]</td>\n",
       "      <td>[12837.5, 9080.5, 14755.0]</td>\n",
       "      <td>0.1448</td>\n",
       "      <td>[[-2112.5], [11680.5]]</td>\n",
       "      <td>0.0278</td>\n",
       "      <td>[[-156.0], [9672.0]]</td>\n",
       "    </tr>\n",
       "    <tr>\n",
       "      <th>4</th>\n",
       "      <td>France</td>\n",
       "      <td>[22, 19, 13]</td>\n",
       "      <td>[6318.0, 6344.0, 16536.0]</td>\n",
       "      <td>0.0000</td>\n",
       "      <td>[[4017.0], [13851.6625]]</td>\n",
       "      <td>0.0002</td>\n",
       "      <td>[[3887.0], [14833.0]]</td>\n",
       "    </tr>\n",
       "    <tr>\n",
       "      <th>6</th>\n",
       "      <td>Israel</td>\n",
       "      <td>[14, 6, 5]</td>\n",
       "      <td>[6298.5, 10588.5, 16380.0]</td>\n",
       "      <td>0.0000</td>\n",
       "      <td>[[7143.5], [14534.0]]</td>\n",
       "      <td>0.0272</td>\n",
       "      <td>[[-409.5], [15353.0]]</td>\n",
       "    </tr>\n",
       "    <tr>\n",
       "      <th>12</th>\n",
       "      <td>USA</td>\n",
       "      <td>[59, 64, 52]</td>\n",
       "      <td>[9139.0, 8950.5, 12662.0]</td>\n",
       "      <td>0.1464</td>\n",
       "      <td>[[-130.0], [3640.0]]</td>\n",
       "      <td>0.0032</td>\n",
       "      <td>[[578.5], [5310.5]]</td>\n",
       "    </tr>\n",
       "  </tbody>\n",
       "</table>\n",
       "</div>"
      ],
      "text/plain": [
       "    country cnt_users[c1, c2, t]       medianRPPU[c1, c2, t]  p-val [t, c1]  \\\n",
       "1   Belgium           [4, 10, 4]  [12837.5, 9080.5, 14755.0]         0.1448   \n",
       "4    France         [22, 19, 13]   [6318.0, 6344.0, 16536.0]         0.0000   \n",
       "6    Israel           [14, 6, 5]  [6298.5, 10588.5, 16380.0]         0.0000   \n",
       "12      USA         [59, 64, 52]   [9139.0, 8950.5, 12662.0]         0.1464   \n",
       "\n",
       "                  ci [t, c1]  p-val [t, c2]             ci [t, c2]  \n",
       "1     [[-2112.5], [11680.5]]         0.0278   [[-156.0], [9672.0]]  \n",
       "4   [[4017.0], [13851.6625]]         0.0002  [[3887.0], [14833.0]]  \n",
       "6      [[7143.5], [14534.0]]         0.0272  [[-409.5], [15353.0]]  \n",
       "12      [[-130.0], [3640.0]]         0.0032    [[578.5], [5310.5]]  "
      ]
     },
     "execution_count": 184,
     "metadata": {},
     "output_type": "execute_result"
    }
   ],
   "source": [
    "con_t.loc[(con_t['p-val [t, c1]'] < 0.05) | (con_t['p-val [t, c2]'] < 0.05)]"
   ]
  },
  {
   "cell_type": "markdown",
   "metadata": {},
   "source": [
    "> **Делаем выводы для 5% уровне значимости:**\n",
    ">- **У пользователей в тестовой группе medianRPPU статистически значимо различается и с 1-й и со 2-й контрольной группой в следующих странах: значения больше во `France` - соответветсвенно в среднем на $[4017; 13852]$ и $[3887; 14833]$ ден. ед. и больше в `Israel` - соответвенно в среднем на $[7144; 14534]$ и $[-410; 15353]$\tден. ед.;**\n",
    ">- **У пользователей в тестовой группе medianRPPU статистически значимо различается только со 2-й контрольной группой в следующих странах: значения больше в `Belgium` - в среднем на $[-156; 9672]$ ден. ед. и больше в `USA` - среднем на $[579;  5311]$ ден. ед.;**"
   ]
  },
  {
   "cell_type": "markdown",
   "metadata": {},
   "source": [
    "### 5.6 Гипотеза о равенстве medianRPPU у пользователей одних и тех же возрастов и полов\n",
    "[Содержание](#Содержание)"
   ]
  },
  {
   "cell_type": "markdown",
   "metadata": {},
   "source": [
    "Выделим группы пользователей:"
   ]
  },
  {
   "cell_type": "code",
   "execution_count": 185,
   "metadata": {},
   "outputs": [],
   "source": [
    "data_age = data_users.query('total_revenue > 0')\n",
    "data_age['age_group'] = pd.cut(data_age.age, [0, 19, 25, 30, 35, 40, 50, 100],\n",
    "                                labels=['16-19', '20-25', '26-30', '31-35', '36-40', '41-50', '51-99'])\n",
    "data_age = data_age.astype({'age_group': 'str', 'gender':'str'})\n",
    "data_age['age_gender'] = data_age.age_group + '(' + data_age.gender + ')'\n",
    "data_age = data_age.sort_values('age_gender')"
   ]
  },
  {
   "cell_type": "markdown",
   "metadata": {},
   "source": [
    "Посмтрим на распределение для этих групп для total_revenue > 0 (без одного выброса в Italy == 486330)"
   ]
  },
  {
   "cell_type": "code",
   "execution_count": 186,
   "metadata": {},
   "outputs": [
    {
     "data": {
      "text/plain": [
       "<matplotlib.axes._subplots.AxesSubplot at 0x7f0d1dfa95f8>"
      ]
     },
     "execution_count": 186,
     "metadata": {},
     "output_type": "execute_result"
    },
    {
     "data": {
      "image/png": "[encoded data removed]",
      "text/plain": [
       "<Figure size 1152x1152 with 1 Axes>"
      ]
     },
     "metadata": {
      "needs_background": "light"
     },
     "output_type": "display_data"
    }
   ],
   "source": [
    "plt.figure(figsize=(16, 16))\n",
    "sns.boxplot(data=data_age.query('total_revenue < 400000'),\n",
    "            x='total_revenue', y='age_gender', hue='group')"
   ]
  },
  {
   "cell_type": "markdown",
   "metadata": {},
   "source": [
    "Так как при разбивке одновременно возрасту, полу и варианту группы могут остаться очень маленькие выборки, оставим те подгруппы, где в каждой из 3 групп будет не менее 3х наблюдений"
   ]
  },
  {
   "cell_type": "code",
   "execution_count": 187,
   "metadata": {},
   "outputs": [
    {
     "data": {
      "text/html": [
       "<div>\n",
       "<style scoped>\n",
       "    .dataframe tbody tr th:only-of-type {\n",
       "        vertical-align: middle;\n",
       "    }\n",
       "\n",
       "    .dataframe tbody tr th {\n",
       "        vertical-align: top;\n",
       "    }\n",
       "\n",
       "    .dataframe thead th {\n",
       "        text-align: right;\n",
       "    }\n",
       "</style>\n",
       "<table border=\"1\" class=\"dataframe\">\n",
       "  <thead>\n",
       "    <tr style=\"text-align: right;\">\n",
       "      <th></th>\n",
       "      <th>group</th>\n",
       "      <th>age_gender</th>\n",
       "      <th>uid</th>\n",
       "    </tr>\n",
       "  </thead>\n",
       "  <tbody>\n",
       "    <tr>\n",
       "      <th>24</th>\n",
       "      <td>test</td>\n",
       "      <td>31-35(0)</td>\n",
       "      <td>1</td>\n",
       "    </tr>\n",
       "    <tr>\n",
       "      <th>21</th>\n",
       "      <td>test</td>\n",
       "      <td>20-25(0)</td>\n",
       "      <td>1</td>\n",
       "    </tr>\n",
       "    <tr>\n",
       "      <th>5</th>\n",
       "      <td>control_1</td>\n",
       "      <td>36-40(0)</td>\n",
       "      <td>1</td>\n",
       "    </tr>\n",
       "    <tr>\n",
       "      <th>17</th>\n",
       "      <td>control_2</td>\n",
       "      <td>41-50(0)</td>\n",
       "      <td>1</td>\n",
       "    </tr>\n",
       "    <tr>\n",
       "      <th>11</th>\n",
       "      <td>control_2</td>\n",
       "      <td>26-30(0)</td>\n",
       "      <td>1</td>\n",
       "    </tr>\n",
       "    <tr>\n",
       "      <th>15</th>\n",
       "      <td>control_2</td>\n",
       "      <td>36-40(0)</td>\n",
       "      <td>2</td>\n",
       "    </tr>\n",
       "    <tr>\n",
       "      <th>2</th>\n",
       "      <td>control_1</td>\n",
       "      <td>26-30(0)</td>\n",
       "      <td>3</td>\n",
       "    </tr>\n",
       "    <tr>\n",
       "      <th>13</th>\n",
       "      <td>control_2</td>\n",
       "      <td>31-35(0)</td>\n",
       "      <td>3</td>\n",
       "    </tr>\n",
       "    <tr>\n",
       "      <th>20</th>\n",
       "      <td>test</td>\n",
       "      <td>16-19(1)</td>\n",
       "      <td>7</td>\n",
       "    </tr>\n",
       "    <tr>\n",
       "      <th>19</th>\n",
       "      <td>control_2</td>\n",
       "      <td>51-99(1)</td>\n",
       "      <td>7</td>\n",
       "    </tr>\n",
       "  </tbody>\n",
       "</table>\n",
       "</div>"
      ],
      "text/plain": [
       "        group age_gender  uid\n",
       "24       test   31-35(0)    1\n",
       "21       test   20-25(0)    1\n",
       "5   control_1   36-40(0)    1\n",
       "17  control_2   41-50(0)    1\n",
       "11  control_2   26-30(0)    1\n",
       "15  control_2   36-40(0)    2\n",
       "2   control_1   26-30(0)    3\n",
       "13  control_2   31-35(0)    3\n",
       "20       test   16-19(1)    7\n",
       "19  control_2   51-99(1)    7"
      ]
     },
     "execution_count": 187,
     "metadata": {},
     "output_type": "execute_result"
    }
   ],
   "source": [
    "data_age.groupby(['group', 'age_gender'], as_index=False).agg({'uid':'count'}).sort_values('uid').head(10)"
   ]
  },
  {
   "cell_type": "markdown",
   "metadata": {},
   "source": [
    "Жалко, пола 0 слишком маленькое количество, и остался только gender = 1"
   ]
  },
  {
   "cell_type": "code",
   "execution_count": 188,
   "metadata": {},
   "outputs": [],
   "source": [
    "data_age = data_age.query('age_gender not in [\"20-25(0)\", \"26-30(0)\", \"31-35(0)\", \"36-40(0)\",\"41-50(0)\"]')"
   ]
  },
  {
   "cell_type": "markdown",
   "metadata": {},
   "source": [
    "Теперь при помощи бутрэпа проверим(не забываем про поправки на множественные сравнения)\n",
    "\n",
    "\\begin{equation*}\n",
    "\\begin{aligned} \n",
    "& H_0: \\text{У пользователей из одних и тех же возрастных групп medianRPPU в тестовой и контрольной группах равны}   \\\\\n",
    "& H_a: \\text{У пользователей из одних и тех же возрастных групп medianRPPU в тестовой и контрольной отличаются} \\\\\n",
    "&            \\text{и заодно выведем доверительные интервалы разницы этих различий} \n",
    "\\end{aligned}\n",
    "\\end{equation*}\n",
    "\n",
    "Выведем в таблице для каждой возрастной группы ее размер, p-val и доверительный интервал для сравнения тестовой группы с 1-м контролем и со вторым контролем "
   ]
  },
  {
   "cell_type": "code",
   "execution_count": 189,
   "metadata": {},
   "outputs": [],
   "source": [
    "age_t = do_boot_median(data_age, col='age_gender', boot_it = 100000)"
   ]
  },
  {
   "cell_type": "code",
   "execution_count": 190,
   "metadata": {},
   "outputs": [
    {
     "data": {
      "text/html": [
       "<div>\n",
       "<style scoped>\n",
       "    .dataframe tbody tr th:only-of-type {\n",
       "        vertical-align: middle;\n",
       "    }\n",
       "\n",
       "    .dataframe tbody tr th {\n",
       "        vertical-align: top;\n",
       "    }\n",
       "\n",
       "    .dataframe thead th {\n",
       "        text-align: right;\n",
       "    }\n",
       "</style>\n",
       "<table border=\"1\" class=\"dataframe\">\n",
       "  <thead>\n",
       "    <tr style=\"text-align: right;\">\n",
       "      <th></th>\n",
       "      <th>age_gender</th>\n",
       "      <th>cnt_users[c1, c2, t]</th>\n",
       "      <th>medianRPPU[c1, c2, t]</th>\n",
       "      <th>p-val [t, c1]</th>\n",
       "      <th>ci [t, c1]</th>\n",
       "      <th>p-val [t, c2]</th>\n",
       "      <th>ci [t, c2]</th>\n",
       "    </tr>\n",
       "  </thead>\n",
       "  <tbody>\n",
       "    <tr>\n",
       "      <th>0</th>\n",
       "      <td>16-19(1)</td>\n",
       "      <td>[9, 12, 7]</td>\n",
       "      <td>[9087.0, 7696.0, 12727.0]</td>\n",
       "      <td>0.1265</td>\n",
       "      <td>[[-1300.0], [10985.0]]</td>\n",
       "      <td>0.0840</td>\n",
       "      <td>[[-19.5], [9080.5]]</td>\n",
       "    </tr>\n",
       "    <tr>\n",
       "      <th>1</th>\n",
       "      <td>20-25(1)</td>\n",
       "      <td>[53, 43, 29]</td>\n",
       "      <td>[10075.0, 6292.0, 12597.0]</td>\n",
       "      <td>0.0367</td>\n",
       "      <td>[[-208.0], [5837.0]]</td>\n",
       "      <td>0.0026</td>\n",
       "      <td>[[1872.0], [7995.0]]</td>\n",
       "    </tr>\n",
       "    <tr>\n",
       "      <th>2</th>\n",
       "      <td>26-30(1)</td>\n",
       "      <td>[47, 49, 24]</td>\n",
       "      <td>[7722.0, 6461.0, 12597.0]</td>\n",
       "      <td>0.1085</td>\n",
       "      <td>[[-923.0], [6305.0]]</td>\n",
       "      <td>0.1085</td>\n",
       "      <td>[[-676.0], [6396.0]]</td>\n",
       "    </tr>\n",
       "    <tr>\n",
       "      <th>3</th>\n",
       "      <td>31-35(1)</td>\n",
       "      <td>[25, 20, 33]</td>\n",
       "      <td>[9087.0, 9301.5, 12727.0]</td>\n",
       "      <td>0.0243</td>\n",
       "      <td>[[52.0], [7995.0]]</td>\n",
       "      <td>0.2973</td>\n",
       "      <td>[[-3991.0], [5473.0]]</td>\n",
       "    </tr>\n",
       "    <tr>\n",
       "      <th>4</th>\n",
       "      <td>36-40(1)</td>\n",
       "      <td>[17, 20, 23]</td>\n",
       "      <td>[10075.0, 9867.0, 12597.0]</td>\n",
       "      <td>0.2977</td>\n",
       "      <td>[[-3146.0], [6851.0]]</td>\n",
       "      <td>0.2977</td>\n",
       "      <td>[[-2249.0], [6955.0]]</td>\n",
       "    </tr>\n",
       "    <tr>\n",
       "      <th>5</th>\n",
       "      <td>41-50(1)</td>\n",
       "      <td>[26, 29, 19]</td>\n",
       "      <td>[10536.5, 10413.0, 12597.0]</td>\n",
       "      <td>0.5342</td>\n",
       "      <td>[[-2951.0], [5817.5]]</td>\n",
       "      <td>0.5342</td>\n",
       "      <td>[[-3029.0], [4823.0]]</td>\n",
       "    </tr>\n",
       "    <tr>\n",
       "      <th>6</th>\n",
       "      <td>51-99(1)</td>\n",
       "      <td>[10, 7, 9]</td>\n",
       "      <td>[9113.0, 13208.0, 12727.0]</td>\n",
       "      <td>0.2109</td>\n",
       "      <td>[[-1878.5], [8443.5]]</td>\n",
       "      <td>0.4643</td>\n",
       "      <td>[[-10478.0], [8853.0]]</td>\n",
       "    </tr>\n",
       "  </tbody>\n",
       "</table>\n",
       "</div>"
      ],
      "text/plain": [
       "  age_gender cnt_users[c1, c2, t]        medianRPPU[c1, c2, t]  p-val [t, c1]  \\\n",
       "0   16-19(1)           [9, 12, 7]    [9087.0, 7696.0, 12727.0]         0.1265   \n",
       "1   20-25(1)         [53, 43, 29]   [10075.0, 6292.0, 12597.0]         0.0367   \n",
       "2   26-30(1)         [47, 49, 24]    [7722.0, 6461.0, 12597.0]         0.1085   \n",
       "3   31-35(1)         [25, 20, 33]    [9087.0, 9301.5, 12727.0]         0.0243   \n",
       "4   36-40(1)         [17, 20, 23]   [10075.0, 9867.0, 12597.0]         0.2977   \n",
       "5   41-50(1)         [26, 29, 19]  [10536.5, 10413.0, 12597.0]         0.5342   \n",
       "6   51-99(1)           [10, 7, 9]   [9113.0, 13208.0, 12727.0]         0.2109   \n",
       "\n",
       "               ci [t, c1]  p-val [t, c2]              ci [t, c2]  \n",
       "0  [[-1300.0], [10985.0]]         0.0840     [[-19.5], [9080.5]]  \n",
       "1    [[-208.0], [5837.0]]         0.0026    [[1872.0], [7995.0]]  \n",
       "2    [[-923.0], [6305.0]]         0.1085    [[-676.0], [6396.0]]  \n",
       "3      [[52.0], [7995.0]]         0.2973   [[-3991.0], [5473.0]]  \n",
       "4   [[-3146.0], [6851.0]]         0.2977   [[-2249.0], [6955.0]]  \n",
       "5   [[-2951.0], [5817.5]]         0.5342   [[-3029.0], [4823.0]]  \n",
       "6   [[-1878.5], [8443.5]]         0.4643  [[-10478.0], [8853.0]]  "
      ]
     },
     "execution_count": 190,
     "metadata": {},
     "output_type": "execute_result"
    }
   ],
   "source": [
    "age_t"
   ]
  },
  {
   "cell_type": "code",
   "execution_count": 191,
   "metadata": {},
   "outputs": [
    {
     "data": {
      "text/html": [
       "<div>\n",
       "<style scoped>\n",
       "    .dataframe tbody tr th:only-of-type {\n",
       "        vertical-align: middle;\n",
       "    }\n",
       "\n",
       "    .dataframe tbody tr th {\n",
       "        vertical-align: top;\n",
       "    }\n",
       "\n",
       "    .dataframe thead th {\n",
       "        text-align: right;\n",
       "    }\n",
       "</style>\n",
       "<table border=\"1\" class=\"dataframe\">\n",
       "  <thead>\n",
       "    <tr style=\"text-align: right;\">\n",
       "      <th></th>\n",
       "      <th>age_gender</th>\n",
       "      <th>cnt_users[c1, c2, t]</th>\n",
       "      <th>medianRPPU[c1, c2, t]</th>\n",
       "      <th>p-val [t, c1]</th>\n",
       "      <th>ci [t, c1]</th>\n",
       "      <th>p-val [t, c2]</th>\n",
       "      <th>ci [t, c2]</th>\n",
       "    </tr>\n",
       "  </thead>\n",
       "  <tbody>\n",
       "    <tr>\n",
       "      <th>1</th>\n",
       "      <td>20-25(1)</td>\n",
       "      <td>[53, 43, 29]</td>\n",
       "      <td>[10075.0, 6292.0, 12597.0]</td>\n",
       "      <td>0.0367</td>\n",
       "      <td>[[-208.0], [5837.0]]</td>\n",
       "      <td>0.0026</td>\n",
       "      <td>[[1872.0], [7995.0]]</td>\n",
       "    </tr>\n",
       "    <tr>\n",
       "      <th>3</th>\n",
       "      <td>31-35(1)</td>\n",
       "      <td>[25, 20, 33]</td>\n",
       "      <td>[9087.0, 9301.5, 12727.0]</td>\n",
       "      <td>0.0243</td>\n",
       "      <td>[[52.0], [7995.0]]</td>\n",
       "      <td>0.2973</td>\n",
       "      <td>[[-3991.0], [5473.0]]</td>\n",
       "    </tr>\n",
       "  </tbody>\n",
       "</table>\n",
       "</div>"
      ],
      "text/plain": [
       "  age_gender cnt_users[c1, c2, t]       medianRPPU[c1, c2, t]  p-val [t, c1]  \\\n",
       "1   20-25(1)         [53, 43, 29]  [10075.0, 6292.0, 12597.0]         0.0367   \n",
       "3   31-35(1)         [25, 20, 33]   [9087.0, 9301.5, 12727.0]         0.0243   \n",
       "\n",
       "             ci [t, c1]  p-val [t, c2]             ci [t, c2]  \n",
       "1  [[-208.0], [5837.0]]         0.0026   [[1872.0], [7995.0]]  \n",
       "3    [[52.0], [7995.0]]         0.2973  [[-3991.0], [5473.0]]  "
      ]
     },
     "execution_count": 191,
     "metadata": {},
     "output_type": "execute_result"
    }
   ],
   "source": [
    "age_t.loc[(age_t['p-val [t, c1]'] < 0.05) | (age_t['p-val [t, c2]'] < 0.05)]"
   ]
  },
  {
   "cell_type": "markdown",
   "metadata": {},
   "source": [
    "> **Делаем выводы для 5% уровне значимости:**\n",
    ">- **У пользователей в тестовой группе medianRPPU статистически значимо различается и с 1-й и со 2-й контрольной группой для возрастной категории 20-25 лет - тестовые значения больше в среднем на соответветсвенно $[-208; 5837]$ и $[1872; 7995]$ ден. ед.;**\n",
    ">- **У пользователей в тестовой группе medianRPPU статистически значимо различается только с 1-й контрольной группой в возрастной категории 31-35 - тестовые значения больше в среднем на $[52; 7995]$ ден. ед.**"
   ]
  },
  {
   "cell_type": "markdown",
   "metadata": {},
   "source": [
    "### 5.7 Гипотеза о равенстве medianRPPU у users с одинаковым количеством дней заходов в приложение\n",
    "[Содержание](#Содержание)"
   ]
  },
  {
   "cell_type": "markdown",
   "metadata": {},
   "source": [
    "(+- отражает активность)"
   ]
  },
  {
   "cell_type": "markdown",
   "metadata": {},
   "source": [
    "Выделим группы пользователей:"
   ]
  },
  {
   "cell_type": "code",
   "execution_count": 192,
   "metadata": {},
   "outputs": [],
   "source": [
    "data_days = data_users.query('total_revenue > 0')\n",
    "data_days['group_days'] = pd.cut(data_days.cnt_visit_days, [-1, 0.5, 3, 7.5, 14.5, 21.5, 31],\n",
    "                                labels=['0', '1-3', '4-7', '8-14', '15-21', '22-31'])\n",
    "\n",
    "data_days = data_days.sort_values('group_days')"
   ]
  },
  {
   "cell_type": "markdown",
   "metadata": {},
   "source": [
    "Посмтрим на распределение для этих групп для total_revenue > 0 (без одного выброса в Italy == 486330)"
   ]
  },
  {
   "cell_type": "code",
   "execution_count": 193,
   "metadata": {},
   "outputs": [
    {
     "data": {
      "text/plain": [
       "<matplotlib.axes._subplots.AxesSubplot at 0x7f0d1e3fd390>"
      ]
     },
     "execution_count": 193,
     "metadata": {},
     "output_type": "execute_result"
    },
    {
     "data": {
      "image/png": "[encoded data removed]",
      "text/plain": [
       "<Figure size 1152x1152 with 1 Axes>"
      ]
     },
     "metadata": {
      "needs_background": "light"
     },
     "output_type": "display_data"
    }
   ],
   "source": [
    "plt.figure(figsize=(16, 16))\n",
    "sns.boxplot(data=data_days.query('total_revenue < 400000'),\n",
    "            x='total_revenue', y='group_days', hue='group')"
   ]
  },
  {
   "cell_type": "markdown",
   "metadata": {},
   "source": [
    "Следим, чтобы не осталось слишком маленьких выборок"
   ]
  },
  {
   "cell_type": "code",
   "execution_count": 194,
   "metadata": {},
   "outputs": [
    {
     "data": {
      "text/html": [
       "<div>\n",
       "<style scoped>\n",
       "    .dataframe tbody tr th:only-of-type {\n",
       "        vertical-align: middle;\n",
       "    }\n",
       "\n",
       "    .dataframe tbody tr th {\n",
       "        vertical-align: top;\n",
       "    }\n",
       "\n",
       "    .dataframe thead th {\n",
       "        text-align: right;\n",
       "    }\n",
       "</style>\n",
       "<table border=\"1\" class=\"dataframe\">\n",
       "  <thead>\n",
       "    <tr style=\"text-align: right;\">\n",
       "      <th></th>\n",
       "      <th>group</th>\n",
       "      <th>group_days</th>\n",
       "      <th>uid</th>\n",
       "    </tr>\n",
       "  </thead>\n",
       "  <tbody>\n",
       "    <tr>\n",
       "      <th>17</th>\n",
       "      <td>test</td>\n",
       "      <td>22-31</td>\n",
       "      <td>16</td>\n",
       "    </tr>\n",
       "    <tr>\n",
       "      <th>16</th>\n",
       "      <td>test</td>\n",
       "      <td>15-21</td>\n",
       "      <td>17</td>\n",
       "    </tr>\n",
       "    <tr>\n",
       "      <th>0</th>\n",
       "      <td>control_1</td>\n",
       "      <td>0</td>\n",
       "      <td>17</td>\n",
       "    </tr>\n",
       "    <tr>\n",
       "      <th>6</th>\n",
       "      <td>control_2</td>\n",
       "      <td>0</td>\n",
       "      <td>18</td>\n",
       "    </tr>\n",
       "    <tr>\n",
       "      <th>11</th>\n",
       "      <td>control_2</td>\n",
       "      <td>22-31</td>\n",
       "      <td>18</td>\n",
       "    </tr>\n",
       "  </tbody>\n",
       "</table>\n",
       "</div>"
      ],
      "text/plain": [
       "        group group_days  uid\n",
       "17       test      22-31   16\n",
       "16       test      15-21   17\n",
       "0   control_1          0   17\n",
       "6   control_2          0   18\n",
       "11  control_2      22-31   18"
      ]
     },
     "execution_count": 194,
     "metadata": {},
     "output_type": "execute_result"
    }
   ],
   "source": [
    "data_days.groupby(['group', 'group_days'], as_index=False).agg({'uid':'count'}).sort_values('uid').head()"
   ]
  },
  {
   "cell_type": "markdown",
   "metadata": {},
   "source": [
    "Теперь при помощи бутрэпа проверим \n",
    "\n",
    "\\begin{equation*}\n",
    "\\begin{aligned} \n",
    "& H_0: \\text{У пользователей с одинаковым кол-вом дней заходов в приложение medianRPPU в тестовой и контрольной группах равны}   \\\\\n",
    "& H_a: \\text{У этих же пользователей medianRPPU в тестовой и контрольной отличаются} \\\\\n",
    "&            \\text{и заодно выведем доверительные интервалы разницы этих различий} \n",
    "\\end{aligned}\n",
    "\\end{equation*}\n",
    "\n",
    "Выведем в таблице для каждой возрастной группы ее размер, p-val и доверительный интервал для сравнения тестовой группы с 1-м контролем и со вторым контролем "
   ]
  },
  {
   "cell_type": "code",
   "execution_count": 199,
   "metadata": {},
   "outputs": [],
   "source": [
    "days_b = do_boot_median(data_days, col='group_days', boot_it = 100000)"
   ]
  },
  {
   "cell_type": "code",
   "execution_count": 201,
   "metadata": {},
   "outputs": [
    {
     "data": {
      "text/html": [
       "<div>\n",
       "<style scoped>\n",
       "    .dataframe tbody tr th:only-of-type {\n",
       "        vertical-align: middle;\n",
       "    }\n",
       "\n",
       "    .dataframe tbody tr th {\n",
       "        vertical-align: top;\n",
       "    }\n",
       "\n",
       "    .dataframe thead th {\n",
       "        text-align: right;\n",
       "    }\n",
       "</style>\n",
       "<table border=\"1\" class=\"dataframe\">\n",
       "  <thead>\n",
       "    <tr style=\"text-align: right;\">\n",
       "      <th></th>\n",
       "      <th>group_days</th>\n",
       "      <th>cnt_users[c1, c2, t]</th>\n",
       "      <th>medianRPPU[c1, c2, t]</th>\n",
       "      <th>p-val [t, c1]</th>\n",
       "      <th>ci [t, c1]</th>\n",
       "      <th>p-val [t, c2]</th>\n",
       "      <th>ci [t, c2]</th>\n",
       "    </tr>\n",
       "  </thead>\n",
       "  <tbody>\n",
       "    <tr>\n",
       "      <th>0</th>\n",
       "      <td>0</td>\n",
       "      <td>[17, 18, 19]</td>\n",
       "      <td>[9087.0, 8320.0, 12727.0]</td>\n",
       "      <td>0.0884</td>\n",
       "      <td>[[-156.0], [6526.0]]</td>\n",
       "      <td>0.0884</td>\n",
       "      <td>[[-52.0], [6435.0]]</td>\n",
       "    </tr>\n",
       "    <tr>\n",
       "      <th>1</th>\n",
       "      <td>1-3</td>\n",
       "      <td>[45, 46, 31]</td>\n",
       "      <td>[9139.0, 6292.0, 12597.0]</td>\n",
       "      <td>0.1436</td>\n",
       "      <td>[[-767.0], [3367.0]]</td>\n",
       "      <td>0.0561</td>\n",
       "      <td>[[0.0], [6142.5]]</td>\n",
       "    </tr>\n",
       "    <tr>\n",
       "      <th>2</th>\n",
       "      <td>4-7</td>\n",
       "      <td>[33, 30, 24]</td>\n",
       "      <td>[9490.0, 10354.5, 12727.0]</td>\n",
       "      <td>0.1421</td>\n",
       "      <td>[[-650.0], [8125.0]]</td>\n",
       "      <td>0.1592</td>\n",
       "      <td>[[-2398.5], [7208.5]]</td>\n",
       "    </tr>\n",
       "    <tr>\n",
       "      <th>3</th>\n",
       "      <td>8-14</td>\n",
       "      <td>[45, 41, 39]</td>\n",
       "      <td>[9087.0, 6461.0, 12597.0]</td>\n",
       "      <td>0.0662</td>\n",
       "      <td>[[-845.0], [6097.0]]</td>\n",
       "      <td>0.0200</td>\n",
       "      <td>[[377.0], [7436.0]]</td>\n",
       "    </tr>\n",
       "    <tr>\n",
       "      <th>4</th>\n",
       "      <td>15-21</td>\n",
       "      <td>[31, 34, 17]</td>\n",
       "      <td>[10686.0, 9301.5, 15392.0]</td>\n",
       "      <td>0.0170</td>\n",
       "      <td>[[507.0], [10283.0]]</td>\n",
       "      <td>0.0066</td>\n",
       "      <td>[[1508.0], [8814.1625]]</td>\n",
       "    </tr>\n",
       "    <tr>\n",
       "      <th>5</th>\n",
       "      <td>22-31</td>\n",
       "      <td>[20, 18, 16]</td>\n",
       "      <td>[12818.0, 12623.0, 15060.5]</td>\n",
       "      <td>0.3913</td>\n",
       "      <td>[[-3601.0], [15580.5]]</td>\n",
       "      <td>0.3913</td>\n",
       "      <td>[[-3874.0], [17186.0]]</td>\n",
       "    </tr>\n",
       "  </tbody>\n",
       "</table>\n",
       "</div>"
      ],
      "text/plain": [
       "  group_days cnt_users[c1, c2, t]        medianRPPU[c1, c2, t]  p-val [t, c1]  \\\n",
       "0          0         [17, 18, 19]    [9087.0, 8320.0, 12727.0]         0.0884   \n",
       "1        1-3         [45, 46, 31]    [9139.0, 6292.0, 12597.0]         0.1436   \n",
       "2        4-7         [33, 30, 24]   [9490.0, 10354.5, 12727.0]         0.1421   \n",
       "3       8-14         [45, 41, 39]    [9087.0, 6461.0, 12597.0]         0.0662   \n",
       "4      15-21         [31, 34, 17]   [10686.0, 9301.5, 15392.0]         0.0170   \n",
       "5      22-31         [20, 18, 16]  [12818.0, 12623.0, 15060.5]         0.3913   \n",
       "\n",
       "               ci [t, c1]  p-val [t, c2]               ci [t, c2]  \n",
       "0    [[-156.0], [6526.0]]         0.0884      [[-52.0], [6435.0]]  \n",
       "1    [[-767.0], [3367.0]]         0.0561        [[0.0], [6142.5]]  \n",
       "2    [[-650.0], [8125.0]]         0.1592    [[-2398.5], [7208.5]]  \n",
       "3    [[-845.0], [6097.0]]         0.0200      [[377.0], [7436.0]]  \n",
       "4    [[507.0], [10283.0]]         0.0066  [[1508.0], [8814.1625]]  \n",
       "5  [[-3601.0], [15580.5]]         0.3913   [[-3874.0], [17186.0]]  "
      ]
     },
     "execution_count": 201,
     "metadata": {},
     "output_type": "execute_result"
    }
   ],
   "source": [
    "days_b"
   ]
  },
  {
   "cell_type": "code",
   "execution_count": 202,
   "metadata": {},
   "outputs": [
    {
     "data": {
      "text/html": [
       "<div>\n",
       "<style scoped>\n",
       "    .dataframe tbody tr th:only-of-type {\n",
       "        vertical-align: middle;\n",
       "    }\n",
       "\n",
       "    .dataframe tbody tr th {\n",
       "        vertical-align: top;\n",
       "    }\n",
       "\n",
       "    .dataframe thead th {\n",
       "        text-align: right;\n",
       "    }\n",
       "</style>\n",
       "<table border=\"1\" class=\"dataframe\">\n",
       "  <thead>\n",
       "    <tr style=\"text-align: right;\">\n",
       "      <th></th>\n",
       "      <th>group_days</th>\n",
       "      <th>cnt_users[c1, c2, t]</th>\n",
       "      <th>medianRPPU[c1, c2, t]</th>\n",
       "      <th>p-val [t, c1]</th>\n",
       "      <th>ci [t, c1]</th>\n",
       "      <th>p-val [t, c2]</th>\n",
       "      <th>ci [t, c2]</th>\n",
       "    </tr>\n",
       "  </thead>\n",
       "  <tbody>\n",
       "    <tr>\n",
       "      <th>3</th>\n",
       "      <td>8-14</td>\n",
       "      <td>[45, 41, 39]</td>\n",
       "      <td>[9087.0, 6461.0, 12597.0]</td>\n",
       "      <td>0.0662</td>\n",
       "      <td>[[-845.0], [6097.0]]</td>\n",
       "      <td>0.0200</td>\n",
       "      <td>[[377.0], [7436.0]]</td>\n",
       "    </tr>\n",
       "    <tr>\n",
       "      <th>4</th>\n",
       "      <td>15-21</td>\n",
       "      <td>[31, 34, 17]</td>\n",
       "      <td>[10686.0, 9301.5, 15392.0]</td>\n",
       "      <td>0.0170</td>\n",
       "      <td>[[507.0], [10283.0]]</td>\n",
       "      <td>0.0066</td>\n",
       "      <td>[[1508.0], [8814.1625]]</td>\n",
       "    </tr>\n",
       "  </tbody>\n",
       "</table>\n",
       "</div>"
      ],
      "text/plain": [
       "  group_days cnt_users[c1, c2, t]       medianRPPU[c1, c2, t]  p-val [t, c1]  \\\n",
       "3       8-14         [45, 41, 39]   [9087.0, 6461.0, 12597.0]         0.0662   \n",
       "4      15-21         [31, 34, 17]  [10686.0, 9301.5, 15392.0]         0.0170   \n",
       "\n",
       "             ci [t, c1]  p-val [t, c2]               ci [t, c2]  \n",
       "3  [[-845.0], [6097.0]]         0.0200      [[377.0], [7436.0]]  \n",
       "4  [[507.0], [10283.0]]         0.0066  [[1508.0], [8814.1625]]  "
      ]
     },
     "execution_count": 202,
     "metadata": {},
     "output_type": "execute_result"
    }
   ],
   "source": [
    "days_b.loc[(days_b['p-val [t, c1]'] < 0.05) | (days_b['p-val [t, c2]'] < 0.05)]"
   ]
  },
  {
   "cell_type": "markdown",
   "metadata": {},
   "source": [
    "> **Делаем выводы для 5% уровне значимости:**\n",
    ">- **У пользователей в тестовой группе medianRPPU статистически значимо различается и с 1-й и со 2-й контрольной группой для категории пользователей, заходящих в приложение в первый месяц после регистрации 15-21 день - тестовые значения больше в среднем на соответветсвенно $[507; 10283]$ и $[1508; 8814]$ ден. ед.;**\n",
    ">- **У пользователей в тестовой группе medianRPPU статистически значимо различается только со 2-й контрольной группой для категории пользователей, заходящих в приложение в первый месяц после регистрации 8-14 дней - тестовые значения больше в среднем на $[377; 7436]$ ден. ед.**"
   ]
  },
  {
   "cell_type": "markdown",
   "metadata": {},
   "source": [
    "# 6. Итоги и выводы"
   ]
  },
  {
   "cell_type": "markdown",
   "metadata": {},
   "source": [
    "После исследования структуры и наполнения данных, проведя оценку качества сплитования и протестировав несколько гипоетз, мы можем сделать вывод об успешности нововведений в дейтинговом приложении. После изменения стоимости премиум подписки для новых пользователей из нескольких стран мы, видим статистически значимое увеличение одной из ключевых наших метрик - в тестовой группе по сравнению с обеими контрольными вырос medianRPPU:\n",
    ">- *В тестовой группе medianRPPU выше чем в 1-й контрольной группе в среднем на $[936; 3952]$ ден. единиц;*\n",
    ">- *В тестовой группе medianRPPU выше чем во 2-й контрольной группе в среднем на $[1664; 5031]$ ден. единиц.*\n",
    "\n",
    "При этом наблюдаем так же статистически значимое увеличение медианного дохода с премиум-подписки:\n",
    ">- *В тестовой группе медианный доход с оформления подписок выше чем в 1-й контрольной группе в среднем на $[1625; 3048]$ ден. единиц;*\n",
    ">- *В тестовой группе медианный доход с оформления подписок выше чем во 2-й контрольной группе в среднем на $[1534; 2925]$ ден. единиц.*\n",
    "\n",
    "Одноврменно с этим CR в продление подписки значимо уменьшился по сравнению с сontrol_1 в среднем на $[1.12; 14.84]$ процентных пункта(статистически значимых различий с сontrol_1 не обнаружено), однако обычная конверсия в подписку значимо не изменилась.\n",
    "\n",
    "Анализируя целесообразность введение новинки для конкрентых групп пользователей отметим некоторые найденные инетерсные закономерности: medianRPPU статистически значимо вырос по сравнению с одной или обоими сразу контрольными группами:\n",
    ">- *У пользователей из Франции, Израиля, Бельгии и США*\n",
    ">- *У пользователей возрастной категории 20-25 и 31-35*\n",
    ">- *У пользователей заходящих в приложение в первый месяц после регистрации 15-21 дней и 8-14 дней*\n",
    "\n",
    "Соответвенно для пользователей, чей медианный доход статистически значимо увеличился, изменения доказано целесообразны\n",
    "\n",
    "Также нельзя не отметить, что на будущее команде приложения следуе тобратить внимание на исправление ошибок в системе сбора и хранения данных, чтобы устранить нижеперечисленные проблемы, которые пришлось дорабатывать вручную:\n",
    "0. Отсутвие в таблицах users данных о некоторых транзакциях - нарушение согласованности данных - надо срочно чинить\n",
    "1. Наличие пустых строк в transactions_control_1 - скорее всего какой-то баг, но возможно, что какие-то данные потерялись\n",
    "2. Наличие дубликатов в таблицах транзакций - избавиться от них не сложно, но вот хранить лишнюю информацию точно не стоит\n",
    "3. Несоблюдение равенства временных рамок эксперимента - хорошо, что заметил и пользователей за рамками было не много "
   ]
  },
  {
   "cell_type": "markdown",
   "metadata": {},
   "source": [
    "[Содержание](#Содержание)"
   ]
  }
 ],
 "metadata": {
  "kernelspec": {
   "display_name": "Python 3 (ipykernel)",
   "language": "python",
   "name": "python3"
  },
  "language_info": {
   "codemirror_mode": {
    "name": "ipython",
    "version": 3
   },
   "file_extension": ".py",
   "mimetype": "text/x-python",
   "name": "python",
   "nbconvert_exporter": "python",
   "pygments_lexer": "ipython3",
   "version": "3.9.7"
  }
 },
 "nbformat": 4,
 "nbformat_minor": 4
}
